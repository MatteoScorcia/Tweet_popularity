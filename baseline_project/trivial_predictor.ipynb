{
 "cells": [
  {
   "cell_type": "code",
   "execution_count": 1,
   "metadata": {},
   "outputs": [],
   "source": [
    "import pandas as pd"
   ]
  },
  {
   "cell_type": "code",
   "execution_count": 2,
   "metadata": {},
   "outputs": [],
   "source": [
    "df1 = pd.read_csv(\"../dataset/final_data.csv\")"
   ]
  },
  {
   "cell_type": "code",
   "execution_count": 3,
   "metadata": {},
   "outputs": [
    {
     "data": {
      "text/html": [
       "<div>\n",
       "<style scoped>\n",
       "    .dataframe tbody tr th:only-of-type {\n",
       "        vertical-align: middle;\n",
       "    }\n",
       "\n",
       "    .dataframe tbody tr th {\n",
       "        vertical-align: top;\n",
       "    }\n",
       "\n",
       "    .dataframe thead th {\n",
       "        text-align: right;\n",
       "    }\n",
       "</style>\n",
       "<table border=\"1\" class=\"dataframe\">\n",
       "  <thead>\n",
       "    <tr style=\"text-align: right;\">\n",
       "      <th></th>\n",
       "      <th>screen_name</th>\n",
       "      <th>date</th>\n",
       "      <th>text</th>\n",
       "      <th>retweet_count</th>\n",
       "      <th>favourites_count</th>\n",
       "    </tr>\n",
       "  </thead>\n",
       "  <tbody>\n",
       "    <tr>\n",
       "      <th>0</th>\n",
       "      <td>Orietta's Recipes</td>\n",
       "      <td>2020-01-17 18:09:56</td>\n",
       "      <td>Stasera cena a base di pesce! Tonno alla piast...</td>\n",
       "      <td>15</td>\n",
       "      <td>49</td>\n",
       "    </tr>\n",
       "    <tr>\n",
       "      <th>1</th>\n",
       "      <td>Orietta's Recipes</td>\n",
       "      <td>2020-01-17 11:57:39</td>\n",
       "      <td>Buon pranzo, io oggi pranzo leggero con il mio...</td>\n",
       "      <td>23</td>\n",
       "      <td>67</td>\n",
       "    </tr>\n",
       "    <tr>\n",
       "      <th>2</th>\n",
       "      <td>Orietta's Recipes</td>\n",
       "      <td>2020-01-17 07:51:15</td>\n",
       "      <td>Buongiorno e grazie ancora a tutti per gli aug...</td>\n",
       "      <td>16</td>\n",
       "      <td>85</td>\n",
       "    </tr>\n",
       "    <tr>\n",
       "      <th>3</th>\n",
       "      <td>Orietta's Recipes</td>\n",
       "      <td>2020-01-16 17:28:59</td>\n",
       "      <td>Biscotti delicati di sabbia 😋 ❤️😘🥂🥂🍾.! https:/...</td>\n",
       "      <td>25</td>\n",
       "      <td>166</td>\n",
       "    </tr>\n",
       "    <tr>\n",
       "      <th>4</th>\n",
       "      <td>Orietta's Recipes</td>\n",
       "      <td>2020-01-16 13:51:03</td>\n",
       "      <td>Oggi è il mio compleanno 🎂 🥂 ❤️ amici! Vorrei ...</td>\n",
       "      <td>45</td>\n",
       "      <td>482</td>\n",
       "    </tr>\n",
       "  </tbody>\n",
       "</table>\n",
       "</div>"
      ],
      "text/plain": [
       "         screen_name                 date  \\\n",
       "0  Orietta's Recipes  2020-01-17 18:09:56   \n",
       "1  Orietta's Recipes  2020-01-17 11:57:39   \n",
       "2  Orietta's Recipes  2020-01-17 07:51:15   \n",
       "3  Orietta's Recipes  2020-01-16 17:28:59   \n",
       "4  Orietta's Recipes  2020-01-16 13:51:03   \n",
       "\n",
       "                                                text   retweet_count  \\\n",
       "0  Stasera cena a base di pesce! Tonno alla piast...              15   \n",
       "1  Buon pranzo, io oggi pranzo leggero con il mio...              23   \n",
       "2  Buongiorno e grazie ancora a tutti per gli aug...              16   \n",
       "3  Biscotti delicati di sabbia 😋 ❤️😘🥂🥂🍾.! https:/...              25   \n",
       "4  Oggi è il mio compleanno 🎂 🥂 ❤️ amici! Vorrei ...              45   \n",
       "\n",
       "    favourites_count  \n",
       "0                 49  \n",
       "1                 67  \n",
       "2                 85  \n",
       "3                166  \n",
       "4                482  "
      ]
     },
     "execution_count": 3,
     "metadata": {},
     "output_type": "execute_result"
    }
   ],
   "source": [
    "df1.head()"
   ]
  },
  {
   "cell_type": "code",
   "execution_count": 4,
   "metadata": {},
   "outputs": [],
   "source": [
    "names = df1.screen_name.unique()"
   ]
  },
  {
   "cell_type": "code",
   "execution_count": 25,
   "metadata": {},
   "outputs": [],
   "source": [
    "subset_name = []\n",
    "subset_mean = []\n",
    "subset_std = []\n",
    "\n",
    "for index, name in enumerate(names):\n",
    "    subset_name.append(df1[df1['screen_name'] == name])\n",
    "    subset_mean.append(round(subset_name[index].mean()))\n",
    "    subset_std.append(df1[df1['screen_name'] == name].std())"
   ]
  },
  {
   "cell_type": "code",
   "execution_count": 29,
   "metadata": {},
   "outputs": [
    {
     "data": {
      "text/plain": [
       " retweet_count        2.0\n",
       " favourites_count    11.0\n",
       "dtype: float64"
      ]
     },
     "execution_count": 29,
     "metadata": {},
     "output_type": "execute_result"
    }
   ],
   "source": [
    "subset_mean[1]"
   ]
  },
  {
   "cell_type": "code",
   "execution_count": 30,
   "metadata": {},
   "outputs": [
    {
     "data": {
      "text/plain": [
       " retweet_count       2.156838\n",
       " favourites_count    7.861756\n",
       "dtype: float64"
      ]
     },
     "execution_count": 30,
     "metadata": {},
     "output_type": "execute_result"
    }
   ],
   "source": [
    "subset_std[1]"
   ]
  },
  {
   "cell_type": "code",
   "execution_count": null,
   "metadata": {},
   "outputs": [],
   "source": []
  }
 ],
 "metadata": {
  "kernelspec": {
   "display_name": "Python 3",
   "language": "python",
   "name": "python3"
  },
  "language_info": {
   "codemirror_mode": {
    "name": "ipython",
    "version": 3
   },
   "file_extension": ".py",
   "mimetype": "text/x-python",
   "name": "python",
   "nbconvert_exporter": "python",
   "pygments_lexer": "ipython3",
   "version": "3.6.9"
  }
 },
 "nbformat": 4,
 "nbformat_minor": 2
}
