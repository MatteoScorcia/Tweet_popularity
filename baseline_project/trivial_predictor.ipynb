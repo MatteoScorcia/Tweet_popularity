{
 "cells": [
  {
   "cell_type": "code",
   "execution_count": 1,
   "metadata": {},
   "outputs": [],
   "source": [
    "import pandas as pd"
   ]
  },
  {
   "cell_type": "code",
   "execution_count": 2,
   "metadata": {},
   "outputs": [],
   "source": [
    "df1 = pd.read_csv(\"../dataset/final_data.csv\")"
   ]
  },
  {
   "cell_type": "code",
   "execution_count": 12,
   "metadata": {},
   "outputs": [
    {
     "data": {
      "text/html": [
       "<div>\n",
       "<style scoped>\n",
       "    .dataframe tbody tr th:only-of-type {\n",
       "        vertical-align: middle;\n",
       "    }\n",
       "\n",
       "    .dataframe tbody tr th {\n",
       "        vertical-align: top;\n",
       "    }\n",
       "\n",
       "    .dataframe thead th {\n",
       "        text-align: right;\n",
       "    }\n",
       "</style>\n",
       "<table border=\"1\" class=\"dataframe\">\n",
       "  <thead>\n",
       "    <tr style=\"text-align: right;\">\n",
       "      <th></th>\n",
       "      <th>screen_name</th>\n",
       "      <th>date</th>\n",
       "      <th>text</th>\n",
       "      <th>retweet_count</th>\n",
       "      <th>favourites_count</th>\n",
       "    </tr>\n",
       "  </thead>\n",
       "  <tbody>\n",
       "    <tr>\n",
       "      <th>431</th>\n",
       "      <td>Pickled Plum Food and Drinks</td>\n",
       "      <td>2020-01-16 17:03:02</td>\n",
       "      <td>Detoxing isn’t just for the summer! \\nThis gre...</td>\n",
       "      <td>9</td>\n",
       "      <td>24</td>\n",
       "    </tr>\n",
       "    <tr>\n",
       "      <th>432</th>\n",
       "      <td>Pickled Plum Food and Drinks</td>\n",
       "      <td>2020-01-15 18:02:01</td>\n",
       "      <td>So easy! 😋\\nThis spicy and smoky Korean Cucumb...</td>\n",
       "      <td>18</td>\n",
       "      <td>51</td>\n",
       "    </tr>\n",
       "    <tr>\n",
       "      <th>433</th>\n",
       "      <td>Pickled Plum Food and Drinks</td>\n",
       "      <td>2020-01-15 17:03:03</td>\n",
       "      <td>Bitter melon is an integral part of this brigh...</td>\n",
       "      <td>9</td>\n",
       "      <td>21</td>\n",
       "    </tr>\n",
       "    <tr>\n",
       "      <th>434</th>\n",
       "      <td>Pickled Plum Food and Drinks</td>\n",
       "      <td>2020-01-14 18:02:02</td>\n",
       "      <td>Put dinner on the table in 15 minutes with thi...</td>\n",
       "      <td>9</td>\n",
       "      <td>30</td>\n",
       "    </tr>\n",
       "    <tr>\n",
       "      <th>435</th>\n",
       "      <td>Pickled Plum Food and Drinks</td>\n",
       "      <td>2020-01-14 17:03:05</td>\n",
       "      <td>These savory #vegetarian stuffed peppers are c...</td>\n",
       "      <td>17</td>\n",
       "      <td>45</td>\n",
       "    </tr>\n",
       "  </tbody>\n",
       "</table>\n",
       "</div>"
      ],
      "text/plain": [
       "                      screen_name                 date  \\\n",
       "431  Pickled Plum Food and Drinks  2020-01-16 17:03:02   \n",
       "432  Pickled Plum Food and Drinks  2020-01-15 18:02:01   \n",
       "433  Pickled Plum Food and Drinks  2020-01-15 17:03:03   \n",
       "434  Pickled Plum Food and Drinks  2020-01-14 18:02:02   \n",
       "435  Pickled Plum Food and Drinks  2020-01-14 17:03:05   \n",
       "\n",
       "                                                  text  retweet_count  \\\n",
       "431  Detoxing isn’t just for the summer! \\nThis gre...              9   \n",
       "432  So easy! 😋\\nThis spicy and smoky Korean Cucumb...             18   \n",
       "433  Bitter melon is an integral part of this brigh...              9   \n",
       "434  Put dinner on the table in 15 minutes with thi...              9   \n",
       "435  These savory #vegetarian stuffed peppers are c...             17   \n",
       "\n",
       "     favourites_count  \n",
       "431                24  \n",
       "432                51  \n",
       "433                21  \n",
       "434                30  \n",
       "435                45  "
      ]
     },
     "execution_count": 12,
     "metadata": {},
     "output_type": "execute_result"
    }
   ],
   "source": [
    "df1.tail()"
   ]
  },
  {
   "cell_type": "code",
   "execution_count": 14,
   "metadata": {},
   "outputs": [
    {
     "data": {
      "text/plain": [
       "array([\"Orietta's Recipes\", 'La Cucina Italiana', 'Jeanette M',\n",
       "       'The Indian Claypot', 'Cuisine Culinaire', 'Kitchen Sanctuary',\n",
       "       'Pickled Plum Food and Drinks'], dtype=object)"
      ]
     },
     "execution_count": 14,
     "metadata": {},
     "output_type": "execute_result"
    }
   ],
   "source": [
    "names = df1.screen_name.unique()\n",
    "names"
   ]
  },
  {
   "cell_type": "code",
   "execution_count": 5,
   "metadata": {},
   "outputs": [],
   "source": [
    "subset_name = []\n",
    "subset_mean = []\n",
    "subset_std = []\n",
    "\n",
    "for index, name in enumerate(names):\n",
    "    subset_name.append(df1[df1['screen_name'] == name])\n",
    "    subset_mean.append(round(subset_name[index].mean()))\n",
    "    subset_std.append(df1[df1['screen_name'] == name].std())"
   ]
  },
  {
   "cell_type": "code",
   "execution_count": 6,
   "metadata": {},
   "outputs": [
    {
     "data": {
      "text/plain": [
       "retweet_count        2.0\n",
       "favourites_count    11.0\n",
       "dtype: float64"
      ]
     },
     "execution_count": 6,
     "metadata": {},
     "output_type": "execute_result"
    }
   ],
   "source": [
    "subset_mean[1]"
   ]
  },
  {
   "cell_type": "code",
   "execution_count": 7,
   "metadata": {},
   "outputs": [
    {
     "data": {
      "text/plain": [
       "retweet_count       2.156838\n",
       "favourites_count    7.861756\n",
       "dtype: float64"
      ]
     },
     "execution_count": 7,
     "metadata": {},
     "output_type": "execute_result"
    }
   ],
   "source": [
    "subset_std[1]"
   ]
  },
  {
   "cell_type": "code",
   "execution_count": 11,
   "metadata": {},
   "outputs": [
    {
     "data": {
      "text/plain": [
       "2.0"
      ]
     },
     "execution_count": 11,
     "metadata": {},
     "output_type": "execute_result"
    }
   ],
   "source": [
    "subset_mean[1][0]"
   ]
  },
  {
   "cell_type": "code",
   "execution_count": null,
   "metadata": {},
   "outputs": [],
   "source": []
  }
 ],
 "metadata": {
  "kernelspec": {
   "display_name": "Python 3",
   "language": "python",
   "name": "python3"
  },
  "language_info": {
   "codemirror_mode": {
    "name": "ipython",
    "version": 3
   },
   "file_extension": ".py",
   "mimetype": "text/x-python",
   "name": "python",
   "nbconvert_exporter": "python",
   "pygments_lexer": "ipython3",
   "version": "3.6.9"
  }
 },
 "nbformat": 4,
 "nbformat_minor": 2
}
