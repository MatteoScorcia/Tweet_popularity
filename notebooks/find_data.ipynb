{
 "cells": [
  {
   "cell_type": "code",
   "execution_count": 6,
   "metadata": {},
   "outputs": [],
   "source": [
    "import tweepy\n",
    "import csv #Import csv\n",
    "\n",
    "with open('../credentials.txt', 'r') as credentials:\n",
    "    credentials.readline()\n",
    "    api_key = credentials.readline().rstrip()\n",
    "    api_key_secret = credentials.readline().rstrip()\n",
    "    credentials.readline()\n",
    "    access_token = credentials.readline().rstrip()\n",
    "    access_token_secret = credentials.readline().rstrip()"
   ]
  },
  {
   "cell_type": "code",
   "execution_count": 7,
   "metadata": {},
   "outputs": [],
   "source": [
    "auth = tweepy.auth.OAuthHandler(api_key, api_key_secret)\n",
    "auth.set_access_token(access_token, access_token_secret)\n",
    "\n",
    "api = tweepy.API(auth)"
   ]
  },
  {
   "cell_type": "code",
   "execution_count": 70,
   "metadata": {},
   "outputs": [],
   "source": [
    "# Open/create a file to append data to\n",
    "csvFile = open('../dataset/raw_dataset.csv', 'a', encoding=\"UTF-8\")\n",
    "\n",
    "#Use csv writer\n",
    "csvWriter = csv.writer(csvFile)\n",
    "\n",
    "tweets = []\n",
    "ratios = []\n",
    "\n",
    "for tweet in tweepy.Cursor(api.search,\n",
    "                           q = \"from:FoodizShare AND -filter:retweets AND -filter:replies\",\n",
    "                           until='2020-09-09',\n",
    "                           tweet_mode='extended').items():\n",
    "\n",
    "    tweets.append(tweet)\n",
    "\n",
    "    if tweet.user.followers_count == 0:\n",
    "        continue\n",
    "\n",
    "    ratio = (tweet.retweet_count) / tweet.user.followers_count\n",
    "    ratios.append(ratio)\n",
    "\n",
    "    # Write a row to the CSV file. I use UTF-8 encoding\n",
    "    csvWriter.writerow([tweet.user.screen_name, tweet.created_at, tweet.full_text,tweet.retweet_count, ratio])\n",
    "csvFile.close()"
   ]
  },
  {
   "cell_type": "code",
   "execution_count": 71,
   "metadata": {},
   "outputs": [
    {
     "data": {
      "text/plain": [
       "7"
      ]
     },
     "execution_count": 71,
     "metadata": {},
     "output_type": "execute_result"
    }
   ],
   "source": [
    "len(tweets)"
   ]
  },
  {
   "cell_type": "code",
   "execution_count": 72,
   "metadata": {},
   "outputs": [
    {
     "name": "stdout",
     "output_type": "stream",
     "text": [
      "2020-09-08 06:28:31 17\n",
      "2020-09-07 08:48:27 17\n",
      "2020-09-06 08:54:18 17\n",
      "2020-09-05 05:36:47 15\n",
      "2020-09-04 06:41:26 21\n",
      "2020-09-03 06:22:40 22\n",
      "2020-09-01 07:04:21 35\n"
     ]
    }
   ],
   "source": [
    "date = []\n",
    "retweet_count = []\n",
    "\n",
    "for tweet in tweets:\n",
    "    print(tweet.created_at, tweet.retweet_count)\n",
    "    date.append(tweet.created_at)\n",
    "    retweet_count.append(tweet.retweet_count)\n",
    "    "
   ]
  },
  {
   "cell_type": "code",
   "execution_count": 73,
   "metadata": {},
   "outputs": [
    {
     "data": {
      "image/png": "[encoded data removed]",
      "text/plain": [
       "<Figure size 432x288 with 1 Axes>"
      ]
     },
     "metadata": {},
     "output_type": "display_data"
    }
   ],
   "source": [
    "%matplotlib inline\n",
    "import matplotlib\n",
    "import matplotlib.pyplot as plt\n",
    "import matplotlib.dates as mdates\n",
    "\n",
    "plt.style.use('ggplot')\n",
    "plt.xlabel('date', color='black')\n",
    "plt.ylabel('retweets', color='black')\n",
    "plt.title('number of retweets for the last 7 days')\n",
    "\n",
    "plt.gca().xaxis.set_major_formatter(mdates.DateFormatter('%m/%d/%Y'))\n",
    "plt.gca().xaxis.set_major_locator(mdates.DayLocator())\n",
    "plt.scatter(date,retweet_count)\n",
    "plt.gcf().autofmt_xdate()"
   ]
  },
  {
   "cell_type": "code",
   "execution_count": null,
   "metadata": {},
   "outputs": [],
   "source": []
  }
 ],
 "metadata": {
  "kernelspec": {
   "display_name": "Python 3",
   "language": "python",
   "name": "python3"
  },
  "language_info": {
   "codemirror_mode": {
    "name": "ipython",
    "version": 3
   },
   "file_extension": ".py",
   "mimetype": "text/x-python",
   "name": "python",
   "nbconvert_exporter": "python",
   "pygments_lexer": "ipython3",
   "version": "3.8.5"
  }
 },
 "nbformat": 4,
 "nbformat_minor": 4
}
