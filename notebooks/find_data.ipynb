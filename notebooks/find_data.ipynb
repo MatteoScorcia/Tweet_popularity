{
 "cells": [
  {
   "cell_type": "code",
   "execution_count": 1,
   "metadata": {},
   "outputs": [],
   "source": [
    "import tweepy\n",
    "import csv #Import csv\n",
    "\n",
    "with open('../credentials.txt', 'r') as credentials:\n",
    "    credentials.readline()\n",
    "    api_key = credentials.readline().rstrip()\n",
    "    api_key_secret = credentials.readline().rstrip()\n",
    "    credentials.readline()\n",
    "    access_token = credentials.readline().rstrip()\n",
    "    access_token_secret = credentials.readline().rstrip()"
   ]
  },
  {
   "cell_type": "code",
   "execution_count": 2,
   "metadata": {},
   "outputs": [],
   "source": [
    "auth = tweepy.auth.OAuthHandler(api_key, api_key_secret)\n",
    "auth.set_access_token(access_token, access_token_secret)\n",
    "\n",
    "api = tweepy.API(auth)"
   ]
  },
  {
   "cell_type": "code",
   "execution_count": 3,
   "metadata": {},
   "outputs": [
    {
     "name": "stdout",
     "output_type": "stream",
     "text": [
      "[2.0117000474761212e-05, 3.2187200759617937e-05, 2.4140400569713452e-05, 3.2187200759617937e-05, 4.0234000949522424e-05, 4.0234000949522424e-05, 1.6093600379808968e-05, 5.230420123437915e-05, 4.0234000949522424e-05, 2.0117000474761212e-05, 3.621060085457018e-05, 3.2187200759617937e-05, 3.2187200759617937e-05, 3.621060085457018e-05, 4.8280801139426905e-05, 4.8280801139426905e-05, 8.046800189904484e-06, 2.0117000474761212e-05, 1.6093600379808968e-05, 2.4140400569713452e-05, 2.4140400569713452e-05, 1.2070200284856726e-05, 2.0117000474761212e-05, 2.8163800664665696e-05, 8.046800189904484e-06, 1.2070200284856726e-05, 6.0351001424283636e-05, 1.6093600379808968e-05, 6.0351001424283636e-05, 1.6093600379808968e-05, 1.6093600379808968e-05, 1.2070200284856726e-05, 1.2070200284856726e-05, 2.0117000474761212e-05, 3.2187200759617937e-05, 4.0234000949522424e-05, 3.2187200759617937e-05, 2.0117000474761212e-05, 1.2070200284856726e-05, 1.6093600379808968e-05, 3.2187200759617937e-05, 2.0117000474761212e-05, 2.4140400569713452e-05, 6.437440151923587e-05, 2.8163800664665696e-05, 2.8163800664665696e-05, 2.4140400569713452e-05, 1.2070200284856726e-05, 2.4140400569713452e-05, 1.2070200284856726e-05, 2.0117000474761212e-05, 1.6093600379808968e-05, 3.621060085457018e-05, 4.023400094952242e-06, 8.046800189904484e-06, 3.2187200759617937e-05, 0.00012472540294351952, 2.4140400569713452e-05, 2.8163800664665696e-05, 2.8163800664665696e-05, 0.0, 1.2070200284856726e-05, 8.046800189904484e-06, 4.425740104447467e-05, 4.0234000949522424e-05, 8.046800189904484e-06, 8.046800189904484e-06, 1.6093600379808968e-05, 2.8163800664665696e-05, 1.6093600379808968e-05, 1.2070200284856726e-05, 3.2187200759617937e-05, 5.632760132933139e-05, 1.6093600379808968e-05, 4.0234000949522424e-05, 2.0117000474761212e-05, 2.0117000474761212e-05, 4.425740104447467e-05, 4.023400094952242e-06, 4.425740104447467e-05, 1.6093600379808968e-05]\n"
     ]
    }
   ],
   "source": [
    "# Open/create a file to append data to\n",
    "csvFile = open('../dataset/prova.csv', 'a', encoding=\"UTF-8\")\n",
    "\n",
    "#Use csv writer\n",
    "csvWriter = csv.writer(csvFile)\n",
    "\n",
    "tweets = []\n",
    "ratios = []\n",
    "\n",
    "for tweet in tweepy.Cursor(api.search,\n",
    "                           q = \"from:deliciousmag AND -filter:retweets AND -filter:replies\",\n",
    "                           until='2020-01-28',\n",
    "                           tweet_mode='extended').items():\n",
    "\n",
    "    tweets.append(tweet)\n",
    "\n",
    "    if tweet.user.followers_count == 0:\n",
    "        continue\n",
    "\n",
    "    ratio = (tweet.retweet_count) / tweet.user.followers_count\n",
    "    ratios.append(ratio)\n",
    "\n",
    "    # Write a row to the CSV file. I use encode UTF-8\n",
    "    csvWriter.writerow([tweet.user.screen_name, tweet.created_at, tweet.full_text,tweet.retweet_count, ratio])\n",
    "csvFile.close()\n",
    "\n",
    "print(ratios)"
   ]
  },
  {
   "cell_type": "code",
   "execution_count": 4,
   "metadata": {},
   "outputs": [
    {
     "data": {
      "text/plain": [
       "81"
      ]
     },
     "execution_count": 4,
     "metadata": {},
     "output_type": "execute_result"
    }
   ],
   "source": [
    "len(tweets)"
   ]
  },
  {
   "cell_type": "code",
   "execution_count": 5,
   "metadata": {
    "scrolled": false
   },
   "outputs": [
    {
     "name": "stdout",
     "output_type": "stream",
     "text": [
      "2020-01-27 18:00:00 5\n",
      "2020-01-27 17:00:00 8\n",
      "2020-01-27 16:00:00 6\n",
      "2020-01-27 15:00:00 8\n",
      "2020-01-27 14:00:01 10\n",
      "2020-01-27 13:00:00 10\n",
      "2020-01-27 12:00:00 4\n",
      "2020-01-27 11:00:00 13\n",
      "2020-01-27 10:00:00 10\n",
      "2020-01-27 09:00:01 5\n",
      "2020-01-27 08:00:00 9\n",
      "2020-01-26 18:00:01 8\n",
      "2020-01-26 17:00:00 8\n",
      "2020-01-26 16:00:00 9\n",
      "2020-01-26 15:00:00 12\n",
      "2020-01-26 14:00:00 12\n",
      "2020-01-26 13:00:00 2\n",
      "2020-01-26 12:00:00 5\n",
      "2020-01-26 11:00:00 4\n",
      "2020-01-26 10:00:00 6\n",
      "2020-01-26 09:00:00 6\n",
      "2020-01-26 08:00:00 3\n",
      "2020-01-25 18:00:00 5\n",
      "2020-01-25 17:00:00 7\n",
      "2020-01-25 16:00:01 2\n",
      "2020-01-25 15:00:00 3\n",
      "2020-01-25 14:00:01 15\n",
      "2020-01-25 13:25:00 4\n",
      "2020-01-25 13:00:00 15\n",
      "2020-01-25 12:00:00 4\n",
      "2020-01-25 11:00:01 4\n",
      "2020-01-25 10:00:01 3\n",
      "2020-01-25 09:00:00 3\n",
      "2020-01-25 08:00:00 5\n",
      "2020-01-24 18:00:00 8\n",
      "2020-01-24 17:00:01 10\n",
      "2020-01-24 16:00:01 8\n",
      "2020-01-24 15:34:01 5\n",
      "2020-01-24 15:00:01 3\n",
      "2020-01-24 14:00:00 4\n",
      "2020-01-24 13:00:00 8\n",
      "2020-01-24 12:00:01 5\n",
      "2020-01-24 11:00:00 6\n",
      "2020-01-24 10:00:00 16\n",
      "2020-01-24 09:00:00 7\n",
      "2020-01-24 08:00:00 7\n",
      "2020-01-23 18:00:00 6\n",
      "2020-01-23 17:00:01 3\n",
      "2020-01-23 16:00:00 6\n",
      "2020-01-23 15:00:01 3\n",
      "2020-01-23 14:09:40 5\n",
      "2020-01-23 14:00:00 4\n",
      "2020-01-23 13:00:00 9\n",
      "2020-01-23 11:00:00 1\n",
      "2020-01-23 10:35:45 2\n",
      "2020-01-23 10:00:00 8\n",
      "2020-01-23 09:00:00 31\n",
      "2020-01-23 08:00:00 6\n",
      "2020-01-22 18:00:00 7\n",
      "2020-01-22 17:00:01 7\n",
      "2020-01-22 16:00:00 0\n",
      "2020-01-22 15:00:01 3\n",
      "2020-01-22 14:00:00 2\n",
      "2020-01-22 13:00:00 11\n",
      "2020-01-22 12:00:00 10\n",
      "2020-01-22 11:00:00 2\n",
      "2020-01-22 10:00:00 2\n",
      "2020-01-22 09:00:00 4\n",
      "2020-01-22 08:00:00 7\n",
      "2020-01-21 18:00:01 4\n",
      "2020-01-21 17:00:01 3\n",
      "2020-01-21 16:00:01 8\n",
      "2020-01-21 15:00:00 14\n",
      "2020-01-21 14:00:01 4\n",
      "2020-01-21 13:00:01 10\n",
      "2020-01-21 12:00:01 5\n",
      "2020-01-21 11:00:00 5\n",
      "2020-01-21 10:00:00 11\n",
      "2020-01-21 09:00:00 1\n",
      "2020-01-21 08:00:00 11\n",
      "2020-01-20 17:00:01 4\n"
     ]
    }
   ],
   "source": [
    "date = []\n",
    "retweet_count = []\n",
    "\n",
    "for tweet in tweets:\n",
    "    print(tweet.created_at, tweet.retweet_count)\n",
    "    date.append(tweet.created_at)\n",
    "    retweet_count.append(tweet.retweet_count)\n",
    "    "
   ]
  },
  {
   "cell_type": "code",
   "execution_count": 6,
   "metadata": {},
   "outputs": [
    {
     "name": "stdout",
     "output_type": "stream",
     "text": [
      "5\n",
      "8\n",
      "6\n",
      "8\n",
      "10\n",
      "10\n",
      "4\n",
      "13\n",
      "10\n",
      "5\n",
      "9\n",
      "8\n",
      "8\n",
      "9\n",
      "12\n",
      "12\n",
      "2\n",
      "5\n",
      "4\n",
      "6\n",
      "6\n",
      "3\n",
      "5\n",
      "7\n",
      "2\n",
      "3\n",
      "15\n",
      "4\n",
      "15\n",
      "4\n",
      "4\n",
      "3\n",
      "3\n",
      "5\n",
      "8\n",
      "10\n",
      "8\n",
      "5\n",
      "3\n",
      "4\n",
      "8\n",
      "5\n",
      "6\n",
      "16\n",
      "7\n",
      "7\n",
      "6\n",
      "3\n",
      "6\n",
      "3\n",
      "5\n",
      "4\n",
      "9\n",
      "1\n",
      "2\n",
      "8\n",
      "31\n",
      "6\n",
      "7\n",
      "7\n",
      "0\n",
      "3\n",
      "2\n",
      "11\n",
      "10\n",
      "2\n",
      "2\n",
      "4\n",
      "7\n",
      "4\n",
      "3\n",
      "8\n",
      "14\n",
      "4\n",
      "10\n",
      "5\n",
      "5\n",
      "11\n",
      "1\n",
      "11\n",
      "4\n"
     ]
    }
   ],
   "source": [
    "for index, tweet in enumerate(tweets):\n",
    "    print(tweet.retweet_count)"
   ]
  },
  {
   "cell_type": "code",
   "execution_count": 7,
   "metadata": {},
   "outputs": [],
   "source": [
    "%matplotlib inline"
   ]
  },
  {
   "cell_type": "code",
   "execution_count": 8,
   "metadata": {
    "scrolled": false
   },
   "outputs": [
    {
     "data": {
      "image/png": "[encoded data removed]",
      "text/plain": [
       "<Figure size 432x288 with 1 Axes>"
      ]
     },
     "metadata": {},
     "output_type": "display_data"
    }
   ],
   "source": [
    "import matplotlib\n",
    "import matplotlib.pyplot as plt\n",
    "import matplotlib.dates as mdates\n",
    "\n",
    "plt.style.use('ggplot')\n",
    "plt.xlabel('date', color='black')\n",
    "plt.ylabel('retweets', color='black')\n",
    "plt.title('number of retweets for the last 7 days')\n",
    "\n",
    "plt.gca().xaxis.set_major_formatter(mdates.DateFormatter('%m/%d/%Y'))\n",
    "plt.gca().xaxis.set_major_locator(mdates.DayLocator())\n",
    "plt.scatter(date,retweet_count)\n",
    "plt.gcf().autofmt_xdate()"
   ]
  },
  {
   "cell_type": "code",
   "execution_count": 9,
   "metadata": {},
   "outputs": [],
   "source": [
    "import numpy\n",
    "range = numpy.arange(1, len(tweets)+1, 1)"
   ]
  },
  {
   "cell_type": "code",
   "execution_count": 10,
   "metadata": {},
   "outputs": [
    {
     "data": {
      "text/plain": [
       "<BarContainer object of 81 artists>"
      ]
     },
     "execution_count": 10,
     "metadata": {},
     "output_type": "execute_result"
    },
    {
     "data": {
      "image/png": "[encoded data removed]",
      "text/plain": [
       "<Figure size 432x288 with 1 Axes>"
      ]
     },
     "metadata": {},
     "output_type": "display_data"
    }
   ],
   "source": [
    "plt.style.use('fivethirtyeight')\n",
    "plt.xlabel('tweet')\n",
    "plt.ylabel('number of retweets')\n",
    "plt.xticks(range)\n",
    "plt.bar(range, retweet_count)"
   ]
  },
  {
   "cell_type": "code",
   "execution_count": 11,
   "metadata": {},
   "outputs": [
    {
     "data": {
      "text/html": [
       "<div>\n",
       "<style scoped>\n",
       "    .dataframe tbody tr th:only-of-type {\n",
       "        vertical-align: middle;\n",
       "    }\n",
       "\n",
       "    .dataframe tbody tr th {\n",
       "        vertical-align: top;\n",
       "    }\n",
       "\n",
       "    .dataframe thead th {\n",
       "        text-align: right;\n",
       "    }\n",
       "</style>\n",
       "<table border=\"1\" class=\"dataframe\">\n",
       "  <thead>\n",
       "    <tr style=\"text-align: right;\">\n",
       "      <th></th>\n",
       "      <th>screen_name</th>\n",
       "      <th>date</th>\n",
       "      <th>text</th>\n",
       "      <th>retweet_count</th>\n",
       "      <th>ratio</th>\n",
       "    </tr>\n",
       "  </thead>\n",
       "  <tbody>\n",
       "    <tr>\n",
       "      <th>688</th>\n",
       "      <td>CCulinaire</td>\n",
       "      <td>2020-01-21 17:00:01</td>\n",
       "      <td>Gâteau au yaourt aux pommes extra moelleux. Si...</td>\n",
       "      <td>24</td>\n",
       "      <td>0.014002</td>\n",
       "    </tr>\n",
       "    <tr>\n",
       "      <th>689</th>\n",
       "      <td>CCulinaire</td>\n",
       "      <td>2020-01-21 15:00:01</td>\n",
       "      <td>#Sablés fondants à la #confiture. Faciles, rap...</td>\n",
       "      <td>23</td>\n",
       "      <td>0.013419</td>\n",
       "    </tr>\n",
       "    <tr>\n",
       "      <th>690</th>\n",
       "      <td>CCulinaire</td>\n",
       "      <td>2020-01-21 13:00:00</td>\n",
       "      <td>Gâteaux fondants à la confiture - Kroki\\n#bisc...</td>\n",
       "      <td>9</td>\n",
       "      <td>0.005251</td>\n",
       "    </tr>\n",
       "    <tr>\n",
       "      <th>691</th>\n",
       "      <td>CCulinaire</td>\n",
       "      <td>2020-01-21 08:00:00</td>\n",
       "      <td>Riz au lait caramel au beurre salé. Ultra crém...</td>\n",
       "      <td>8</td>\n",
       "      <td>0.004667</td>\n",
       "    </tr>\n",
       "    <tr>\n",
       "      <th>692</th>\n",
       "      <td>CCulinaire</td>\n",
       "      <td>2020-01-20 20:00:00</td>\n",
       "      <td>#Flan coco, simple et délicieux.\\n#cuisine #no...</td>\n",
       "      <td>11</td>\n",
       "      <td>0.006418</td>\n",
       "    </tr>\n",
       "  </tbody>\n",
       "</table>\n",
       "</div>"
      ],
      "text/plain": [
       "    screen_name                 date  \\\n",
       "688  CCulinaire  2020-01-21 17:00:01   \n",
       "689  CCulinaire  2020-01-21 15:00:01   \n",
       "690  CCulinaire  2020-01-21 13:00:00   \n",
       "691  CCulinaire  2020-01-21 08:00:00   \n",
       "692  CCulinaire  2020-01-20 20:00:00   \n",
       "\n",
       "                                                  text  retweet_count  \\\n",
       "688  Gâteau au yaourt aux pommes extra moelleux. Si...             24   \n",
       "689  #Sablés fondants à la #confiture. Faciles, rap...             23   \n",
       "690  Gâteaux fondants à la confiture - Kroki\\n#bisc...              9   \n",
       "691  Riz au lait caramel au beurre salé. Ultra crém...              8   \n",
       "692  #Flan coco, simple et délicieux.\\n#cuisine #no...             11   \n",
       "\n",
       "        ratio  \n",
       "688  0.014002  \n",
       "689  0.013419  \n",
       "690  0.005251  \n",
       "691  0.004667  \n",
       "692  0.006418  "
      ]
     },
     "execution_count": 11,
     "metadata": {},
     "output_type": "execute_result"
    }
   ],
   "source": [
    "import pandas as pd\n",
    "\n",
    "df = pd.read_csv(\"../dataset/raw_dataset.csv\")\n",
    "df.tail()"
   ]
  },
  {
   "cell_type": "code",
   "execution_count": 13,
   "metadata": {},
   "outputs": [
    {
     "data": {
      "text/plain": [
       "array(['OriettasRecipes', 'Cucina_Italiana', 'CookGlobal',\n",
       "       'indianclaypot', 'misspickledplum', 'chupchupchup', 'Living_Lou',\n",
       "       'KitchenSanc2ary', 'RecetteFacileFR', 'CCulinaire'], dtype=object)"
      ]
     },
     "execution_count": 13,
     "metadata": {},
     "output_type": "execute_result"
    }
   ],
   "source": [
    "names = df.screen_name.unique()\n",
    "names"
   ]
  },
  {
   "cell_type": "code",
   "execution_count": 18,
   "metadata": {},
   "outputs": [
    {
     "name": "stdout",
     "output_type": "stream",
     "text": [
      "OriettasRecipes\n",
      "24\n",
      "Cucina_Italiana\n",
      "231\n",
      "CookGlobal\n",
      "94\n",
      "indianclaypot\n",
      "7\n",
      "misspickledplum\n",
      "12\n",
      "chupchupchup\n",
      "47\n",
      "Living_Lou\n",
      "119\n",
      "KitchenSanc2ary\n",
      "91\n",
      "RecetteFacileFR\n",
      "29\n",
      "CCulinaire\n",
      "39\n"
     ]
    }
   ],
   "source": [
    "for name in names:\n",
    "    print(name)\n",
    "    count = 0\n",
    "    for index, row in df[df.screen_name == name].iterrows():\n",
    "        count += 1\n",
    "    print(count)"
   ]
  },
  {
   "cell_type": "code",
   "execution_count": null,
   "metadata": {},
   "outputs": [],
   "source": []
  }
 ],
 "metadata": {
  "kernelspec": {
   "display_name": "Python 3",
   "language": "python",
   "name": "python3"
  },
  "language_info": {
   "codemirror_mode": {
    "name": "ipython",
    "version": 3
   },
   "file_extension": ".py",
   "mimetype": "text/x-python",
   "name": "python",
   "nbconvert_exporter": "python",
   "pygments_lexer": "ipython3",
   "version": "3.6.9"
  }
 },
 "nbformat": 4,
 "nbformat_minor": 2
}
