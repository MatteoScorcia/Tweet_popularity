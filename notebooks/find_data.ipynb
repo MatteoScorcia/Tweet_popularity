{
 "cells": [
  {
   "cell_type": "code",
   "execution_count": 1,
   "metadata": {},
   "outputs": [],
   "source": [
    "import tweepy\n",
    "import csv #Import csv\n",
    "\n",
    "with open('../credentials.txt', 'r') as credentials:\n",
    "    credentials.readline()\n",
    "    api_key = credentials.readline().rstrip()\n",
    "    api_key_secret = credentials.readline().rstrip()\n",
    "    credentials.readline()\n",
    "    access_token = credentials.readline().rstrip()\n",
    "    access_token_secret = credentials.readline().rstrip()"
   ]
  },
  {
   "cell_type": "code",
   "execution_count": 2,
   "metadata": {},
   "outputs": [],
   "source": [
    "auth = tweepy.auth.OAuthHandler(api_key, api_key_secret)\n",
    "auth.set_access_token(access_token, access_token_secret)\n",
    "\n",
    "api = tweepy.API(auth)"
   ]
  },
  {
   "cell_type": "code",
   "execution_count": 3,
   "metadata": {},
   "outputs": [],
   "source": [
    "# Open/create a file to append data to\n",
    "csvFile = open('../dataset/prova.csv', 'a', encoding=\"UTF-8\")\n",
    "\n",
    "#Use csv writer\n",
    "csvWriter = csv.writer(csvFile)\n",
    "\n",
    "tweets = []\n",
    "ratios = []\n",
    "\n",
    "for tweet in tweepy.Cursor(api.search,\n",
    "                           q = \"from:seriouseats AND -filter:retweets AND -filter:replies\",\n",
    "                           until='2020-09-2',\n",
    "                           tweet_mode='extended').items():\n",
    "\n",
    "    tweets.append(tweet)\n",
    "\n",
    "    if tweet.user.followers_count == 0:\n",
    "        continue\n",
    "\n",
    "    ratio = (tweet.retweet_count) / tweet.user.followers_count\n",
    "    ratios.append(ratio)\n",
    "\n",
    "    # Write a row to the CSV file. I use UTF-8 encoding\n",
    "    csvWriter.writerow([tweet.user.screen_name, tweet.created_at, tweet.full_text,tweet.retweet_count, ratio])\n",
    "csvFile.close()"
   ]
  },
  {
   "cell_type": "code",
   "execution_count": 4,
   "metadata": {},
   "outputs": [
    {
     "data": {
      "text/plain": [
       "58"
      ]
     },
     "execution_count": 4,
     "metadata": {},
     "output_type": "execute_result"
    }
   ],
   "source": [
    "len(tweets)"
   ]
  },
  {
   "cell_type": "code",
   "execution_count": 5,
   "metadata": {},
   "outputs": [
    {
     "name": "stdout",
     "output_type": "stream",
     "text": [
      "2020-09-01 22:00:00 4\n",
      "2020-09-01 20:00:01 12\n",
      "2020-09-01 18:33:48 10\n",
      "2020-09-01 16:00:01 9\n",
      "2020-09-01 14:00:01 4\n",
      "2020-09-01 12:00:00 10\n",
      "2020-09-01 01:00:00 5\n",
      "2020-08-31 22:00:00 6\n",
      "2020-08-31 20:06:57 2\n",
      "2020-08-31 20:00:00 4\n",
      "2020-08-31 18:00:01 10\n",
      "2020-08-31 16:00:02 7\n",
      "2020-08-31 14:00:00 11\n",
      "2020-08-31 12:00:00 11\n",
      "2020-08-31 01:00:00 4\n",
      "2020-08-30 22:00:00 5\n",
      "2020-08-30 20:00:00 8\n",
      "2020-08-30 18:00:00 6\n",
      "2020-08-30 16:00:01 4\n",
      "2020-08-30 14:00:01 9\n",
      "2020-08-30 12:00:01 12\n",
      "2020-08-30 01:00:00 5\n",
      "2020-08-29 22:00:01 8\n",
      "2020-08-29 20:00:01 7\n",
      "2020-08-29 18:00:01 13\n",
      "2020-08-29 16:00:00 6\n",
      "2020-08-29 14:00:00 5\n",
      "2020-08-29 12:00:01 9\n",
      "2020-08-29 01:00:00 4\n",
      "2020-08-28 22:12:27 10\n",
      "2020-08-28 20:31:19 1\n",
      "2020-08-28 20:00:01 7\n",
      "2020-08-28 18:05:08 4\n",
      "2020-08-28 16:00:01 5\n",
      "2020-08-28 14:01:40 10\n",
      "2020-08-28 12:00:01 5\n",
      "2020-08-28 01:00:01 12\n",
      "2020-08-27 22:00:01 6\n",
      "2020-08-27 20:00:01 6\n",
      "2020-08-27 18:52:34 4\n",
      "2020-08-27 16:00:00 10\n",
      "2020-08-27 14:04:43 10\n",
      "2020-08-27 12:00:02 10\n",
      "2020-08-27 01:00:00 2\n",
      "2020-08-26 22:00:00 9\n",
      "2020-08-26 20:00:04 9\n",
      "2020-08-26 18:22:32 8\n",
      "2020-08-26 16:00:02 5\n",
      "2020-08-26 14:19:10 7\n",
      "2020-08-26 12:00:00 11\n",
      "2020-08-26 01:00:00 5\n",
      "2020-08-25 22:00:00 16\n",
      "2020-08-25 20:00:00 3\n",
      "2020-08-25 19:34:19 4\n",
      "2020-08-25 18:00:00 16\n",
      "2020-08-25 16:00:00 7\n",
      "2020-08-25 12:00:01 5\n",
      "2020-08-25 01:00:00 7\n"
     ]
    }
   ],
   "source": [
    "date = []\n",
    "retweet_count = []\n",
    "\n",
    "for tweet in tweets:\n",
    "    print(tweet.created_at, tweet.retweet_count)\n",
    "    date.append(tweet.created_at)\n",
    "    retweet_count.append(tweet.retweet_count)\n",
    "    "
   ]
  },
  {
   "cell_type": "code",
   "execution_count": 6,
   "metadata": {},
   "outputs": [
    {
     "data": {
      "image/png": "[encoded data removed]",
      "text/plain": [
       "<Figure size 432x288 with 1 Axes>"
      ]
     },
     "metadata": {},
     "output_type": "display_data"
    }
   ],
   "source": [
    "%matplotlib inline\n",
    "import matplotlib\n",
    "import matplotlib.pyplot as plt\n",
    "import matplotlib.dates as mdates\n",
    "\n",
    "plt.style.use('ggplot')\n",
    "plt.xlabel('date', color='black')\n",
    "plt.ylabel('retweets', color='black')\n",
    "plt.title('number of retweets for the last 7 days')\n",
    "\n",
    "plt.gca().xaxis.set_major_formatter(mdates.DateFormatter('%m/%d/%Y'))\n",
    "plt.gca().xaxis.set_major_locator(mdates.DayLocator())\n",
    "plt.scatter(date,retweet_count)\n",
    "plt.gcf().autofmt_xdate()"
   ]
  }
 ],
 "metadata": {
  "kernelspec": {
   "display_name": "Python 3",
   "language": "python",
   "name": "python3"
  },
  "language_info": {
   "codemirror_mode": {
    "name": "ipython",
    "version": 3
   },
   "file_extension": ".py",
   "mimetype": "text/x-python",
   "name": "python",
   "nbconvert_exporter": "python",
   "pygments_lexer": "ipython3",
   "version": "3.8.5"
  }
 },
 "nbformat": 4,
 "nbformat_minor": 4
}
