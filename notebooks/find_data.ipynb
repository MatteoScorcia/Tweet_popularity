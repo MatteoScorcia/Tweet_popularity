{
 "cells": [
  {
   "cell_type": "code",
   "execution_count": 1,
   "metadata": {},
   "outputs": [],
   "source": [
    "import tweepy\n",
    "import csv #Import csv\n",
    "\n",
    "with open('../credentials.txt', 'r') as credentials:\n",
    "    credentials.readline()\n",
    "    api_key = credentials.readline().rstrip()\n",
    "    api_key_secret = credentials.readline().rstrip()\n",
    "    credentials.readline()\n",
    "    access_token = credentials.readline().rstrip()\n",
    "    access_token_secret = credentials.readline().rstrip()"
   ]
  },
  {
   "cell_type": "code",
   "execution_count": 2,
   "metadata": {},
   "outputs": [],
   "source": [
    "auth = tweepy.auth.OAuthHandler(api_key, api_key_secret)\n",
    "auth.set_access_token(access_token, access_token_secret)\n",
    "\n",
    "api = tweepy.API(auth)"
   ]
  },
  {
   "cell_type": "code",
   "execution_count": 3,
   "metadata": {},
   "outputs": [],
   "source": [
    "# Open/create a file to append data to\n",
    "csvFile = open('../dataset/prova.csv', 'a', encoding=\"UTF-8\")\n",
    "\n",
    "#Use csv writer\n",
    "csvWriter = csv.writer(csvFile)\n",
    "\n",
    "tweets = []\n",
    "ratios = []\n",
    "\n",
    "for tweet in tweepy.Cursor(api.search,\n",
    "                           q = \"from:FoodizShare AND -filter:retweets AND -filter:replies\",\n",
    "                           until='2020-08-24',\n",
    "                           tweet_mode='extended').items():\n",
    "\n",
    "    tweets.append(tweet)\n",
    "\n",
    "    if tweet.user.followers_count == 0:\n",
    "        continue\n",
    "\n",
    "    ratio = (tweet.retweet_count) / tweet.user.followers_count\n",
    "    ratios.append(ratio)\n",
    "\n",
    "    # Write a row to the CSV file. I use UTF-8 encoding\n",
    "    csvWriter.writerow([tweet.user.screen_name, tweet.created_at, tweet.full_text,tweet.retweet_count, ratio])\n",
    "csvFile.close()"
   ]
  },
  {
   "cell_type": "code",
   "execution_count": 4,
   "metadata": {},
   "outputs": [
    {
     "data": {
      "text/plain": [
       "6"
      ]
     },
     "execution_count": 4,
     "metadata": {},
     "output_type": "execute_result"
    }
   ],
   "source": [
    "len(tweets)"
   ]
  },
  {
   "cell_type": "code",
   "execution_count": 5,
   "metadata": {},
   "outputs": [
    {
     "name": "stdout",
     "output_type": "stream",
     "text": [
      "2020-08-23 07:40:49 13\n",
      "2020-08-22 08:21:52 11\n",
      "2020-08-20 05:34:29 36\n",
      "2020-08-19 06:32:14 20\n",
      "2020-08-18 07:19:26 16\n",
      "2020-08-17 07:57:21 11\n"
     ]
    }
   ],
   "source": [
    "date = []\n",
    "retweet_count = []\n",
    "\n",
    "for tweet in tweets:\n",
    "    print(tweet.created_at, tweet.retweet_count)\n",
    "    date.append(tweet.created_at)\n",
    "    retweet_count.append(tweet.retweet_count)\n",
    "    "
   ]
  },
  {
   "cell_type": "code",
   "execution_count": 6,
   "metadata": {},
   "outputs": [
    {
     "name": "stdout",
     "output_type": "stream",
     "text": [
      "13\n",
      "11\n",
      "36\n",
      "20\n",
      "16\n",
      "11\n"
     ]
    }
   ],
   "source": [
    "for index, tweet in enumerate(tweets):\n",
    "    print(tweet.retweet_count)"
   ]
  },
  {
   "cell_type": "code",
   "execution_count": 7,
   "metadata": {},
   "outputs": [],
   "source": [
    "%matplotlib inline"
   ]
  },
  {
   "cell_type": "code",
   "execution_count": 8,
   "metadata": {},
   "outputs": [
    {
     "data": {
      "image/png": "[encoded data removed]",
      "text/plain": [
       "<Figure size 432x288 with 1 Axes>"
      ]
     },
     "metadata": {},
     "output_type": "display_data"
    }
   ],
   "source": [
    "import matplotlib\n",
    "import matplotlib.pyplot as plt\n",
    "import matplotlib.dates as mdates\n",
    "\n",
    "plt.style.use('ggplot')\n",
    "plt.xlabel('date', color='black')\n",
    "plt.ylabel('retweets', color='black')\n",
    "plt.title('number of retweets for the last 7 days')\n",
    "\n",
    "plt.gca().xaxis.set_major_formatter(mdates.DateFormatter('%m/%d/%Y'))\n",
    "plt.gca().xaxis.set_major_locator(mdates.DayLocator())\n",
    "plt.scatter(date,retweet_count)\n",
    "plt.gcf().autofmt_xdate()"
   ]
  },
  {
   "cell_type": "code",
   "execution_count": 9,
   "metadata": {},
   "outputs": [],
   "source": [
    "import numpy\n",
    "range = numpy.arange(1, len(tweets)+1, 1)"
   ]
  },
  {
   "cell_type": "code",
   "execution_count": 10,
   "metadata": {},
   "outputs": [
    {
     "data": {
      "text/plain": [
       "<BarContainer object of 6 artists>"
      ]
     },
     "execution_count": 10,
     "metadata": {},
     "output_type": "execute_result"
    },
    {
     "data": {
      "image/png": "[encoded data removed]",
      "text/plain": [
       "<Figure size 432x288 with 1 Axes>"
      ]
     },
     "metadata": {},
     "output_type": "display_data"
    }
   ],
   "source": [
    "plt.style.use('fivethirtyeight')\n",
    "plt.xlabel('tweet')\n",
    "plt.ylabel('number of retweets')\n",
    "plt.xticks(range)\n",
    "plt.bar(range, retweet_count)"
   ]
  },
  {
   "cell_type": "code",
   "execution_count": 11,
   "metadata": {},
   "outputs": [
    {
     "data": {
      "text/html": [
       "<div>\n",
       "<style scoped>\n",
       "    .dataframe tbody tr th:only-of-type {\n",
       "        vertical-align: middle;\n",
       "    }\n",
       "\n",
       "    .dataframe tbody tr th {\n",
       "        vertical-align: top;\n",
       "    }\n",
       "\n",
       "    .dataframe thead th {\n",
       "        text-align: right;\n",
       "    }\n",
       "</style>\n",
       "<table border=\"1\" class=\"dataframe\">\n",
       "  <thead>\n",
       "    <tr style=\"text-align: right;\">\n",
       "      <th></th>\n",
       "      <th>screen_name</th>\n",
       "      <th>date</th>\n",
       "      <th>text</th>\n",
       "      <th>retweet_count</th>\n",
       "      <th>ratio</th>\n",
       "    </tr>\n",
       "  </thead>\n",
       "  <tbody>\n",
       "    <tr>\n",
       "      <th>923</th>\n",
       "      <td>FoodizShare</td>\n",
       "      <td>2020-08-22 08:21:52</td>\n",
       "      <td>Grilled Chile Chicken Tacos #recipe @ https://...</td>\n",
       "      <td>11</td>\n",
       "      <td>0.000678</td>\n",
       "    </tr>\n",
       "    <tr>\n",
       "      <th>924</th>\n",
       "      <td>FoodizShare</td>\n",
       "      <td>2020-08-20 05:34:29</td>\n",
       "      <td>Quick Tandoori #Salmon w/ Walnut Yogurt Sauce ...</td>\n",
       "      <td>36</td>\n",
       "      <td>0.002218</td>\n",
       "    </tr>\n",
       "    <tr>\n",
       "      <th>925</th>\n",
       "      <td>FoodizShare</td>\n",
       "      <td>2020-08-19 06:32:14</td>\n",
       "      <td>Malaysian Fish Curry #recipe @  https://t.co/E...</td>\n",
       "      <td>20</td>\n",
       "      <td>0.001232</td>\n",
       "    </tr>\n",
       "    <tr>\n",
       "      <th>926</th>\n",
       "      <td>FoodizShare</td>\n",
       "      <td>2020-08-18 07:19:26</td>\n",
       "      <td>Oreo Mint Trifle Parfait #recipe @ https://t.c...</td>\n",
       "      <td>16</td>\n",
       "      <td>0.000986</td>\n",
       "    </tr>\n",
       "    <tr>\n",
       "      <th>927</th>\n",
       "      <td>FoodizShare</td>\n",
       "      <td>2020-08-17 07:57:21</td>\n",
       "      <td>Moroccan Style Beet Salad \\n#recipe @ https://...</td>\n",
       "      <td>11</td>\n",
       "      <td>0.000678</td>\n",
       "    </tr>\n",
       "  </tbody>\n",
       "</table>\n",
       "</div>"
      ],
      "text/plain": [
       "     screen_name                 date  \\\n",
       "923  FoodizShare  2020-08-22 08:21:52   \n",
       "924  FoodizShare  2020-08-20 05:34:29   \n",
       "925  FoodizShare  2020-08-19 06:32:14   \n",
       "926  FoodizShare  2020-08-18 07:19:26   \n",
       "927  FoodizShare  2020-08-17 07:57:21   \n",
       "\n",
       "                                                  text  retweet_count  \\\n",
       "923  Grilled Chile Chicken Tacos #recipe @ https://...             11   \n",
       "924  Quick Tandoori #Salmon w/ Walnut Yogurt Sauce ...             36   \n",
       "925  Malaysian Fish Curry #recipe @  https://t.co/E...             20   \n",
       "926  Oreo Mint Trifle Parfait #recipe @ https://t.c...             16   \n",
       "927  Moroccan Style Beet Salad \\n#recipe @ https://...             11   \n",
       "\n",
       "        ratio  \n",
       "923  0.000678  \n",
       "924  0.002218  \n",
       "925  0.001232  \n",
       "926  0.000986  \n",
       "927  0.000678  "
      ]
     },
     "execution_count": 11,
     "metadata": {},
     "output_type": "execute_result"
    }
   ],
   "source": [
    "import pandas as pd\n",
    "\n",
    "df = pd.read_csv(\"../dataset/raw_dataset.csv\")\n",
    "df.tail()"
   ]
  },
  {
   "cell_type": "code",
   "execution_count": 12,
   "metadata": {},
   "outputs": [
    {
     "data": {
      "text/plain": [
       "array(['CookGlobal', 'indianclaypot', 'misspickledplum', 'Living_Lou',\n",
       "       'KitchenSanc2ary', 'deliciousmag', 'RecipesIdeas',\n",
       "       'CookingChannel', 'Allrecipes', 'seriouseats', 'FoodizShare'],\n",
       "      dtype=object)"
      ]
     },
     "execution_count": 12,
     "metadata": {},
     "output_type": "execute_result"
    }
   ],
   "source": [
    "names = df.screen_name.unique()\n",
    "names"
   ]
  },
  {
   "cell_type": "code",
   "execution_count": 13,
   "metadata": {},
   "outputs": [
    {
     "name": "stdout",
     "output_type": "stream",
     "text": [
      "CookGlobal\n",
      "158\n",
      "indianclaypot\n",
      "7\n",
      "misspickledplum\n",
      "26\n",
      "Living_Lou\n",
      "220\n",
      "KitchenSanc2ary\n",
      "148\n",
      "deliciousmag\n",
      "109\n",
      "RecipesIdeas\n",
      "61\n",
      "CookingChannel\n",
      "20\n",
      "Allrecipes\n",
      "115\n",
      "seriouseats\n",
      "58\n",
      "FoodizShare\n",
      "6\n"
     ]
    }
   ],
   "source": [
    "for name in names:\n",
    "    print(name)\n",
    "    count = 0\n",
    "    for index, row in df[df.screen_name == name].iterrows():\n",
    "        count += 1\n",
    "    print(count)"
   ]
  },
  {
   "cell_type": "code",
   "execution_count": null,
   "metadata": {},
   "outputs": [],
   "source": []
  }
 ],
 "metadata": {
  "kernelspec": {
   "display_name": "Python 3",
   "language": "python",
   "name": "python3"
  },
  "language_info": {
   "codemirror_mode": {
    "name": "ipython",
    "version": 3
   },
   "file_extension": ".py",
   "mimetype": "text/x-python",
   "name": "python",
   "nbconvert_exporter": "python",
   "pygments_lexer": "ipython3",
   "version": "3.8.5"
  }
 },
 "nbformat": 4,
 "nbformat_minor": 4
}
