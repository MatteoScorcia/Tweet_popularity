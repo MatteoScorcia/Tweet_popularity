{
 "cells": [
  {
   "cell_type": "code",
   "execution_count": 6,
   "metadata": {},
   "outputs": [
    {
     "name": "stdout",
     "output_type": "stream",
     "text": [
      "[0.07420908782486785, 0.030971847382292788, 0.2877563533535274, 0.010146607096710598, 0.054055131847864014, 0.012240063174519611, 0.016632492688156374, 0.010076294183178132, 0.11657222329077217, 0.13192259425640654, 4.759750460433969e-05, 0.05007315883596163, 5.283379009193738e-05, 0.001463622713775618, 0.00034028111041853, 0.05193131440611347, 0.06076960350214707, 0.10023450112536972, 3.175240071720083e-05, 0.0012606612820490527, 0.0011226396753672178, 0.001719427531774715, 0.0007849872945024574, 0.002283680667252077, 0.027555700204900464, 0.037272386079799144, 0.0031796999614265905, 0.039386825894474814, 0.008932755096954289, 0.0018766967707453948, 0.03540210660454374, 0.014973676413610776, 0.0022484991348235904, 0.0020648866964465004, 2.556165887497601e-05, 0.14977046671767405, 0.0007907601897824456, 0.0005556426220632863, 0.0006687190613917223, 0.005903332923379658, 1.5948031930774286e-05, 0.01912643932683791, 0.006379310344827587, 0.0004576700930900969, 0.0008972921006248999]\n"
     ]
    }
   ],
   "source": [
    "import tweepy\n",
    "import csv #Import csv\n",
    "auth = tweepy.auth.OAuthHandler('erVnvFBufVKmHpL9aT0PuqdjM',\n",
    "                                '3ZG8vfIsrw1LfsczN9A4ozi5oRCZnU8A1KzjahyjqYTdMHxjXu')\n",
    "auth.set_access_token('1202142478952009728-y8fECbCqWcVaG8x4ePe31pJ6hSEGJB',\n",
    "                        '63cd5LlfDVuPLDdef3RHWNgGh76o2xAXCqETx8fuZ2R3S')\n",
    "\n",
    "api = tweepy.API(auth)\n",
    "\n",
    "# Open/create a file to append data to\n",
    "csvFile = open('prova.csv', 'a')\n",
    "\n",
    "#Use csv writer\n",
    "csvWriter = csv.writer(csvFile)\n",
    "\n",
    "tweets = []\n",
    "ratios = []\n",
    "\n",
    "for tweet in tweepy.Cursor(api.search,\n",
    "                           q = \"food\", #-filter:retweets\n",
    "                           include_entities=True,\n",
    "                           since = '2019-12-20',\n",
    "                           until = '2020-01-05',\n",
    "                           result_type='popular',\n",
    "                           tweet_mode='extended',\n",
    "                           lang = \"en\").items(100):\n",
    "\n",
    "    tweets.append(tweet)\n",
    "\n",
    "    if tweet.user.followers_count == 0:\n",
    "        continue\n",
    "\n",
    "    ratio = (tweet.favorite_count) / tweet.user.followers_count\n",
    "    ratios.append(ratio)\n",
    "\n",
    "    # Write a row to the CSV file. I use encode UTF-8\n",
    "    csvWriter.writerow([tweet.user.name, tweet.created_at, tweet.full_text, tweet.favorite_count])\n",
    "csvFile.close()\n",
    "\n",
    "print(ratios)\n"
   ]
  },
  {
   "cell_type": "code",
   "execution_count": 11,
   "metadata": {},
   "outputs": [
    {
     "data": {
      "text/plain": [
       "'\"There\\'s nowhere to get food\"\\n\\nMore than two million people in Zambia are in need of food aid, following two years of poor rains and failed harvest\\n\\nhttps://t.co/Wcksd0GE16 https://t.co/nxpeuUyR6D'"
      ]
     },
     "execution_count": 11,
     "metadata": {},
     "output_type": "execute_result"
    }
   ],
   "source": [
    "tweets[10].full_text"
   ]
  },
  {
   "cell_type": "code",
   "execution_count": 14,
   "metadata": {},
   "outputs": [
    {
     "ename": "AttributeError",
     "evalue": "'Status' object has no attribute 'screen_name'",
     "output_type": "error",
     "traceback": [
      "\u001b[0;31m---------------------------------------------------------------------------\u001b[0m",
      "\u001b[0;31mAttributeError\u001b[0m                            Traceback (most recent call last)",
      "\u001b[0;32m<ipython-input-14-1995e43fdf5f>\u001b[0m in \u001b[0;36m<module>\u001b[0;34m\u001b[0m\n\u001b[0;32m----> 1\u001b[0;31m \u001b[0mtweets\u001b[0m\u001b[0;34m[\u001b[0m\u001b[0;36m1\u001b[0m\u001b[0;34m]\u001b[0m\u001b[0;34m.\u001b[0m\u001b[0mscreen_name\u001b[0m\u001b[0;34m\u001b[0m\u001b[0;34m\u001b[0m\u001b[0m\n\u001b[0m",
      "\u001b[0;31mAttributeError\u001b[0m: 'Status' object has no attribute 'screen_name'"
     ]
    }
   ],
   "source": [
    "tweets[1].screen_name"
   ]
  },
  {
   "cell_type": "code",
   "execution_count": null,
   "metadata": {},
   "outputs": [],
   "source": []
  }
 ],
 "metadata": {
  "kernelspec": {
   "display_name": "Python 3",
   "language": "python",
   "name": "python3"
  },
  "language_info": {
   "codemirror_mode": {
    "name": "ipython",
    "version": 3
   },
   "file_extension": ".py",
   "mimetype": "text/x-python",
   "name": "python",
   "nbconvert_exporter": "python",
   "pygments_lexer": "ipython3",
   "version": "3.6.9"
  }
 },
 "nbformat": 4,
 "nbformat_minor": 2
}
