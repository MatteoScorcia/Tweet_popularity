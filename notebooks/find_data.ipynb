{
 "cells": [
  {
   "cell_type": "code",
   "execution_count": 7,
   "metadata": {},
   "outputs": [],
   "source": [
    "import tweepy\n",
    "import csv #Import csv\n",
    "\n",
    "with open('../credentials.txt', 'r') as credentials:\n",
    "    credentials.readline()\n",
    "    api_key = credentials.readline().rstrip()\n",
    "    api_key_secret = credentials.readline().rstrip()\n",
    "    credentials.readline()\n",
    "    access_token = credentials.readline().rstrip()\n",
    "    access_token_secret = credentials.readline().rstrip()\n"
   ]
  },
  {
   "cell_type": "code",
   "execution_count": 8,
   "metadata": {},
   "outputs": [],
   "source": [
    "auth = tweepy.auth.OAuthHandler(api_key, api_key_secret)\n",
    "auth.set_access_token(access_token, access_token_secret)\n",
    "\n",
    "api = tweepy.API(auth)"
   ]
  },
  {
   "cell_type": "code",
   "execution_count": 52,
   "metadata": {},
   "outputs": [
    {
     "name": "stdout",
     "output_type": "stream",
     "text": [
      "[0.007438894792773645, 0.010171550022772128, 0.012904205252770608, 0.025201153787763778, 0.07317443449218157, 0.010323364202216486, 0.01776225899499013, 0.01578867466221345, 0.009412479125550327, 0.02596022468498558, 0.01548504630332473, 0.011234249278882648, 0.019280400789433733, 0.008957036587217247, 0.01548504630332473, 0.01609230302110217, 0.011841505996660088, 0.01427053286776985, 0.016851373918323972, 0.02717473812054046, 0.017610444815545773, 0.012600576893881889, 0.011841505996660088, 0.018976772430545012, 0.009108850766661606, 0.023075755275542734, 0.012600576893881889]\n"
     ]
    }
   ],
   "source": [
    "# Open/create a file to append data to\n",
    "csvFile = open('../dataset/prova.csv', 'a')\n",
    "\n",
    "#Use csv writer\n",
    "csvWriter = csv.writer(csvFile)\n",
    "\n",
    "tweets = []\n",
    "ratios = []\n",
    "\n",
    "for tweet in tweepy.Cursor(api.search,\n",
    "                           q = \"from:OriettasRecipes AND -filter:retweets AND -filter:replies\",\n",
    "                           # include_entities=True,\n",
    "                           count=30,\n",
    "                           # until='2020-01-16',\n",
    "                           tweet_mode='extended').items(100):\n",
    "\n",
    "    tweets.append(tweet)\n",
    "\n",
    "    if tweet.user.followers_count == 0:\n",
    "        continue\n",
    "\n",
    "    ratio = (tweet.favorite_count) / tweet.user.followers_count\n",
    "    ratios.append(ratio)\n",
    "\n",
    "    # Write a row to the CSV file. I use encode UTF-8\n",
    "    csvWriter.writerow([tweet.user.name, tweet.created_at, tweet.full_text,tweet.retweet_count, tweet.favorite_count])\n",
    "csvFile.close()\n",
    "\n",
    "print(ratios)"
   ]
  },
  {
   "cell_type": "code",
   "execution_count": 53,
   "metadata": {},
   "outputs": [
    {
     "data": {
      "text/plain": [
       "('Io oggi riso integrale con crema di piselli 😋 👩🏻\\u200d🍳. Buon pranzo ❤️https://t.co/XAP543CRMF #16gennaio #ThursdayMotivation #FelizJueves #foodie #food https://t.co/PcY7l6EuBQ',\n",
       " datetime.datetime(2020, 1, 16, 11, 46, 1))"
      ]
     },
     "execution_count": 53,
     "metadata": {},
     "output_type": "execute_result"
    }
   ],
   "source": [
    "tweets[5].full_text, tweets[5].created_at"
   ]
  },
  {
   "cell_type": "code",
   "execution_count": 54,
   "metadata": {},
   "outputs": [
    {
     "data": {
      "text/plain": [
       "Status(_api=<tweepy.api.API object at 0x7fa10f333d30>, _json={'created_at': 'Thu Jan 09 18:18:16 +0000 2020', 'id': 1215337006466768897, 'id_str': '1215337006466768897', 'full_text': 'Stasera per cena propongo 😋 Soufflé di carote e patate con ricotta 🍷🍷. https://t.co/NRYlGYT9Hu #9gennaio #vegetarian #ThursdayMotivation #FelizJueves #Food https://t.co/szOjTLspq7', 'truncated': False, 'display_text_range': [0, 155], 'entities': {'hashtags': [{'text': '9gennaio', 'indices': [95, 104]}, {'text': 'vegetarian', 'indices': [105, 116]}, {'text': 'ThursdayMotivation', 'indices': [117, 136]}, {'text': 'FelizJueves', 'indices': [137, 149]}, {'text': 'Food', 'indices': [150, 155]}], 'symbols': [], 'user_mentions': [], 'urls': [{'url': 'https://t.co/NRYlGYT9Hu', 'expanded_url': 'https://oriettasrecipes.blogspot.com/2017/08/souffle-di-carote-e-patate-con-ricotta.html?m=1', 'display_url': 'oriettasrecipes.blogspot.com/2017/08/souffl…', 'indices': [71, 94]}], 'media': [{'id': 1215336997939744768, 'id_str': '1215336997939744768', 'indices': [156, 179], 'media_url': 'http://pbs.twimg.com/media/EN2-j3yWkAAB_LT.jpg', 'media_url_https': 'https://pbs.twimg.com/media/EN2-j3yWkAAB_LT.jpg', 'url': 'https://t.co/szOjTLspq7', 'display_url': 'pic.twitter.com/szOjTLspq7', 'expanded_url': 'https://twitter.com/OriettasRecipes/status/1215337006466768897/photo/1', 'type': 'photo', 'sizes': {'medium': {'w': 1200, 'h': 798, 'resize': 'fit'}, 'thumb': {'w': 150, 'h': 150, 'resize': 'crop'}, 'large': {'w': 1575, 'h': 1047, 'resize': 'fit'}, 'small': {'w': 680, 'h': 452, 'resize': 'fit'}}}]}, 'extended_entities': {'media': [{'id': 1215336997939744768, 'id_str': '1215336997939744768', 'indices': [156, 179], 'media_url': 'http://pbs.twimg.com/media/EN2-j3yWkAAB_LT.jpg', 'media_url_https': 'https://pbs.twimg.com/media/EN2-j3yWkAAB_LT.jpg', 'url': 'https://t.co/szOjTLspq7', 'display_url': 'pic.twitter.com/szOjTLspq7', 'expanded_url': 'https://twitter.com/OriettasRecipes/status/1215337006466768897/photo/1', 'type': 'photo', 'sizes': {'medium': {'w': 1200, 'h': 798, 'resize': 'fit'}, 'thumb': {'w': 150, 'h': 150, 'resize': 'crop'}, 'large': {'w': 1575, 'h': 1047, 'resize': 'fit'}, 'small': {'w': 680, 'h': 452, 'resize': 'fit'}}}]}, 'metadata': {'iso_language_code': 'it', 'result_type': 'recent'}, 'source': '<a href=\"http://twitter.com/download/android\" rel=\"nofollow\">Twitter for Android</a>', 'in_reply_to_status_id': None, 'in_reply_to_status_id_str': None, 'in_reply_to_user_id': None, 'in_reply_to_user_id_str': None, 'in_reply_to_screen_name': None, 'user': {'id': 736916708682792960, 'id_str': '736916708682792960', 'name': \"Orietta's Recipes\", 'screen_name': 'OriettasRecipes', 'location': '', 'description': 'Ig:\\nhttps://t.co/icIRwtHH96\\n\\n\\nFb:\\nhttps://t.co/cUokDxxHgW\\n\\n\\n📧: oriettambrogno73@gmail.com', 'url': 'https://t.co/EAbtMguqYu', 'entities': {'url': {'urls': [{'url': 'https://t.co/EAbtMguqYu', 'expanded_url': 'http://oriettasrecipes.blogspot.it/', 'display_url': 'oriettasrecipes.blogspot.it', 'indices': [0, 23]}]}, 'description': {'urls': [{'url': 'https://t.co/icIRwtHH96', 'expanded_url': 'https://www.instagram.com/oriettasrecipes', 'display_url': 'instagram.com/oriettasrecipes', 'indices': [4, 27]}, {'url': 'https://t.co/cUokDxxHgW', 'expanded_url': 'https://www.facebook.com/Oriettas-Recipes-100438141378771/', 'display_url': 'facebook.com/Oriettas-Recip…', 'indices': [34, 57]}]}}, 'protected': False, 'followers_count': 6587, 'friends_count': 931, 'listed_count': 83, 'created_at': 'Sun May 29 13:46:49 +0000 2016', 'favourites_count': 434252, 'utc_offset': None, 'time_zone': None, 'geo_enabled': True, 'verified': False, 'statuses_count': 22267, 'lang': None, 'contributors_enabled': False, 'is_translator': False, 'is_translation_enabled': False, 'profile_background_color': '000000', 'profile_background_image_url': 'http://abs.twimg.com/images/themes/theme1/bg.png', 'profile_background_image_url_https': 'https://abs.twimg.com/images/themes/theme1/bg.png', 'profile_background_tile': False, 'profile_image_url': 'http://pbs.twimg.com/profile_images/1139280140675026966/iMvMPq1I_normal.jpg', 'profile_image_url_https': 'https://pbs.twimg.com/profile_images/1139280140675026966/iMvMPq1I_normal.jpg', 'profile_banner_url': 'https://pbs.twimg.com/profile_banners/736916708682792960/1546701473', 'profile_link_color': '7D181E', 'profile_sidebar_border_color': '000000', 'profile_sidebar_fill_color': '000000', 'profile_text_color': '000000', 'profile_use_background_image': False, 'has_extended_profile': True, 'default_profile': False, 'default_profile_image': False, 'following': False, 'follow_request_sent': False, 'notifications': False, 'translator_type': 'none'}, 'geo': None, 'coordinates': None, 'place': None, 'contributors': None, 'is_quote_status': False, 'retweet_count': 18, 'favorite_count': 83, 'favorited': False, 'retweeted': False, 'possibly_sensitive': False, 'lang': 'it'}, created_at=datetime.datetime(2020, 1, 9, 18, 18, 16), id=1215337006466768897, id_str='1215337006466768897', full_text='Stasera per cena propongo 😋 Soufflé di carote e patate con ricotta 🍷🍷. https://t.co/NRYlGYT9Hu #9gennaio #vegetarian #ThursdayMotivation #FelizJueves #Food https://t.co/szOjTLspq7', truncated=False, display_text_range=[0, 155], entities={'hashtags': [{'text': '9gennaio', 'indices': [95, 104]}, {'text': 'vegetarian', 'indices': [105, 116]}, {'text': 'ThursdayMotivation', 'indices': [117, 136]}, {'text': 'FelizJueves', 'indices': [137, 149]}, {'text': 'Food', 'indices': [150, 155]}], 'symbols': [], 'user_mentions': [], 'urls': [{'url': 'https://t.co/NRYlGYT9Hu', 'expanded_url': 'https://oriettasrecipes.blogspot.com/2017/08/souffle-di-carote-e-patate-con-ricotta.html?m=1', 'display_url': 'oriettasrecipes.blogspot.com/2017/08/souffl…', 'indices': [71, 94]}], 'media': [{'id': 1215336997939744768, 'id_str': '1215336997939744768', 'indices': [156, 179], 'media_url': 'http://pbs.twimg.com/media/EN2-j3yWkAAB_LT.jpg', 'media_url_https': 'https://pbs.twimg.com/media/EN2-j3yWkAAB_LT.jpg', 'url': 'https://t.co/szOjTLspq7', 'display_url': 'pic.twitter.com/szOjTLspq7', 'expanded_url': 'https://twitter.com/OriettasRecipes/status/1215337006466768897/photo/1', 'type': 'photo', 'sizes': {'medium': {'w': 1200, 'h': 798, 'resize': 'fit'}, 'thumb': {'w': 150, 'h': 150, 'resize': 'crop'}, 'large': {'w': 1575, 'h': 1047, 'resize': 'fit'}, 'small': {'w': 680, 'h': 452, 'resize': 'fit'}}}]}, extended_entities={'media': [{'id': 1215336997939744768, 'id_str': '1215336997939744768', 'indices': [156, 179], 'media_url': 'http://pbs.twimg.com/media/EN2-j3yWkAAB_LT.jpg', 'media_url_https': 'https://pbs.twimg.com/media/EN2-j3yWkAAB_LT.jpg', 'url': 'https://t.co/szOjTLspq7', 'display_url': 'pic.twitter.com/szOjTLspq7', 'expanded_url': 'https://twitter.com/OriettasRecipes/status/1215337006466768897/photo/1', 'type': 'photo', 'sizes': {'medium': {'w': 1200, 'h': 798, 'resize': 'fit'}, 'thumb': {'w': 150, 'h': 150, 'resize': 'crop'}, 'large': {'w': 1575, 'h': 1047, 'resize': 'fit'}, 'small': {'w': 680, 'h': 452, 'resize': 'fit'}}}]}, metadata={'iso_language_code': 'it', 'result_type': 'recent'}, source='Twitter for Android', source_url='http://twitter.com/download/android', in_reply_to_status_id=None, in_reply_to_status_id_str=None, in_reply_to_user_id=None, in_reply_to_user_id_str=None, in_reply_to_screen_name=None, author=User(_api=<tweepy.api.API object at 0x7fa10f333d30>, _json={'id': 736916708682792960, 'id_str': '736916708682792960', 'name': \"Orietta's Recipes\", 'screen_name': 'OriettasRecipes', 'location': '', 'description': 'Ig:\\nhttps://t.co/icIRwtHH96\\n\\n\\nFb:\\nhttps://t.co/cUokDxxHgW\\n\\n\\n📧: oriettambrogno73@gmail.com', 'url': 'https://t.co/EAbtMguqYu', 'entities': {'url': {'urls': [{'url': 'https://t.co/EAbtMguqYu', 'expanded_url': 'http://oriettasrecipes.blogspot.it/', 'display_url': 'oriettasrecipes.blogspot.it', 'indices': [0, 23]}]}, 'description': {'urls': [{'url': 'https://t.co/icIRwtHH96', 'expanded_url': 'https://www.instagram.com/oriettasrecipes', 'display_url': 'instagram.com/oriettasrecipes', 'indices': [4, 27]}, {'url': 'https://t.co/cUokDxxHgW', 'expanded_url': 'https://www.facebook.com/Oriettas-Recipes-100438141378771/', 'display_url': 'facebook.com/Oriettas-Recip…', 'indices': [34, 57]}]}}, 'protected': False, 'followers_count': 6587, 'friends_count': 931, 'listed_count': 83, 'created_at': 'Sun May 29 13:46:49 +0000 2016', 'favourites_count': 434252, 'utc_offset': None, 'time_zone': None, 'geo_enabled': True, 'verified': False, 'statuses_count': 22267, 'lang': None, 'contributors_enabled': False, 'is_translator': False, 'is_translation_enabled': False, 'profile_background_color': '000000', 'profile_background_image_url': 'http://abs.twimg.com/images/themes/theme1/bg.png', 'profile_background_image_url_https': 'https://abs.twimg.com/images/themes/theme1/bg.png', 'profile_background_tile': False, 'profile_image_url': 'http://pbs.twimg.com/profile_images/1139280140675026966/iMvMPq1I_normal.jpg', 'profile_image_url_https': 'https://pbs.twimg.com/profile_images/1139280140675026966/iMvMPq1I_normal.jpg', 'profile_banner_url': 'https://pbs.twimg.com/profile_banners/736916708682792960/1546701473', 'profile_link_color': '7D181E', 'profile_sidebar_border_color': '000000', 'profile_sidebar_fill_color': '000000', 'profile_text_color': '000000', 'profile_use_background_image': False, 'has_extended_profile': True, 'default_profile': False, 'default_profile_image': False, 'following': False, 'follow_request_sent': False, 'notifications': False, 'translator_type': 'none'}, id=736916708682792960, id_str='736916708682792960', name=\"Orietta's Recipes\", screen_name='OriettasRecipes', location='', description='Ig:\\nhttps://t.co/icIRwtHH96\\n\\n\\nFb:\\nhttps://t.co/cUokDxxHgW\\n\\n\\n📧: oriettambrogno73@gmail.com', url='https://t.co/EAbtMguqYu', entities={'url': {'urls': [{'url': 'https://t.co/EAbtMguqYu', 'expanded_url': 'http://oriettasrecipes.blogspot.it/', 'display_url': 'oriettasrecipes.blogspot.it', 'indices': [0, 23]}]}, 'description': {'urls': [{'url': 'https://t.co/icIRwtHH96', 'expanded_url': 'https://www.instagram.com/oriettasrecipes', 'display_url': 'instagram.com/oriettasrecipes', 'indices': [4, 27]}, {'url': 'https://t.co/cUokDxxHgW', 'expanded_url': 'https://www.facebook.com/Oriettas-Recipes-100438141378771/', 'display_url': 'facebook.com/Oriettas-Recip…', 'indices': [34, 57]}]}}, protected=False, followers_count=6587, friends_count=931, listed_count=83, created_at=datetime.datetime(2016, 5, 29, 13, 46, 49), favourites_count=434252, utc_offset=None, time_zone=None, geo_enabled=True, verified=False, statuses_count=22267, lang=None, contributors_enabled=False, is_translator=False, is_translation_enabled=False, profile_background_color='000000', profile_background_image_url='http://abs.twimg.com/images/themes/theme1/bg.png', profile_background_image_url_https='https://abs.twimg.com/images/themes/theme1/bg.png', profile_background_tile=False, profile_image_url='http://pbs.twimg.com/profile_images/1139280140675026966/iMvMPq1I_normal.jpg', profile_image_url_https='https://pbs.twimg.com/profile_images/1139280140675026966/iMvMPq1I_normal.jpg', profile_banner_url='https://pbs.twimg.com/profile_banners/736916708682792960/1546701473', profile_link_color='7D181E', profile_sidebar_border_color='000000', profile_sidebar_fill_color='000000', profile_text_color='000000', profile_use_background_image=False, has_extended_profile=True, default_profile=False, default_profile_image=False, following=False, follow_request_sent=False, notifications=False, translator_type='none'), user=User(_api=<tweepy.api.API object at 0x7fa10f333d30>, _json={'id': 736916708682792960, 'id_str': '736916708682792960', 'name': \"Orietta's Recipes\", 'screen_name': 'OriettasRecipes', 'location': '', 'description': 'Ig:\\nhttps://t.co/icIRwtHH96\\n\\n\\nFb:\\nhttps://t.co/cUokDxxHgW\\n\\n\\n📧: oriettambrogno73@gmail.com', 'url': 'https://t.co/EAbtMguqYu', 'entities': {'url': {'urls': [{'url': 'https://t.co/EAbtMguqYu', 'expanded_url': 'http://oriettasrecipes.blogspot.it/', 'display_url': 'oriettasrecipes.blogspot.it', 'indices': [0, 23]}]}, 'description': {'urls': [{'url': 'https://t.co/icIRwtHH96', 'expanded_url': 'https://www.instagram.com/oriettasrecipes', 'display_url': 'instagram.com/oriettasrecipes', 'indices': [4, 27]}, {'url': 'https://t.co/cUokDxxHgW', 'expanded_url': 'https://www.facebook.com/Oriettas-Recipes-100438141378771/', 'display_url': 'facebook.com/Oriettas-Recip…', 'indices': [34, 57]}]}}, 'protected': False, 'followers_count': 6587, 'friends_count': 931, 'listed_count': 83, 'created_at': 'Sun May 29 13:46:49 +0000 2016', 'favourites_count': 434252, 'utc_offset': None, 'time_zone': None, 'geo_enabled': True, 'verified': False, 'statuses_count': 22267, 'lang': None, 'contributors_enabled': False, 'is_translator': False, 'is_translation_enabled': False, 'profile_background_color': '000000', 'profile_background_image_url': 'http://abs.twimg.com/images/themes/theme1/bg.png', 'profile_background_image_url_https': 'https://abs.twimg.com/images/themes/theme1/bg.png', 'profile_background_tile': False, 'profile_image_url': 'http://pbs.twimg.com/profile_images/1139280140675026966/iMvMPq1I_normal.jpg', 'profile_image_url_https': 'https://pbs.twimg.com/profile_images/1139280140675026966/iMvMPq1I_normal.jpg', 'profile_banner_url': 'https://pbs.twimg.com/profile_banners/736916708682792960/1546701473', 'profile_link_color': '7D181E', 'profile_sidebar_border_color': '000000', 'profile_sidebar_fill_color': '000000', 'profile_text_color': '000000', 'profile_use_background_image': False, 'has_extended_profile': True, 'default_profile': False, 'default_profile_image': False, 'following': False, 'follow_request_sent': False, 'notifications': False, 'translator_type': 'none'}, id=736916708682792960, id_str='736916708682792960', name=\"Orietta's Recipes\", screen_name='OriettasRecipes', location='', description='Ig:\\nhttps://t.co/icIRwtHH96\\n\\n\\nFb:\\nhttps://t.co/cUokDxxHgW\\n\\n\\n📧: oriettambrogno73@gmail.com', url='https://t.co/EAbtMguqYu', entities={'url': {'urls': [{'url': 'https://t.co/EAbtMguqYu', 'expanded_url': 'http://oriettasrecipes.blogspot.it/', 'display_url': 'oriettasrecipes.blogspot.it', 'indices': [0, 23]}]}, 'description': {'urls': [{'url': 'https://t.co/icIRwtHH96', 'expanded_url': 'https://www.instagram.com/oriettasrecipes', 'display_url': 'instagram.com/oriettasrecipes', 'indices': [4, 27]}, {'url': 'https://t.co/cUokDxxHgW', 'expanded_url': 'https://www.facebook.com/Oriettas-Recipes-100438141378771/', 'display_url': 'facebook.com/Oriettas-Recip…', 'indices': [34, 57]}]}}, protected=False, followers_count=6587, friends_count=931, listed_count=83, created_at=datetime.datetime(2016, 5, 29, 13, 46, 49), favourites_count=434252, utc_offset=None, time_zone=None, geo_enabled=True, verified=False, statuses_count=22267, lang=None, contributors_enabled=False, is_translator=False, is_translation_enabled=False, profile_background_color='000000', profile_background_image_url='http://abs.twimg.com/images/themes/theme1/bg.png', profile_background_image_url_https='https://abs.twimg.com/images/themes/theme1/bg.png', profile_background_tile=False, profile_image_url='http://pbs.twimg.com/profile_images/1139280140675026966/iMvMPq1I_normal.jpg', profile_image_url_https='https://pbs.twimg.com/profile_images/1139280140675026966/iMvMPq1I_normal.jpg', profile_banner_url='https://pbs.twimg.com/profile_banners/736916708682792960/1546701473', profile_link_color='7D181E', profile_sidebar_border_color='000000', profile_sidebar_fill_color='000000', profile_text_color='000000', profile_use_background_image=False, has_extended_profile=True, default_profile=False, default_profile_image=False, following=False, follow_request_sent=False, notifications=False, translator_type='none'), geo=None, coordinates=None, place=None, contributors=None, is_quote_status=False, retweet_count=18, favorite_count=83, favorited=False, retweeted=False, possibly_sensitive=False, lang='it')"
      ]
     },
     "execution_count": 54,
     "metadata": {},
     "output_type": "execute_result"
    }
   ],
   "source": [
    "tweet"
   ]
  },
  {
   "cell_type": "code",
   "execution_count": 55,
   "metadata": {
    "scrolled": false
   },
   "outputs": [
    {
     "name": "stdout",
     "output_type": "stream",
     "text": [
      "2020-01-17 18:09:56 15\n",
      "2020-01-17 11:57:39 23\n",
      "2020-01-17 07:51:15 16\n",
      "2020-01-16 17:28:59 25\n",
      "2020-01-16 13:51:03 45\n",
      "2020-01-16 11:46:01 14\n",
      "2020-01-16 07:36:10 26\n",
      "2020-01-15 18:24:25 25\n",
      "2020-01-15 11:39:56 17\n",
      "2020-01-15 07:38:50 48\n",
      "2020-01-14 17:59:22 21\n",
      "2020-01-14 11:52:32 19\n",
      "2020-01-14 07:53:59 21\n",
      "2020-01-13 18:15:28 12\n",
      "2020-01-13 11:43:54 27\n",
      "2020-01-13 07:54:36 27\n",
      "2020-01-12 18:10:18 15\n",
      "2020-01-12 11:38:09 15\n",
      "2020-01-12 08:07:22 20\n",
      "2020-01-11 18:53:19 30\n",
      "2020-01-11 11:30:51 24\n",
      "2020-01-11 07:57:43 17\n",
      "2020-01-10 17:55:43 14\n",
      "2020-01-10 14:05:22 13\n",
      "2020-01-10 11:28:53 19\n",
      "2020-01-10 07:03:27 41\n",
      "2020-01-09 18:18:16 18\n"
     ]
    }
   ],
   "source": [
    "for tweet in tweets:\n",
    "    print(tweet.created_at, tweet.retweet_count)"
   ]
  },
  {
   "cell_type": "code",
   "execution_count": 56,
   "metadata": {},
   "outputs": [
    {
     "data": {
      "text/plain": [
       "'Stasera cena a base di pesce! Tonno alla piastra con salsa di soia e menta 😋 😋. Veloce sano e gustoso. La ricetta ⬇️ https://t.co/RMDtXeq6tP #food #FridayMotivation #FelizViernes #weekend #17gennaio https://t.co/Hn2G3WWAPD'"
      ]
     },
     "execution_count": 56,
     "metadata": {},
     "output_type": "execute_result"
    }
   ],
   "source": [
    "tweets[0].full_text"
   ]
  },
  {
   "cell_type": "code",
   "execution_count": null,
   "metadata": {},
   "outputs": [],
   "source": []
  }
 ],
 "metadata": {
  "kernelspec": {
   "display_name": "Python 3",
   "language": "python",
   "name": "python3"
  },
  "language_info": {
   "codemirror_mode": {
    "name": "ipython",
    "version": 3
   },
   "file_extension": ".py",
   "mimetype": "text/x-python",
   "name": "python",
   "nbconvert_exporter": "python",
   "pygments_lexer": "ipython3",
   "version": "3.6.9"
  }
 },
 "nbformat": 4,
 "nbformat_minor": 2
}
