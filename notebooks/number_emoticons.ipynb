{
 "cells": [
  {
   "cell_type": "code",
   "execution_count": 1,
   "metadata": {
    "scrolled": true
   },
   "outputs": [],
   "source": [
    "import pandas as pd\n",
    "import re\n",
    "import nltk"
   ]
  },
  {
   "cell_type": "code",
   "execution_count": 2,
   "metadata": {},
   "outputs": [],
   "source": [
    "df = pd.read_csv(\"../dataset/prova.csv\")"
   ]
  },
  {
   "cell_type": "code",
   "execution_count": 3,
   "metadata": {},
   "outputs": [
    {
     "data": {
      "text/plain": [
       "'La mia cena! Mozzarella in carrozza 🍷🍷☺️. Voi cosa mangiate? https://t.co/Q8p9aVL9QY #ThursdayMotivation #FelizJueves #Food #23gennaio https://t.co/iapJYUHZ0u'"
      ]
     },
     "execution_count": 3,
     "metadata": {},
     "output_type": "execute_result"
    }
   ],
   "source": [
    "tweet = df.iloc[0].text\n",
    "tokens = nltk.word_tokenize(tweet)\n",
    "tweet"
   ]
  },
  {
   "cell_type": "code",
   "execution_count": 4,
   "metadata": {},
   "outputs": [
    {
     "name": "stdout",
     "output_type": "stream",
     "text": [
      "characters:  47\n",
      "question marks:  1\n",
      "esclamation marks:  1\n",
      "emoji:  4\n",
      "hashtags:  4\n",
      "mentions:  0\n",
      "urls:  2\n",
      "consecutive chars (3+):  0\n"
     ]
    }
   ],
   "source": [
    "nr_question_marks, nr_esclamation_marks = 0, 0\n",
    "\n",
    "# question and esclamation marks\n",
    "for token in tokens:\n",
    "    if token == '?':\n",
    "        nr_question_marks += 1\n",
    "    if token == '!':\n",
    "        nr_esclamation_marks += 1\n",
    "\n",
    "# emoji\n",
    "try:\n",
    "    nr_emoji = len(re.findall(\"r'([\\U0001F601-\\U0001F64F])|([\\U00002702-\\U000027B0])|([\\U0001F680-\\U0001F6C0])|([\\U000024C2-\\U0001F251])|([\\U0001F600-\\U0001F636])|([\\U0001F681-\\U0001F6C5])|([\\U0001F30D-\\U0001F567])|([\\U0001F300-\\U0001F5FF])|([\\U00002122-\\U00003299])|([\\U00000023-\\U00000031\\U000020E3])'\", tweet))\n",
    "    tweet = re.sub(\"r'([\\U0001F601-\\U0001F64F])|([\\U00002702-\\U000027B0])|([\\U0001F680-\\U0001F6C0])|([\\U000024C2-\\U0001F251])|([\\U0001F600-\\U0001F636])|([\\U0001F681-\\U0001F6C5])|([\\U0001F30D-\\U0001F567])|([\\U0001F300-\\U0001F5FF])|([\\U00002122-\\U00003299])|([\\U00000023-\\U00000031\\U000020E3])'\", \"\", tweet, count=nr_emoji)\n",
    "except Exception:\n",
    "    nr_emoji = 0\n",
    "\n",
    "\n",
    "# hashtags\n",
    "try:\n",
    "    nr_hashtags = len(re.findall(r\"#(\\w+)\", tweet))\n",
    "    tweet = re.sub(r\"#(\\w+)\", \"\", tweet, count=nr_hashtags)\n",
    "except Exception:\n",
    "    nr_hashtags = 0\n",
    "\n",
    "\n",
    "# tags\n",
    "try:\n",
    "    nr_tags = len(re.findall(r\" @(\\w+)\", tweet))\n",
    "    tweet = re.sub(r\" @(\\w+)\", \"\", tweet, count=nr_tags)\n",
    "except Exception:\n",
    "    nr_tags = 0\n",
    "\n",
    "# urls\n",
    "try:\n",
    "    nr_urls = len(re.findall(r\"http[s]?://([a-zA-Z0-9/.]+)\", tweet))\n",
    "    tweet = re.sub(r\"http[s]?://([a-zA-Z0-9/.]+)\", \"\", tweet, count=nr_urls)\n",
    "except Exception:\n",
    "    nr_urls = 0\n",
    "    \n",
    "# consecutive chars\n",
    "try:\n",
    "    nr_consecutive_chars = len(re.findall(r\"(A-Za-z){3,}\", tweet))\n",
    "    tweet = re.sub(r\"http[s]?://([a-zA-Z0-9/.]+)\", \"\", tweet, count=nr_urls)\n",
    "except Exception:\n",
    "    nr_consecutive_chars = 0\n",
    "    \n",
    "# no spaces\n",
    "try:\n",
    "    tweet = re.sub(\" \", \"\", tweet, len(re.findall(\" \", tweet)))\n",
    "except Exception:\n",
    "    \"Error: spaces have not be deleted from the tweet.\"\n",
    "\n",
    "print(\"characters: \", len(tweet))\n",
    "print(\"question marks: \", nr_question_marks)\n",
    "print(\"esclamation marks: \", nr_esclamation_marks)\n",
    "print(\"emoji: \", nr_emoji)\n",
    "print(\"hashtags: \", nr_hashtags)\n",
    "print(\"mentions: \", nr_tags)\n",
    "print(\"urls: \", nr_urls)\n",
    "print(\"consecutive chars (3+): \", nr_consecutive_chars)"
   ]
  }
 ],
 "metadata": {
  "kernelspec": {
   "display_name": "Python 3",
   "language": "python",
   "name": "python3"
  },
  "language_info": {
   "codemirror_mode": {
    "name": "ipython",
    "version": 3
   },
   "file_extension": ".py",
   "mimetype": "text/x-python",
   "name": "python",
   "nbconvert_exporter": "python",
   "pygments_lexer": "ipython3",
   "version": "3.6.10"
  }
 },
 "nbformat": 4,
 "nbformat_minor": 2
}
