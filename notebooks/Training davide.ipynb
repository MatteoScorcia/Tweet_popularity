{
 "cells": [
  {
   "cell_type": "code",
   "execution_count": 1,
   "metadata": {},
   "outputs": [],
   "source": [
    "import pandas as pd\n",
    "import numpy as np\n",
    "import math\n",
    "from datetime import datetime\n",
    "from sklearn.model_selection import GridSearchCV"
   ]
  },
  {
   "cell_type": "code",
   "execution_count": 2,
   "metadata": {},
   "outputs": [],
   "source": [
    "df = pd.read_csv(\"../dataset/dataset.csv\")"
   ]
  },
  {
   "cell_type": "code",
   "execution_count": 19,
   "metadata": {},
   "outputs": [],
   "source": [
    "# DATASET STANDARDIZATION\n",
    "from sklearn.preprocessing import StandardScaler\n",
    "\n",
    "screen_names = df.screen_name\n",
    "df = df[['time', 'len_plain_text', 'question_marks', 'esclamation_marks', 'emojis', 'hashtags', 'tags', 'urls', 'tf-idf', 'ratio']]\n",
    "scaler = StandardScaler()\n",
    "scaled_features = scaler.fit_transform(df.values)\n",
    "df = pd.DataFrame(scaled_features, index=df.index, columns=df.columns)\n",
    "df['screen_name'] = screen_names"
   ]
  },
  {
   "cell_type": "code",
   "execution_count": 3,
   "metadata": {},
   "outputs": [],
   "source": [
    "X = df[['time', 'len_plain_text', 'question_marks', 'esclamation_marks', 'emojis', 'hashtags', 'tags', 'urls', 'tf-idf']].to_numpy()\n",
    "y = df[['ratio']].to_numpy()"
   ]
  },
  {
   "cell_type": "code",
   "execution_count": null,
   "metadata": {},
   "outputs": [],
   "source": [
    "from sklearn.model_selection import train_test_split\n",
    "\n",
    "X_train, X_test, y_train, y_test = train_test_split(X, y, random_state=0)"
   ]
  },
  {
   "cell_type": "markdown",
   "metadata": {},
   "source": [
    "# k-Nearest Neighbors\n",
    "(good baseline)"
   ]
  },
  {
   "cell_type": "markdown",
   "metadata": {},
   "source": [
    "## Training\n",
    "performed with Grid Search and Cross-Validation"
   ]
  },
  {
   "cell_type": "code",
   "execution_count": null,
   "metadata": {},
   "outputs": [],
   "source": [
    "from sklearn.neighbors import KNeighborsRegressor\n",
    "\n",
    "parameters = {\n",
    "    'kneighborsregressor_nneighbors': [3, 5, 9]\n",
    "}\n",
    "\n",
    "clf = KNeighborsRegressor()\n",
    "\n",
    "grid_search = GridSearchCV(clf, param_grid=parameters, cv=5)\n",
    "grid_search.fit(X_train, y_train.ravel())"
   ]
  },
  {
   "cell_type": "markdown",
   "metadata": {},
   "source": [
    "## Score"
   ]
  },
  {
   "cell_type": "code",
   "execution_count": null,
   "metadata": {},
   "outputs": [],
   "source": [
    "print(\"KNR best parameters: {}\".format(grid_search.best_params_))\n",
    "print(\"KNR best cross-validation score: {:.2f}\".format(grid_search.best_score_))\n",
    "\n",
    "#print(\"Training set score: {:.2f}\".format(grid_search.score(X_train, y_train)))\n",
    "print(\"KNR test set score: {:.2f}\".format(grid_search.score(X_test, y_test)))"
   ]
  },
  {
   "cell_type": "markdown",
   "metadata": {},
   "source": [
    "# Random forest"
   ]
  },
  {
   "cell_type": "markdown",
   "metadata": {},
   "source": [
    "## Training\n",
    "performed with Grid Search and Cross-Validation"
   ]
  },
  {
   "cell_type": "code",
   "execution_count": 4,
   "metadata": {},
   "outputs": [
    {
     "name": "stdout",
     "output_type": "stream",
     "text": [
      "Best parameters: {'max_depth': 3, 'n_estimators': 100}\n",
      "Best cross-validation score: 0.30\n",
      "Test set score: 0.16\n"
     ]
    }
   ],
   "source": [
    "from sklearn.ensemble import RandomForestRegressor\n",
    "\n",
    "parameters = {\n",
    "    'randomforestregressor_maxdepth': [3, 5, 7],\n",
    "    'randomforestregressor_nestimators': [50, 100, 500]\n",
    "}\n",
    "\n",
    "rfr = RandomForestRegressor(n_jobs=-1)\n",
    "\n",
    "grid_search = GridSearchCV(rfr, param_grid=parameters, cv=5)\n",
    "grid_search.fit(X_train, y_train.ravel())"
   ]
  },
  {
   "cell_type": "markdown",
   "metadata": {},
   "source": [
    "## Score"
   ]
  },
  {
   "cell_type": "code",
   "execution_count": null,
   "metadata": {},
   "outputs": [],
   "source": [
    "# Nested cross-validation for evaluation (it doesn't give a model)\n",
    "# scores = cross_val_score(grid_search)\n",
    "\n",
    "print(\"RF best parameters: {}\".format(grid_search.best_params_))\n",
    "print(\"RF best cross-validation score: {:.2f}\".format(grid_search.best_score_))\n",
    "\n",
    "#print(\"Training set score: {:.2f}\".format(grid_search.score(X_train, y_train)))\n",
    "print(\"RF test set score: {:.2f}\".format(grid_search.score(X_test, y_test)))"
   ]
  },
  {
   "cell_type": "markdown",
   "metadata": {},
   "source": [
    "# Support Vector Machine"
   ]
  },
  {
   "cell_type": "markdown",
   "metadata": {},
   "source": [
    "## Training\n",
    "Standard scaling followed by Grid Search and Cross-Validation"
   ]
  },
  {
   "cell_type": "code",
   "execution_count": null,
   "metadata": {},
   "outputs": [],
   "source": [
    "from sklearn.svm import SVR\n",
    "from sklearn.preprocessing import StandardScaler\n",
    "from sklearn.pipeline import make_pipeline\n",
    "\n",
    "parameters = {\n",
    "    'svr_kernel': [\"linear\", \"poly\", \"rbf\"]\n",
    "    'svr_C': [0.1, 1, 100] # valore alto = maggior importanza alle singole osservazioni\n",
    "    #'svr_epsilon': []\n",
    "}\n",
    "\n",
    "pipe = make_pipeline(StandardScaler(), SVR())\n",
    "\n",
    "grid_search = GridSearchCV(pipe, param_grid=parameters, cv=5)\n",
    "grid_search.fit(X_train, y_train.ravel())"
   ]
  },
  {
   "cell_type": "markdown",
   "metadata": {},
   "source": [
    "## Score"
   ]
  },
  {
   "cell_type": "code",
   "execution_count": null,
   "metadata": {},
   "outputs": [],
   "source": [
    "# Nested cross-validation for evaluation (it doesn't give a model)\n",
    "# scores = cross_val_score(grid_search)\n",
    "\n",
    "print(\"SVR best parameters: {}\".format(grid_search.best_params_))\n",
    "print(\"SVR best cross-validation score: {:.2f}\".format(grid_search.best_score_))\n",
    "\n",
    "#print(\"Training set score: {:.2f}\".format(grid_search.score(X_train, y_train)))\n",
    "print(\"SVR test set score: {:.2f}\".format(grid_search.score(X_test, y_test)))"
   ]
  }
 ],
 "metadata": {
  "kernelspec": {
   "display_name": "Python 3",
   "language": "python",
   "name": "python3"
  },
  "language_info": {
   "codemirror_mode": {
    "name": "ipython",
    "version": 3
   },
   "file_extension": ".py",
   "mimetype": "text/x-python",
   "name": "python",
   "nbconvert_exporter": "python",
   "pygments_lexer": "ipython3",
   "version": "3.6.10"
  }
 },
 "nbformat": 4,
 "nbformat_minor": 4
}
