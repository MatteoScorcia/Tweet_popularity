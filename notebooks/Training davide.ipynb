{
 "cells": [
  {
   "cell_type": "code",
   "execution_count": 1,
   "metadata": {},
   "outputs": [],
   "source": [
    "import pandas as pd\n",
    "import numpy as np\n",
    "from sklearn.model_selection import GridSearchCV\n",
    "from sklearn.model_selection import cross_validate"
   ]
  },
  {
   "cell_type": "code",
   "execution_count": 2,
   "metadata": {},
   "outputs": [],
   "source": [
    "df = pd.read_csv(\"../dataset/dataset.csv\")"
   ]
  },
  {
   "cell_type": "code",
   "execution_count": 3,
   "metadata": {},
   "outputs": [],
   "source": [
    "X = df[[\"plain_text_len\", \"question_marks\", \"esclamation_marks\", \"emojis\", \"hashtags\", \"tags\", \"urls\", \"verbs\", \"nouns\", \"adjs\", \"advs\"]].to_numpy()\n",
    "y = df[[\"retweet_count\"]].to_numpy()"
   ]
  },
  {
   "cell_type": "code",
   "execution_count": 4,
   "metadata": {},
   "outputs": [],
   "source": [
    "#from sklearn.model_selection import train_test_split\n",
    "# X_train, X_test, y_train, y_test = train_test_split(X, y, random_state=0)\n",
    "from sklearn.model_selection import KFold\n",
    "\n",
    "kfold_grid = KFold(n_splits=5, shuffle=True, random_state=7)\n",
    "kfold_score = KFold(n_splits=5, shuffle=True, random_state=3)\n",
    "metrics = (\"r2\", \"neg_mean_squared_error\")"
   ]
  },
  {
   "cell_type": "markdown",
   "metadata": {},
   "source": [
    "# k-Nearest Neighbors\n",
    "(good baseline)"
   ]
  },
  {
   "cell_type": "markdown",
   "metadata": {},
   "source": [
    "## Training\n",
    "performed with Grid Search and Cross-Validation"
   ]
  },
  {
   "cell_type": "code",
   "execution_count": 5,
   "metadata": {},
   "outputs": [],
   "source": [
    "from sklearn.neighbors import KNeighborsRegressor\n",
    "\n",
    "parameters = {\n",
    "    'n_neighbors': [5, 10, 15]\n",
    "}\n",
    "\n",
    "clf = KNeighborsRegressor()\n",
    "\n",
    "best_model = GridSearchCV(clf, param_grid=parameters, cv=kfold_grid)\n",
    "# best_model.fit(X_train, y_train.ravel())"
   ]
  },
  {
   "cell_type": "markdown",
   "metadata": {},
   "source": [
    "## Score"
   ]
  },
  {
   "cell_type": "code",
   "execution_count": 6,
   "metadata": {},
   "outputs": [
    {
     "name": "stdout",
     "output_type": "stream",
     "text": [
      "KNR r2 cross-val test scores:  [0.25097109 0.14551093 0.07095449 0.20723867 0.24432638]\n",
      "KNR r2 mean: 0.18\n",
      "KNR r2 std: 0.07\n",
      "KNR neg_mean_squared_error cross-val test scores:  [-70.79516129 -87.5427957  -67.06091398 -94.38652252 -97.83762162]\n",
      "KNR neg_mean_squared_error mean: -83.52\n",
      "KNR neg_mean_squared_error std: 12.43\n"
     ]
    }
   ],
   "source": [
    "# print(\"KNR best parameters: []\".format(best_model.best_params_))\n",
    "# print(\"KNR best cross-val score: {:.2f}\".format(best_model.best_score_))\n",
    "\n",
    "model = \"KNN\"\n",
    "scores = cross_validate(best_model, X, y.ravel(), cv=kfold_score, scoring=metrics, return_estimator=True, return_train_score=True, n_jobs=-1)\n",
    "\n",
    "print(\"{} estimators: \".format(model), scores[\"estimator\"])\n",
    "\n",
    "# R^2\n",
    "print(\"{} {} cross-val test scores: \".format(model, metrics[0]), scores[\"test_\"+metrics[0]])\n",
    "\n",
    "print(\"{} {} test mean: {:.2f}\".format(model, metrics[0], scores[\"test_\"+metrics[0]].mean()))\n",
    "print(\"{} {} test std: {:.2f}\".format(model, metrics[0], scores[\"test_\"+metrics[0]].std()))\n",
    "\n",
    "print(\"{} {} train mean: {:.2f}\".format(model, metrics[0], scores[\"train_\"+metrics[0]].mean()))\n",
    "print(\"{} {} train std: {:.2f}\".format(model, metrics[0], scores[\"train_\"+metrics[0]].std()))\n",
    "\n",
    "# MSE\n",
    "print(\"{} {} cross-val test scores: \".format(model, metrics[1]), scores[\"test_\"+metrics[1]])\n",
    "\n",
    "print(\"{} {} test mean: {:.2f}\".format(model, metrics[1], scores[\"test_\"+metrics[1]].mean()))\n",
    "print(\"{} {} test std: {:.2f}\".format(model, metrics[1], scores[\"test_\"+metrics[1]].std()))\n",
    "\n",
    "print(\"{} {} train mean: {:.2f}\".format(model, metrics[1], scores[\"train_\"+metrics[1]].mean()))\n",
    "print(\"{} {} train std: {:.2f}\".format(model, metrics[1], scores[\"train_\"+metrics[1]].std()))"
   ]
  },
  {
   "cell_type": "markdown",
   "metadata": {},
   "source": [
    "# Random forest"
   ]
  },
  {
   "cell_type": "markdown",
   "metadata": {},
   "source": [
    "## Training\n",
    "performed with Grid Search and Cross-Validation"
   ]
  },
  {
   "cell_type": "code",
   "execution_count": 7,
   "metadata": {},
   "outputs": [],
   "source": [
    "from sklearn.ensemble import RandomForestRegressor\n",
    "\n",
    "parameters = {\n",
    "    'max_depth': [3, 5, 10],\n",
    "    'n_estimators': [100, 500, 1000]\n",
    "}\n",
    "\n",
    "rfr = RandomForestRegressor(n_jobs=-1)\n",
    "\n",
    "best_model = GridSearchCV(rfr, param_grid=parameters, cv=kfold_grid)\n",
    "# best_model.fit(X_train, y_train.ravel())"
   ]
  },
  {
   "cell_type": "markdown",
   "metadata": {},
   "source": [
    "## Score"
   ]
  },
  {
   "cell_type": "code",
   "execution_count": 8,
   "metadata": {},
   "outputs": [
    {
     "name": "stdout",
     "output_type": "stream",
     "text": [
      "RF r2 cross-val test scores:  [0.49981988 0.34274362 0.24712902 0.57402038 0.5177707 ]\n",
      "RF r2 mean: 0.44\n",
      "RF r2 std: 0.12\n",
      "RF neg_mean_squared_error cross-val test scores:  [-47.27498797 -67.33621673 -54.34418012 -50.71732632 -62.43458266]\n",
      "RF neg_mean_squared_error mean: -56.42\n",
      "RF neg_mean_squared_error std: 7.43\n"
     ]
    }
   ],
   "source": [
    "# print(\"RF best parameters: []\".format(best_model.best_params_))\n",
    "# print(\"RF best cross-val score: {:.2f}\".format(best_model.best_score_))\n",
    "# print(\"RF test set score: {:.2f}\".format(grid_search.score(X_test, y_test)))\n",
    "\n",
    "model = \"RF\"\n",
    "scores = cross_validate(best_model, X, y.ravel(), cv=kfold_score, scoring=metrics, return_estimator=True, return_train_score=True, n_jobs=-1)\n",
    "\n",
    "print(\"{} estimators: \".format(model), scores[\"estimator\"])\n",
    "\n",
    "# R^2\n",
    "print(\"{} {} cross-val test scores: \".format(model, metrics[0]), scores[\"test_\"+metrics[0]])\n",
    "\n",
    "print(\"{} {} test mean: {:.2f}\".format(model, metrics[0], scores[\"test_\"+metrics[0]].mean()))\n",
    "print(\"{} {} test std: {:.2f}\".format(model, metrics[0], scores[\"test_\"+metrics[0]].std()))\n",
    "\n",
    "print(\"{} {} train mean: {:.2f}\".format(model, metrics[0], scores[\"train_\"+metrics[0]].mean()))\n",
    "print(\"{} {} train std: {:.2f}\".format(model, metrics[0], scores[\"train_\"+metrics[0]].std()))\n",
    "\n",
    "# MSE\n",
    "print(\"{} {} cross-val test scores: \".format(model, metrics[1]), scores[\"test_\"+metrics[1]])\n",
    "\n",
    "print(\"{} {} test mean: {:.2f}\".format(model, metrics[1], scores[\"test_\"+metrics[1]].mean()))\n",
    "print(\"{} {} test std: {:.2f}\".format(model, metrics[1], scores[\"test_\"+metrics[1]].std()))\n",
    "\n",
    "print(\"{} {} train mean: {:.2f}\".format(model, metrics[1], scores[\"train_\"+metrics[1]].mean()))\n",
    "print(\"{} {} train std: {:.2f}\".format(model, metrics[1], scores[\"train_\"+metrics[1]].std()))"
   ]
  },
  {
   "cell_type": "markdown",
   "metadata": {},
   "source": [
    "# Support Vector Machine"
   ]
  },
  {
   "cell_type": "markdown",
   "metadata": {},
   "source": [
    "## Training\n",
    "Standard scaling followed by Grid Search and Cross-Validation"
   ]
  },
  {
   "cell_type": "code",
   "execution_count": 9,
   "metadata": {},
   "outputs": [],
   "source": [
    "from sklearn.svm import SVR\n",
    "from sklearn.preprocessing import StandardScaler\n",
    "from sklearn.pipeline import make_pipeline\n",
    "\n",
    "parameters = {\n",
    "    'svr__kernel': [\"linear\", \"poly\", \"rbf\"],\n",
    "    'svr__C': [0.01, 0.1, 1, 10, 100, 1000] # valore alto = maggior importanza alle singole osservazioni\n",
    "}\n",
    "\n",
    "pipe = make_pipeline(StandardScaler(), SVR())\n",
    "\n",
    "best_model = GridSearchCV(pipe, param_grid=parameters, cv=kfold_grid)\n",
    "# best_model.fit(X_train, y_train.ravel())"
   ]
  },
  {
   "cell_type": "markdown",
   "metadata": {},
   "source": [
    "## Score"
   ]
  },
  {
   "cell_type": "code",
   "execution_count": 10,
   "metadata": {},
   "outputs": [
    {
     "name": "stdout",
     "output_type": "stream",
     "text": [
      "SVR r2 cross-val test scores:  [0.42888295 0.32666401 0.20911732 0.44584852 0.37586   ]\n",
      "SVR r2 mean: 0.36\n",
      "SVR r2 std: 0.09\n",
      "SVR neg_mean_squared_error cross-val test scores:  [-53.9796568  -68.98358002 -57.08796319 -65.97752658 -80.80786638]\n",
      "SVR neg_mean_squared_error mean: -65.37\n",
      "SVR neg_mean_squared_error std: 9.49\n"
     ]
    }
   ],
   "source": [
    "# print(\"SVR best parameters: []\".format(best_model.best_params_))\n",
    "# print(\"SVR best cross-val score: {:.2f}\".format(best_model.best_score_))\n",
    "\n",
    "Model = \"SVR\"\n",
    "scores = cross_validate(best_model, X, y.ravel(), cv=kfold_score, scoring=metrics, return_estimator=True, return_train_score=True, n_jobs=-1)\n",
    "\n",
    "print(\"{} estimators: \".format(model), scores[\"estimator\"])\n",
    "\n",
    "# R^2\n",
    "print(\"{} {} cross-val test scores: \".format(model, metrics[0]), scores[\"test_\"+metrics[0]])\n",
    "\n",
    "print(\"{} {} test mean: {:.2f}\".format(model, metrics[0], scores[\"test_\"+metrics[0]].mean()))\n",
    "print(\"{} {} test std: {:.2f}\".format(model, metrics[0], scores[\"test_\"+metrics[0]].std()))\n",
    "\n",
    "print(\"{} {} train mean: {:.2f}\".format(model, metrics[0], scores[\"train_\"+metrics[0]].mean()))\n",
    "print(\"{} {} train std: {:.2f}\".format(model, metrics[0], scores[\"train_\"+metrics[0]].std()))\n",
    "\n",
    "# MSE\n",
    "print(\"{} {} cross-val test scores: \".format(model, metrics[1]), scores[\"test_\"+metrics[1]])\n",
    "\n",
    "print(\"{} {} test mean: {:.2f}\".format(model, metrics[1], scores[\"test_\"+metrics[1]].mean()))\n",
    "print(\"{} {} test std: {:.2f}\".format(model, metrics[1], scores[\"test_\"+metrics[1]].std()))\n",
    "\n",
    "print(\"{} {} train mean: {:.2f}\".format(model, metrics[1], scores[\"train_\"+metrics[1]].mean()))\n",
    "print(\"{} {} train std: {:.2f}\".format(model, metrics[1], scores[\"train_\"+metrics[1]].std()))"
   ]
  }
 ],
 "metadata": {
  "kernelspec": {
   "display_name": "Python 3",
   "language": "python",
   "name": "python3"
  },
  "language_info": {
   "codemirror_mode": {
    "name": "ipython",
    "version": 3
   },
   "file_extension": ".py",
   "mimetype": "text/x-python",
   "name": "python",
   "nbconvert_exporter": "python",
   "pygments_lexer": "ipython3",
   "version": "3.8.5"
  }
 },
 "nbformat": 4,
 "nbformat_minor": 4
}
