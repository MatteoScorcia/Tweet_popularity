{
 "cells": [
  {
   "cell_type": "code",
   "execution_count": 1,
   "metadata": {},
   "outputs": [],
   "source": [
    "import pandas as pd\n",
    "import numpy as np\n",
    "from sklearn.model_selection import GridSearchCV\n",
    "from sklearn.model_selection import cross_validate\n",
    "from sklearn.dummy import DummyRegressor\n",
    "import math"
   ]
  },
  {
   "cell_type": "code",
   "execution_count": 2,
   "metadata": {},
   "outputs": [],
   "source": [
    "df = pd.read_csv(\"../dataset/dataset.csv\")"
   ]
  },
  {
   "cell_type": "code",
   "execution_count": 3,
   "metadata": {},
   "outputs": [],
   "source": [
    "X = df[[\"plain_text_len\", \"question_marks\", \"esclamation_marks\", \"emojis\", \"hashtags\", \"tags\", \"urls\", \"verbs\", \"nouns\", \"adjs\", \"advs\"]].to_numpy()\n",
    "y = df[[\"retweet_count\"]].to_numpy()"
   ]
  },
  {
   "cell_type": "code",
   "execution_count": 4,
   "metadata": {},
   "outputs": [],
   "source": [
    "#from sklearn.model_selection import train_test_split\n",
    "# X_train, X_test, y_train, y_test = train_test_split(X, y, random_state=0)\n",
    "from sklearn.model_selection import KFold\n",
    "\n",
    "kfold_grid = KFold(n_splits=3, shuffle=True, random_state=7)\n",
    "kfold_score = KFold(n_splits=3, shuffle=True, random_state=3)\n",
    "metrics = (\"neg_root_mean_squared_error\", \"sd\")"
   ]
  },
  {
   "cell_type": "markdown",
   "metadata": {},
   "source": [
    "# Trivial Predictor\n",
    "Calcola la media"
   ]
  },
  {
   "cell_type": "code",
   "execution_count": 5,
   "metadata": {},
   "outputs": [
    {
     "name": "stdout",
     "output_type": "stream",
     "text": [
      "TP sd cross-val test scores:  [ -9.85331661  -9.56552883 -10.57559733]\n",
      "TP sd test mean: -10.00\n",
      "TP sd test std: 0.42\n",
      "TP sd train mean: -10.00\n",
      "TP sd train std: 0.22\n"
     ]
    }
   ],
   "source": [
    "model = \"TP\"\n",
    "dr = DummyRegressor(strategy=\"mean\")\n",
    "sd_scores = cross_validate(dr, X, y.ravel(), scoring=metrics[0], return_train_score=True, cv=kfold_score, n_jobs=-1)\n",
    "\n",
    "#sd_scores1 = []\n",
    "#\n",
    "# VERIFICA\n",
    "#for train_index, test_index in kfold_score.split(X):\n",
    "#    X_train, X_test = X[train_index], X[test_index]\n",
    "#    y_train, y_test = y[train_index], y[test_index]\n",
    "#    dr.fit(X_train, y_train.ravel()) # calcola media\n",
    "#    dr_predictions = dr.predict(X_test) # predice tutti i valori\n",
    "#    fold_sd_score = np.power(np.power(y_test.ravel()-dr_predictions, 2).mean(), 1/2)\n",
    "#    sd_scores1.append(fold_sd_score)\n",
    "#\n",
    "#print(\"{} {} cross-val test scores (manually): \".format(model, metrics[1]), sd_scores1)\n",
    "\n",
    "# SD\n",
    "print(\"{} {} cross-val test scores: \".format(model, metrics[1]), sd_scores[\"test_score\"])\n",
    "\n",
    "print(\"{} {} test mean: {:.2f}\".format(model, metrics[1], sd_scores[\"test_score\"].mean()))\n",
    "print(\"{} {} test std: {:.2f}\".format(model, metrics[1], sd_scores[\"test_score\"].std()))\n",
    "\n",
    "print(\"{} {} train mean: {:.2f}\".format(model, metrics[1], sd_scores[\"train_score\"].mean()))\n",
    "print(\"{} {} train std: {:.2f}\".format(model, metrics[1], sd_scores[\"train_score\"].std()))"
   ]
  },
  {
   "cell_type": "markdown",
   "metadata": {},
   "source": [
    "# k-Nearest Neighbors\n",
    "(trivial predictor #2)\n",
    "Training is performed with Grid Search and Cross-Validation"
   ]
  },
  {
   "cell_type": "code",
   "execution_count": 6,
   "metadata": {},
   "outputs": [],
   "source": [
    "from sklearn.neighbors import KNeighborsRegressor\n",
    "from sklearn.preprocessing import StandardScaler\n",
    "from sklearn.pipeline import make_pipeline\n",
    "\n",
    "parameters = {\n",
    "    'kneighborsregressor__n_neighbors': [5, 10, 15]\n",
    "}\n",
    "\n",
    "clf = KNeighborsRegressor()\n",
    "pipe = make_pipeline(StandardScaler(), clf)\n",
    "\n",
    "best_model = GridSearchCV(pipe, param_grid=parameters, cv=kfold_grid)\n",
    "# best_model.fit(X_train, y_train.ravel())"
   ]
  },
  {
   "cell_type": "code",
   "execution_count": 7,
   "metadata": {},
   "outputs": [
    {
     "name": "stdout",
     "output_type": "stream",
     "text": [
      "KNN neg_root_mean_squared_error cross-val test scores:  [-7.31761723 -7.07534947 -7.57913355]\n",
      "KNN neg_root_mean_squared_error test mean: -7.32\n",
      "KNN neg_root_mean_squared_error test std: 0.21\n",
      "KNN neg_root_mean_squared_error train mean: -6.74\n",
      "KNN neg_root_mean_squared_error train std: 0.16\n"
     ]
    }
   ],
   "source": [
    "# print(\"KNR best parameters: []\".format(best_model.best_params_))\n",
    "# print(\"KNR best cross-val score: {:.2f}\".format(best_model.best_score_))\n",
    "\n",
    "model = \"KNN\"\n",
    "scores = cross_validate(best_model, X, y.ravel(), cv=kfold_score, scoring=metrics[0], return_train_score=True, n_jobs=-1)\n",
    "\n",
    "# RMSE\n",
    "print(\"{} {} cross-val test scores: \".format(model, metrics[0]), scores[\"test_score\"])\n",
    "\n",
    "print(\"{} {} test mean: {:.2f}\".format(model, metrics[0], scores[\"test_score\"].mean()))\n",
    "print(\"{} {} test std: {:.2f}\".format(model, metrics[0], scores[\"test_score\"].std()))\n",
    "\n",
    "print(\"{} {} train mean: {:.2f}\".format(model, metrics[0], scores[\"train_score\"].mean()))\n",
    "print(\"{} {} train std: {:.2f}\".format(model, metrics[0], scores[\"train_score\"].std()))"
   ]
  },
  {
   "cell_type": "markdown",
   "metadata": {},
   "source": [
    "# Random forest"
   ]
  },
  {
   "cell_type": "markdown",
   "metadata": {},
   "source": [
    "Training is performed with Grid Search and Cross-Validation"
   ]
  },
  {
   "cell_type": "code",
   "execution_count": 8,
   "metadata": {},
   "outputs": [],
   "source": [
    "from sklearn.ensemble import RandomForestRegressor\n",
    "\n",
    "parameters = {\n",
    "    'max_depth': [3, 5, 10],\n",
    "    'n_estimators': [100, 500, 1000]\n",
    "}\n",
    "\n",
    "rfr = RandomForestRegressor(n_jobs=-1)\n",
    "\n",
    "best_model = GridSearchCV(rfr, param_grid=parameters, cv=kfold_grid)\n",
    "# best_model.fit(X_train, y_train.ravel())"
   ]
  },
  {
   "cell_type": "code",
   "execution_count": 9,
   "metadata": {},
   "outputs": [
    {
     "name": "stdout",
     "output_type": "stream",
     "text": [
      "RF neg_root_mean_squared_error cross-val test scores:  [-7.02812343 -6.72792903 -7.47683205]\n",
      "RF neg_root_mean_squared_error test mean: -7.08\n",
      "RF neg_root_mean_squared_error test std: 0.31\n",
      "RF neg_root_mean_squared_error train mean: -6.36\n",
      "RF neg_root_mean_squared_error train std: 0.31\n"
     ]
    }
   ],
   "source": [
    "# print(\"RF best parameters: []\".format(best_model.best_params_))\n",
    "# print(\"RF best cross-val score: {:.2f}\".format(best_model.best_score_))\n",
    "# print(\"RF test set score: {:.2f}\".format(grid_search.score(X_test, y_test)))\n",
    "\n",
    "model = \"RF\"\n",
    "scores = cross_validate(best_model, X, y.ravel(), cv=kfold_score, scoring=metrics[0], return_train_score=True, n_jobs=-1)\n",
    "\n",
    "# RMSE\n",
    "print(\"{} {} cross-val test scores: \".format(model, metrics[0]), scores[\"test_score\"])\n",
    "\n",
    "print(\"{} {} test mean: {:.2f}\".format(model, metrics[0], scores[\"test_score\"].mean()))\n",
    "print(\"{} {} test std: {:.2f}\".format(model, metrics[0], scores[\"test_score\"].std()))\n",
    "\n",
    "print(\"{} {} train mean: {:.2f}\".format(model, metrics[0], scores[\"train_score\"].mean()))\n",
    "print(\"{} {} train std: {:.2f}\".format(model, metrics[0], scores[\"train_score\"].std()))"
   ]
  },
  {
   "cell_type": "markdown",
   "metadata": {},
   "source": [
    "# Support Vector Machine"
   ]
  },
  {
   "cell_type": "markdown",
   "metadata": {},
   "source": [
    "Training is performed with Standard scaling followed by Grid Search and Cross-Validation"
   ]
  },
  {
   "cell_type": "code",
   "execution_count": 10,
   "metadata": {},
   "outputs": [],
   "source": [
    "from sklearn.svm import SVR\n",
    "\n",
    "parameters = {\n",
    "    'svr__kernel': [\"linear\", \"poly\", \"rbf\"],\n",
    "    'svr__C': [0.01, 0.1, 1, 10, 100, 1000] # valore alto = maggior importanza alle singole osservazioni\n",
    "}\n",
    "\n",
    "pipe = make_pipeline(StandardScaler(), SVR())\n",
    "\n",
    "best_model = GridSearchCV(pipe, param_grid=parameters, cv=kfold_grid)\n",
    "# best_model.fit(X_train, y_train.ravel())"
   ]
  },
  {
   "cell_type": "code",
   "execution_count": 11,
   "metadata": {},
   "outputs": [
    {
     "name": "stdout",
     "output_type": "stream",
     "text": [
      "RF neg_root_mean_squared_error cross-val test scores:  [-7.20828344 -7.25046513 -7.87478343]\n",
      "RF neg_root_mean_squared_error test mean: -7.44\n",
      "RF neg_root_mean_squared_error test std: 0.30\n",
      "RF neg_root_mean_squared_error train mean: -6.66\n",
      "RF neg_root_mean_squared_error train std: 0.09\n"
     ]
    }
   ],
   "source": [
    "# print(\"SVR best parameters: []\".format(best_model.best_params_))\n",
    "# print(\"SVR best cross-val score: {:.2f}\".format(best_model.best_score_))\n",
    "\n",
    "Model = \"SVR\"\n",
    "scores = cross_validate(best_model, X, y.ravel(), cv=kfold_score, scoring=metrics[0], return_train_score=True, n_jobs=-1)\n",
    "\n",
    "# RMSE\n",
    "print(\"{} {} cross-val test scores: \".format(model, metrics[0]), scores[\"test_score\"])\n",
    "\n",
    "print(\"{} {} test mean: {:.2f}\".format(model, metrics[0], scores[\"test_score\"].mean()))\n",
    "print(\"{} {} test std: {:.2f}\".format(model, metrics[0], scores[\"test_score\"].std()))\n",
    "\n",
    "print(\"{} {} train mean: {:.2f}\".format(model, metrics[0], scores[\"train_score\"].mean()))\n",
    "print(\"{} {} train std: {:.2f}\".format(model, metrics[0], scores[\"train_score\"].std()))"
   ]
  }
 ],
 "metadata": {
  "kernelspec": {
   "display_name": "Python 3",
   "language": "python",
   "name": "python3"
  },
  "language_info": {
   "codemirror_mode": {
    "name": "ipython",
    "version": 3
   },
   "file_extension": ".py",
   "mimetype": "text/x-python",
   "name": "python",
   "nbconvert_exporter": "python",
   "pygments_lexer": "ipython3",
   "version": "3.8.5"
  }
 },
 "nbformat": 4,
 "nbformat_minor": 4
}
