{
 "cells": [
  {
   "cell_type": "code",
   "execution_count": 1,
   "metadata": {},
   "outputs": [],
   "source": [
    "import pandas as pd\n",
    "import numpy as np\n",
    "from datetime import datetime\n",
    "from sklearn.ensemble import RandomForestRegressor\n",
    "from sklearn.svm import LinearSVR\n",
    "from sklearn.model_selection import KFold\n",
    "from sklearn.preprocessing import StandardScaler\n",
    "from sklearn.metrics import mean_squared_error"
   ]
  },
  {
   "cell_type": "code",
   "execution_count": 2,
   "metadata": {},
   "outputs": [],
   "source": [
    "df = pd.read_csv(\"../dataset/dataset.csv\")"
   ]
  },
  {
   "cell_type": "code",
   "execution_count": 3,
   "metadata": {},
   "outputs": [],
   "source": [
    "# DATE TO TIME (!to delete!)\n",
    "time = []\n",
    "for index, row in df.iterrows():\n",
    "    time.append(datetime.strptime(row.date, \"%Y-%m-%d %H:%M:%S\").hour)\n",
    "\n",
    "df = df.replace(df.date.to_list(), time)\n",
    "df = df.rename(columns={'date': 'time'})"
   ]
  },
  {
   "cell_type": "code",
   "execution_count": 4,
   "metadata": {},
   "outputs": [],
   "source": [
    "X = df[['time', 'len_plain_text', 'question_marks', 'esclamation_marks', 'emojis', 'hashtags', 'tags', 'urls']]\n",
    "y = df[['ratio']]"
   ]
  },
  {
   "cell_type": "markdown",
   "metadata": {},
   "source": [
    "RANDOM FOREST"
   ]
  },
  {
   "cell_type": "code",
   "execution_count": 5,
   "metadata": {
    "scrolled": true
   },
   "outputs": [],
   "source": [
    "# TRAINING\n",
    "\n",
    "rf_clf = RandomForestRegressor(n_estimators=100, oob_score=True)\n",
    "\n",
    "kf = KFold(n_splits=10)\n",
    "rf_mses = []\n",
    "\n",
    "for train_index, test_index in kf.split(X):\n",
    "    X_train, X_test = X.iloc[train_index], X.iloc[test_index]\n",
    "    y_train, y_test = y.iloc[train_index], y.iloc[test_index]\n",
    "    rf_clf.fit(X_train, y_train.values.ravel())\n",
    "    rf_predictions = rf_clf.predict(X_test)\n",
    "    rf_mses.append(mean_squared_error(y_test.values.ravel(), rf_predictions))"
   ]
  },
  {
   "cell_type": "code",
   "execution_count": 6,
   "metadata": {},
   "outputs": [
    {
     "name": "stdout",
     "output_type": "stream",
     "text": [
      "time :  0.0646573610080958\n",
      "len_plain_text :  0.11772285620803609\n",
      "question_marks :  0.006970306105666763\n",
      "esclamation_marks :  0.025558322658745778\n",
      "emojis :  0.41108329325023824\n",
      "hashtags :  0.09056151527617144\n",
      "tags :  0.012529128246448985\n",
      "urls :  0.270917217246597\n"
     ]
    }
   ],
   "source": [
    "# VARIABLE IMPORTANCE\n",
    "\n",
    "for i in range(0,len(X.columns)):\n",
    "    print(X.columns[i], \": \", rf_clf.feature_importances_[i])"
   ]
  },
  {
   "cell_type": "code",
   "execution_count": 7,
   "metadata": {},
   "outputs": [
    {
     "name": "stdout",
     "output_type": "stream",
     "text": [
      "MSE mean:  1.701032074322738e-05\n",
      "MSE variance:  9.197332767961898e-10\n"
     ]
    }
   ],
   "source": [
    "# RF MSE mean and variance\n",
    "\n",
    "rf_mean = 0\n",
    "for mse in rf_mses:\n",
    "    rf_mean += mse\n",
    "rf_mean = rf_mean/len(rf_mses)\n",
    "\n",
    "rf_variance = 0\n",
    "for mse in rf_mses:\n",
    "    rf_variance += ((mse - rf_mean)**2)\n",
    "rf_variance = rf_variance/len(rf_mses)\n",
    "    \n",
    "print(\"MSE mean: \", rf_mean)\n",
    "print(\"MSE variance: \", rf_variance)"
   ]
  },
  {
   "cell_type": "code",
   "execution_count": 8,
   "metadata": {},
   "outputs": [
    {
     "name": "stdout",
     "output_type": "stream",
     "text": [
      "0.5989048135646451\n"
     ]
    }
   ],
   "source": [
    "# OOB Score\n",
    "\n",
    "print(rf_clf.oob_score_)"
   ]
  },
  {
   "cell_type": "markdown",
   "metadata": {},
   "source": [
    "SVR"
   ]
  },
  {
   "cell_type": "code",
   "execution_count": 9,
   "metadata": {
    "scrolled": true
   },
   "outputs": [
    {
     "data": {
      "text/html": [
       "<div>\n",
       "<style scoped>\n",
       "    .dataframe tbody tr th:only-of-type {\n",
       "        vertical-align: middle;\n",
       "    }\n",
       "\n",
       "    .dataframe tbody tr th {\n",
       "        vertical-align: top;\n",
       "    }\n",
       "\n",
       "    .dataframe thead th {\n",
       "        text-align: right;\n",
       "    }\n",
       "</style>\n",
       "<table border=\"1\" class=\"dataframe\">\n",
       "  <thead>\n",
       "    <tr style=\"text-align: right;\">\n",
       "      <th></th>\n",
       "      <th>Unnamed: 0</th>\n",
       "      <th>screen_name</th>\n",
       "      <th>time</th>\n",
       "      <th>text</th>\n",
       "      <th>retweet_count</th>\n",
       "      <th>favourites_count</th>\n",
       "      <th>ratio</th>\n",
       "      <th>len_plain_text</th>\n",
       "      <th>question_marks</th>\n",
       "      <th>esclamation_marks</th>\n",
       "      <th>emojis</th>\n",
       "      <th>hashtags</th>\n",
       "      <th>tags</th>\n",
       "      <th>urls</th>\n",
       "      <th>consecutive_chars</th>\n",
       "      <th>tf-idf</th>\n",
       "    </tr>\n",
       "  </thead>\n",
       "  <tbody>\n",
       "    <tr>\n",
       "      <th>0</th>\n",
       "      <td>0</td>\n",
       "      <td>Orietta's Recipes</td>\n",
       "      <td>18</td>\n",
       "      <td>La mia cena! Mozzarella in carrozza 🍷🍷☺️. Voi ...</td>\n",
       "      <td>19</td>\n",
       "      <td>95</td>\n",
       "      <td>0.014381</td>\n",
       "      <td>44</td>\n",
       "      <td>1</td>\n",
       "      <td>1</td>\n",
       "      <td>3</td>\n",
       "      <td>4</td>\n",
       "      <td>0</td>\n",
       "      <td>2</td>\n",
       "      <td>0</td>\n",
       "      <td>4.094528</td>\n",
       "    </tr>\n",
       "    <tr>\n",
       "      <th>1</th>\n",
       "      <td>1</td>\n",
       "      <td>Orietta's Recipes</td>\n",
       "      <td>11</td>\n",
       "      <td>Buon pranzo a tutti! 😋 Oggi spatzle con filett...</td>\n",
       "      <td>14</td>\n",
       "      <td>79</td>\n",
       "      <td>0.011959</td>\n",
       "      <td>72</td>\n",
       "      <td>1</td>\n",
       "      <td>1</td>\n",
       "      <td>4</td>\n",
       "      <td>6</td>\n",
       "      <td>0</td>\n",
       "      <td>2</td>\n",
       "      <td>0</td>\n",
       "      <td>5.005952</td>\n",
       "    </tr>\n",
       "    <tr>\n",
       "      <th>2</th>\n",
       "      <td>2</td>\n",
       "      <td>Orietta's Recipes</td>\n",
       "      <td>7</td>\n",
       "      <td>Eccomi con la mia😍 NUOVA 😍 ricetta, per colazi...</td>\n",
       "      <td>25</td>\n",
       "      <td>98</td>\n",
       "      <td>0.014835</td>\n",
       "      <td>102</td>\n",
       "      <td>0</td>\n",
       "      <td>2</td>\n",
       "      <td>7</td>\n",
       "      <td>4</td>\n",
       "      <td>0</td>\n",
       "      <td>2</td>\n",
       "      <td>0</td>\n",
       "      <td>5.987209</td>\n",
       "    </tr>\n",
       "    <tr>\n",
       "      <th>3</th>\n",
       "      <td>3</td>\n",
       "      <td>Orietta's Recipes</td>\n",
       "      <td>17</td>\n",
       "      <td>È quasi ora di cena! Io ho un po' di fame  ☺️☺...</td>\n",
       "      <td>24</td>\n",
       "      <td>106</td>\n",
       "      <td>0.016046</td>\n",
       "      <td>101</td>\n",
       "      <td>1</td>\n",
       "      <td>1</td>\n",
       "      <td>4</td>\n",
       "      <td>4</td>\n",
       "      <td>0</td>\n",
       "      <td>2</td>\n",
       "      <td>0</td>\n",
       "      <td>6.697221</td>\n",
       "    </tr>\n",
       "    <tr>\n",
       "      <th>4</th>\n",
       "      <td>4</td>\n",
       "      <td>Orietta's Recipes</td>\n",
       "      <td>11</td>\n",
       "      <td>Arriva l'ora di pranzo e viene voglia di un pi...</td>\n",
       "      <td>26</td>\n",
       "      <td>108</td>\n",
       "      <td>0.016349</td>\n",
       "      <td>115</td>\n",
       "      <td>0</td>\n",
       "      <td>0</td>\n",
       "      <td>3</td>\n",
       "      <td>4</td>\n",
       "      <td>0</td>\n",
       "      <td>2</td>\n",
       "      <td>0</td>\n",
       "      <td>6.074053</td>\n",
       "    </tr>\n",
       "  </tbody>\n",
       "</table>\n",
       "</div>"
      ],
      "text/plain": [
       "   Unnamed: 0        screen_name  time  \\\n",
       "0           0  Orietta's Recipes    18   \n",
       "1           1  Orietta's Recipes    11   \n",
       "2           2  Orietta's Recipes     7   \n",
       "3           3  Orietta's Recipes    17   \n",
       "4           4  Orietta's Recipes    11   \n",
       "\n",
       "                                                text  retweet_count  \\\n",
       "0  La mia cena! Mozzarella in carrozza 🍷🍷☺️. Voi ...             19   \n",
       "1  Buon pranzo a tutti! 😋 Oggi spatzle con filett...             14   \n",
       "2  Eccomi con la mia😍 NUOVA 😍 ricetta, per colazi...             25   \n",
       "3  È quasi ora di cena! Io ho un po' di fame  ☺️☺...             24   \n",
       "4  Arriva l'ora di pranzo e viene voglia di un pi...             26   \n",
       "\n",
       "   favourites_count     ratio  len_plain_text  question_marks  \\\n",
       "0                95  0.014381              44               1   \n",
       "1                79  0.011959              72               1   \n",
       "2                98  0.014835             102               0   \n",
       "3               106  0.016046             101               1   \n",
       "4               108  0.016349             115               0   \n",
       "\n",
       "   esclamation_marks  emojis  hashtags  tags  urls  consecutive_chars  \\\n",
       "0                  1       3         4     0     2                  0   \n",
       "1                  1       4         6     0     2                  0   \n",
       "2                  2       7         4     0     2                  0   \n",
       "3                  1       4         4     0     2                  0   \n",
       "4                  0       3         4     0     2                  0   \n",
       "\n",
       "     tf-idf  \n",
       "0  4.094528  \n",
       "1  5.005952  \n",
       "2  5.987209  \n",
       "3  6.697221  \n",
       "4  6.074053  "
      ]
     },
     "execution_count": 9,
     "metadata": {},
     "output_type": "execute_result"
    }
   ],
   "source": [
    "df.head()"
   ]
  },
  {
   "cell_type": "code",
   "execution_count": 10,
   "metadata": {},
   "outputs": [],
   "source": [
    "# DATASET STANDARDIZATION\n",
    "\n",
    "df = df[['time', 'len_plain_text', 'question_marks', 'esclamation_marks', 'emojis', 'hashtags', 'tags', 'urls', 'ratio']]\n",
    "scaler = StandardScaler()\n",
    "df = scaler.fit_transform(df)"
   ]
  },
  {
   "cell_type": "code",
   "execution_count": null,
   "metadata": {},
   "outputs": [],
   "source": [
    "df = pd.DataFrame(data=df[1:,1:],index=df[1:,0], columns=df[0,1:])\n",
    "df.head()"
   ]
  },
  {
   "cell_type": "code",
   "execution_count": 13,
   "metadata": {},
   "outputs": [],
   "source": [
    "X = df[0:,0:7]\n",
    "y = df[0:, 8]"
   ]
  },
  {
   "cell_type": "code",
   "execution_count": 14,
   "metadata": {},
   "outputs": [
    {
     "ename": "AttributeError",
     "evalue": "'numpy.ndarray' object has no attribute 'iloc'",
     "output_type": "error",
     "traceback": [
      "\u001b[0;31m---------------------------------------------------------------------------\u001b[0m",
      "\u001b[0;31mAttributeError\u001b[0m                            Traceback (most recent call last)",
      "\u001b[0;32m<ipython-input-14-675d2512e76a>\u001b[0m in \u001b[0;36m<module>\u001b[0;34m\u001b[0m\n\u001b[1;32m      7\u001b[0m \u001b[0;34m\u001b[0m\u001b[0m\n\u001b[1;32m      8\u001b[0m \u001b[0;32mfor\u001b[0m \u001b[0mtrain_index\u001b[0m\u001b[0;34m,\u001b[0m \u001b[0mtest_index\u001b[0m \u001b[0;32min\u001b[0m \u001b[0mkf\u001b[0m\u001b[0;34m.\u001b[0m\u001b[0msplit\u001b[0m\u001b[0;34m(\u001b[0m\u001b[0mX\u001b[0m\u001b[0;34m)\u001b[0m\u001b[0;34m:\u001b[0m\u001b[0;34m\u001b[0m\u001b[0;34m\u001b[0m\u001b[0m\n\u001b[0;32m----> 9\u001b[0;31m     \u001b[0mX_train\u001b[0m\u001b[0;34m,\u001b[0m \u001b[0mX_test\u001b[0m \u001b[0;34m=\u001b[0m \u001b[0mX\u001b[0m\u001b[0;34m.\u001b[0m\u001b[0miloc\u001b[0m\u001b[0;34m[\u001b[0m\u001b[0mtrain_index\u001b[0m\u001b[0;34m]\u001b[0m\u001b[0;34m,\u001b[0m \u001b[0mX\u001b[0m\u001b[0;34m.\u001b[0m\u001b[0miloc\u001b[0m\u001b[0;34m[\u001b[0m\u001b[0mtest_index\u001b[0m\u001b[0;34m]\u001b[0m\u001b[0;34m\u001b[0m\u001b[0;34m\u001b[0m\u001b[0m\n\u001b[0m\u001b[1;32m     10\u001b[0m     \u001b[0my_train\u001b[0m\u001b[0;34m,\u001b[0m \u001b[0my_test\u001b[0m \u001b[0;34m=\u001b[0m \u001b[0my\u001b[0m\u001b[0;34m.\u001b[0m\u001b[0miloc\u001b[0m\u001b[0;34m[\u001b[0m\u001b[0mtrain_index\u001b[0m\u001b[0;34m]\u001b[0m\u001b[0;34m,\u001b[0m \u001b[0my\u001b[0m\u001b[0;34m.\u001b[0m\u001b[0miloc\u001b[0m\u001b[0;34m[\u001b[0m\u001b[0mtest_index\u001b[0m\u001b[0;34m]\u001b[0m\u001b[0;34m\u001b[0m\u001b[0;34m\u001b[0m\u001b[0m\n\u001b[1;32m     11\u001b[0m     \u001b[0msvr_clf\u001b[0m\u001b[0;34m.\u001b[0m\u001b[0mfit\u001b[0m\u001b[0;34m(\u001b[0m\u001b[0mX_train\u001b[0m\u001b[0;34m,\u001b[0m \u001b[0my_train\u001b[0m\u001b[0;34m.\u001b[0m\u001b[0mvalues\u001b[0m\u001b[0;34m.\u001b[0m\u001b[0mravel\u001b[0m\u001b[0;34m(\u001b[0m\u001b[0;34m)\u001b[0m\u001b[0;34m)\u001b[0m\u001b[0;34m\u001b[0m\u001b[0;34m\u001b[0m\u001b[0m\n",
      "\u001b[0;31mAttributeError\u001b[0m: 'numpy.ndarray' object has no attribute 'iloc'"
     ]
    }
   ],
   "source": [
    "# TRAINING\n",
    "\n",
    "svr_clf = LinearSVR()\n",
    "kf = KFold(n_splits=10)\n",
    "\n",
    "svr_mses = []\n",
    "\n",
    "for train_index, test_index in kf.split(X):\n",
    "    X_train, X_test = X.iloc[train_index], X.iloc[test_index]\n",
    "    y_train, y_test = y.iloc[train_index], y.iloc[test_index]\n",
    "    svr_clf.fit(X_train, y_train.values.ravel())\n",
    "    svr_predictions = svr_clf.predict(X_test)\n",
    "    svr_mses.append(mean_squared_error(y_test.values.ravel(), svr_predictions))\n",
    "    "
   ]
  },
  {
   "cell_type": "code",
   "execution_count": null,
   "metadata": {},
   "outputs": [],
   "source": [
    "# SVR MSE mean and variance\n",
    "\n",
    "svr_mean = 0\n",
    "for mse in svr_mses:\n",
    "    svr_mean += mse\n",
    "svr_mean = svr_mean/len(svr_mses)\n",
    "\n",
    "svr_variance = 0\n",
    "for mse in svr_mses:\n",
    "    svr_variance += ((mse - svr_mean)**2)\n",
    "svr_variance = svr_variance/len(svr_mses)\n",
    "    \n",
    "print(\"MSE mean: \", svr_mean)\n",
    "print(\"MSE variance: \", svr_variance)"
   ]
  }
 ],
 "metadata": {
  "kernelspec": {
   "display_name": "Python 3",
   "language": "python",
   "name": "python3"
  },
  "language_info": {
   "codemirror_mode": {
    "name": "ipython",
    "version": 3
   },
   "file_extension": ".py",
   "mimetype": "text/x-python",
   "name": "python",
   "nbconvert_exporter": "python",
   "pygments_lexer": "ipython3",
   "version": "3.6.10"
  }
 },
 "nbformat": 4,
 "nbformat_minor": 4
}
