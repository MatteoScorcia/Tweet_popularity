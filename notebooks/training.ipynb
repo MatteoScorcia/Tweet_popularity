{
 "cells": [
  {
   "cell_type": "code",
   "execution_count": 1,
   "metadata": {},
   "outputs": [],
   "source": [
    "import pandas as pd\n",
    "import numpy as np\n",
    "from datetime import datetime\n",
    "from sklearn.ensemble import RandomForestRegressor\n",
    "from sklearn.svm import LinearSVR\n",
    "from sklearn.model_selection import KFold\n",
    "from sklearn.preprocessing import StandardScaler\n",
    "from sklearn.metrics import mean_squared_error"
   ]
  },
  {
   "cell_type": "code",
   "execution_count": 2,
   "metadata": {},
   "outputs": [],
   "source": [
    "df = pd.read_csv(\"../dataset/dataset(no tf-idf).csv\")"
   ]
  },
  {
   "cell_type": "code",
   "execution_count": 3,
   "metadata": {},
   "outputs": [],
   "source": [
    "# DATE TO TIME (!to delete!)\n",
    "time = []\n",
    "for index, row in df.iterrows():\n",
    "    time.append(datetime.strptime(row.date, \"%Y-%m-%d %H:%M:%S\").hour)\n",
    "\n",
    "df = df.replace(df.date.to_list(), time)\n",
    "df = df.rename(columns={'date': 'time'})"
   ]
  },
  {
   "cell_type": "code",
   "execution_count": 4,
   "metadata": {},
   "outputs": [],
   "source": [
    "X = df[['time', 'len_plain_text', 'question_marks', 'esclamation_marks', 'emojis', 'hashtags', 'tags', 'urls']]\n",
    "y = df[['ratio']]"
   ]
  },
  {
   "cell_type": "markdown",
   "metadata": {},
   "source": [
    "RANDOM FOREST"
   ]
  },
  {
   "cell_type": "code",
   "execution_count": 5,
   "metadata": {
    "scrolled": true
   },
   "outputs": [],
   "source": [
    "# TRAINING\n",
    "\n",
    "rf_clf = RandomForestRegressor(n_estimators=100, oob_score=True)\n",
    "\n",
    "kf = KFold(n_splits=10)\n",
    "rf_mses = []\n",
    "\n",
    "for train_index, test_index in kf.split(X):\n",
    "    X_train, X_test = X.iloc[train_index], X.iloc[test_index]\n",
    "    y_train, y_test = y.iloc[train_index], y.iloc[test_index]\n",
    "    rf_clf.fit(X_train, y_train.values.ravel())\n",
    "    rf_predictions = rf_clf.predict(X_test)\n",
    "    rf_mses.append(mean_squared_error(y_test.values.ravel(), rf_predictions))"
   ]
  },
  {
   "cell_type": "code",
   "execution_count": 6,
   "metadata": {},
   "outputs": [
    {
     "name": "stdout",
     "output_type": "stream",
     "text": [
      "time :  0.06365182035010605\n",
      "len_plain_text :  0.11180698196361921\n",
      "question_marks :  0.005729841816005986\n",
      "esclamation_marks :  0.023824799159756438\n",
      "emojis :  0.425066154504113\n",
      "hashtags :  0.10201235996998102\n",
      "tags :  0.009474045583373902\n",
      "urls :  0.25843399665304445\n"
     ]
    }
   ],
   "source": [
    "# VARIABLE IMPORTANCE\n",
    "\n",
    "for i in range(0,len(X.columns)):\n",
    "    print(X.columns[i], \": \", rf_clf.feature_importances_[i])"
   ]
  },
  {
   "cell_type": "code",
   "execution_count": 7,
   "metadata": {},
   "outputs": [
    {
     "name": "stdout",
     "output_type": "stream",
     "text": [
      "MSE mean:  1.663191653363822e-05\n",
      "MSE variance:  8.421386220829348e-10\n"
     ]
    }
   ],
   "source": [
    "# RF MSE mean and variance\n",
    "\n",
    "rf_mean = 0\n",
    "for mse in rf_mses:\n",
    "    rf_mean += mse\n",
    "rf_mean = rf_mean/len(rf_mses)\n",
    "\n",
    "rf_variance = 0\n",
    "for mse in rf_mses:\n",
    "    rf_variance += ((mse - rf_mean)**2)\n",
    "rf_variance = rf_variance/len(rf_mses)\n",
    "    \n",
    "print(\"MSE mean: \", rf_mean)\n",
    "print(\"MSE variance: \", rf_variance)"
   ]
  },
  {
   "cell_type": "code",
   "execution_count": 8,
   "metadata": {},
   "outputs": [
    {
     "name": "stdout",
     "output_type": "stream",
     "text": [
      "0.6128834340159781\n"
     ]
    }
   ],
   "source": [
    "# OOB Score\n",
    "\n",
    "print(rf_clf.oob_score_)"
   ]
  },
  {
   "cell_type": "markdown",
   "metadata": {},
   "source": [
    "SVR"
   ]
  },
  {
   "cell_type": "code",
   "execution_count": 9,
   "metadata": {},
   "outputs": [],
   "source": [
    "# DATASET STANDARDIZATION\n",
    "\n",
    "df = df[['time', 'len_plain_text', 'question_marks', 'esclamation_marks', 'emojis', 'hashtags', 'tags', 'urls', 'ratio']]\n",
    "scaler = StandardScaler()\n",
    "df = scaler.fit_transform(df)"
   ]
  },
  {
   "cell_type": "code",
   "execution_count": 19,
   "metadata": {},
   "outputs": [
    {
     "ename": "SyntaxError",
     "evalue": "invalid syntax (<ipython-input-19-cd6226adab6a>, line 1)",
     "output_type": "error",
     "traceback": [
      "\u001b[0;36m  File \u001b[0;32m\"<ipython-input-19-cd6226adab6a>\"\u001b[0;36m, line \u001b[0;32m1\u001b[0m\n\u001b[0;31m    X = df.loc[,0:7]\u001b[0m\n\u001b[0m               ^\u001b[0m\n\u001b[0;31mSyntaxError\u001b[0m\u001b[0;31m:\u001b[0m invalid syntax\n"
     ]
    }
   ],
   "source": [
    "X = df.loc[,0:7]\n",
    "y = df[8]"
   ]
  },
  {
   "cell_type": "code",
   "execution_count": 15,
   "metadata": {},
   "outputs": [
    {
     "data": {
      "text/plain": [
       "array([[ 0.8968618 , -0.32086756,  2.01355853, ..., -0.22335005,\n",
       "         1.41759498,  2.70345867],\n",
       "       [-0.41062349,  0.33951648,  2.01355853, ..., -0.22335005,\n",
       "         1.41759498,  2.15612928],\n",
       "       [-1.15775794,  1.08795173, -0.43288229, ..., -0.22335005,\n",
       "         1.41759498,  2.80608293],\n",
       "       ...,\n",
       "       [ 0.71007818,  1.17600293, -0.43288229, ..., -0.22335005,\n",
       "         1.41759498,  0.42068252],\n",
       "       [ 0.8968618 ,  1.63827176, -0.43288229, ..., -0.22335005,\n",
       "         1.41759498, -0.24877357],\n",
       "       [ 0.71007818,  0.99990052, -0.43288229, ..., -0.22335005,\n",
       "         1.41759498, -0.30456158]])"
      ]
     },
     "execution_count": 15,
     "metadata": {},
     "output_type": "execute_result"
    }
   ],
   "source": [
    "df"
   ]
  },
  {
   "cell_type": "code",
   "execution_count": null,
   "metadata": {},
   "outputs": [],
   "source": [
    "# TRAINING\n",
    "\n",
    "svr_clf = LinearSVR()\n",
    "kf = KFold(n_splits=10)\n",
    "\n",
    "svr_mses = []\n",
    "\n",
    "for train_index, test_index in kf.split(X):\n",
    "    X_train, X_test = X.iloc[train_index], X.iloc[test_index]\n",
    "    y_train, y_test = y.iloc[train_index], y.iloc[test_index]\n",
    "    svr_clf.fit(X_train, y_train.values.ravel())\n",
    "    svr_predictions = svr_clf.predict(X_test)\n",
    "    svr_mses.append(mean_squared_error(y_test.values.ravel(), svr_predictions))\n",
    "    "
   ]
  },
  {
   "cell_type": "code",
   "execution_count": null,
   "metadata": {},
   "outputs": [],
   "source": [
    "# SVR MSE mean and variance\n",
    "\n",
    "svr_mean = 0\n",
    "for mse in svr_mses:\n",
    "    svr_mean += mse\n",
    "svr_mean = svr_mean/len(svr_mses)\n",
    "\n",
    "svr_variance = 0\n",
    "for mse in svr_mses:\n",
    "    svr_variance += ((mse - svr_mean)**2)\n",
    "svr_variance = svr_variance/len(svr_mses)\n",
    "    \n",
    "print(\"MSE mean: \", svr_mean)\n",
    "print(\"MSE variance: \", svr_variance)"
   ]
  }
 ],
 "metadata": {
  "kernelspec": {
   "display_name": "Python 3",
   "language": "python",
   "name": "python3"
  },
  "language_info": {
   "codemirror_mode": {
    "name": "ipython",
    "version": 3
   },
   "file_extension": ".py",
   "mimetype": "text/x-python",
   "name": "python",
   "nbconvert_exporter": "python",
   "pygments_lexer": "ipython3",
   "version": "3.6.10"
  }
 },
 "nbformat": 4,
 "nbformat_minor": 4
}
