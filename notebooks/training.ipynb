{
 "cells": [
  {
   "cell_type": "code",
   "execution_count": 1,
   "metadata": {},
   "outputs": [],
   "source": [
    "import pandas as pd\n",
    "import numpy as np\n",
    "import math\n",
    "from datetime import datetime\n",
    "from sklearn.ensemble import RandomForestRegressor\n",
    "from sklearn.svm import SVR\n",
    "from sklearn.model_selection import KFold\n",
    "from sklearn.preprocessing import StandardScaler\n",
    "from sklearn.metrics import mean_squared_error\n",
    "from sklearn.model_selection import GridSearchCV"
   ]
  },
  {
   "cell_type": "code",
   "execution_count": 2,
   "metadata": {},
   "outputs": [],
   "source": [
    "df = pd.read_csv(\"../dataset/dataset.csv\")"
   ]
  },
  {
   "cell_type": "code",
   "execution_count": 3,
   "metadata": {},
   "outputs": [],
   "source": [
    "# DATASET STANDARDIZATION\n",
    "screen_names = df.screen_name\n",
    "df = df[['time', 'len_plain_text', 'question_marks', 'esclamation_marks', 'emojis', 'hashtags', 'tags', 'urls', 'tf-idf', 'ratio']]\n",
    "scaler = StandardScaler()\n",
    "scaled_features = scaler.fit_transform(df.values)\n",
    "df = pd.DataFrame(scaled_features, index=df.index, columns=df.columns)\n",
    "df['screen_name'] = screen_names"
   ]
  },
  {
   "cell_type": "code",
   "execution_count": 4,
   "metadata": {},
   "outputs": [],
   "source": [
    "X = df[['time', 'len_plain_text', 'question_marks', 'esclamation_marks', 'emojis', 'hashtags', 'tags', 'urls', 'tf-idf']]\n",
    "y = df[['ratio']]"
   ]
  },
  {
   "cell_type": "markdown",
   "metadata": {},
   "source": [
    "TRIVIAL PREDICTOR"
   ]
  },
  {
   "cell_type": "code",
   "execution_count": 5,
   "metadata": {},
   "outputs": [],
   "source": [
    "# TRIVIAL\n",
    "\n",
    "df1 = df[df['screen_name'] == 'OriettasRecipes']\n",
    "mean = df1.mean()[3]\n",
    "std = df1[df1['screen_name'] == 'OriettasRecipes'].std()[3]"
   ]
  },
  {
   "cell_type": "code",
   "execution_count": 6,
   "metadata": {},
   "outputs": [
    {
     "name": "stdout",
     "output_type": "stream",
     "text": [
      "TP MSE:  1.5635611897529982\n"
     ]
    }
   ],
   "source": [
    "# ASSESSMENT\n",
    "\n",
    "mean_value = np.full((len(df.index),1),mean)\n",
    "print(\"TP MSE: \", mean_squared_error(y.values.ravel(), mean_value))"
   ]
  },
  {
   "cell_type": "markdown",
   "metadata": {},
   "source": [
    "RANDOM FOREST"
   ]
  },
  {
   "cell_type": "code",
   "execution_count": 7,
   "metadata": {},
   "outputs": [
    {
     "name": "stdout",
     "output_type": "stream",
     "text": [
      "Fitting 5 folds for each of 9 candidates, totalling 45 fits\n"
     ]
    },
    {
     "name": "stderr",
     "output_type": "stream",
     "text": [
      "[Parallel(n_jobs=-1)]: Using backend LokyBackend with 4 concurrent workers.\n",
      "[Parallel(n_jobs=-1)]: Done  45 out of  45 | elapsed:    6.7s finished\n"
     ]
    },
    {
     "data": {
      "text/plain": [
       "{'max_depth': 40, 'n_estimators': 100}"
      ]
     },
     "execution_count": 7,
     "metadata": {},
     "output_type": "execute_result"
    }
   ],
   "source": [
    "# GRID SEARCH\n",
    "\n",
    "rf_clf = RandomForestRegressor()\n",
    "\n",
    "parameters = {\n",
    "    'max_depth': [15, 30, 40],\n",
    "    'n_estimators': [50, 100, 500]\n",
    "}\n",
    "\n",
    "clf_gridsearch = GridSearchCV(rf_clf, parameters, n_jobs = -1, verbose = 1)\n",
    "clf_gridsearch.fit(X, y.values.ravel())\n",
    "clf_gridsearch.best_params_"
   ]
  },
  {
   "cell_type": "code",
   "execution_count": 8,
   "metadata": {},
   "outputs": [
    {
     "data": {
      "text/plain": [
       "RandomForestRegressor(bootstrap=True, ccp_alpha=0.0, criterion='mse',\n",
       "                      max_depth=40, max_features='auto', max_leaf_nodes=None,\n",
       "                      max_samples=None, min_impurity_decrease=0.0,\n",
       "                      min_impurity_split=None, min_samples_leaf=1,\n",
       "                      min_samples_split=2, min_weight_fraction_leaf=0.0,\n",
       "                      n_estimators=100, n_jobs=None, oob_score=False,\n",
       "                      random_state=None, verbose=0, warm_start=False)"
      ]
     },
     "execution_count": 8,
     "metadata": {},
     "output_type": "execute_result"
    }
   ],
   "source": [
    "# TRAINING\n",
    "\n",
    "rf_clf = RandomForestRegressor(n_estimators=clf_gridsearch.best_params_['n_estimators'], max_depth=clf_gridsearch.best_params_['max_depth'])\n",
    "rf_clf.fit(X, y.values.ravel())"
   ]
  },
  {
   "cell_type": "code",
   "execution_count": 9,
   "metadata": {
    "scrolled": true
   },
   "outputs": [],
   "source": [
    "# ASSESSMENT\n",
    "\n",
    "rf_clf = RandomForestRegressor(n_estimators=clf_gridsearch.best_params_['n_estimators'], max_depth=clf_gridsearch.best_params_['max_depth'])\n",
    "kf = KFold(n_splits=10)\n",
    "rf_mses = []\n",
    "\n",
    "for train_index, test_index in kf.split(X):\n",
    "    X_train, X_test = X.iloc[train_index], X.iloc[test_index]\n",
    "    y_train, y_test = y.iloc[train_index], y.iloc[test_index]\n",
    "    rf_clf.fit(X_train, y_train.values.ravel())\n",
    "    rf_predictions = rf_clf.predict(X_test)\n",
    "    rf_mses.append(mean_squared_error(y_test.values.ravel(), rf_predictions))"
   ]
  },
  {
   "cell_type": "code",
   "execution_count": 10,
   "metadata": {},
   "outputs": [
    {
     "name": "stdout",
     "output_type": "stream",
     "text": [
      "time :  0.1057736200859755\n",
      "len_plain_text :  0.189402923478852\n",
      "question_marks :  0.006919260474759795\n",
      "esclamation_marks :  0.018977955920697776\n",
      "emojis :  0.03428926068355681\n",
      "hashtags :  0.27535022078735205\n",
      "tags :  0.01771746939778156\n",
      "urls :  0.06343353065182168\n",
      "tf-idf :  0.28813575851920287\n"
     ]
    }
   ],
   "source": [
    "# VARIABLE IMPORTANCE\n",
    "\n",
    "for i in range(0,len(X.columns)):\n",
    "    print(X.columns[i], \": \", rf_clf.feature_importances_[i])"
   ]
  },
  {
   "cell_type": "code",
   "execution_count": 11,
   "metadata": {},
   "outputs": [
    {
     "name": "stdout",
     "output_type": "stream",
     "text": [
      "RF MSE mean:  1.0014426253123776\n",
      "RF MSE std:  1.0416117423212101\n"
     ]
    }
   ],
   "source": [
    "# RF MSE mean and variance\n",
    "\n",
    "rf_mean = 0\n",
    "for mse in rf_mses:\n",
    "    rf_mean += mse\n",
    "rf_mean = rf_mean/len(rf_mses)\n",
    "\n",
    "rf_std = 0\n",
    "for mse in rf_mses:\n",
    "    rf_std += ((mse - rf_mean)**2)\n",
    "rf_std = math.sqrt(rf_std/len(rf_mses))\n",
    "    \n",
    "print(\"RF MSE mean: \", rf_mean)\n",
    "print(\"RF MSE std: \", rf_std)"
   ]
  },
  {
   "cell_type": "markdown",
   "metadata": {},
   "source": [
    "SVR"
   ]
  },
  {
   "cell_type": "code",
   "execution_count": 13,
   "metadata": {},
   "outputs": [
    {
     "name": "stdout",
     "output_type": "stream",
     "text": [
      "Fitting 5 folds for each of 9 candidates, totalling 45 fits\n"
     ]
    },
    {
     "name": "stderr",
     "output_type": "stream",
     "text": [
      "[Parallel(n_jobs=-1)]: Using backend LokyBackend with 4 concurrent workers.\n",
      "[Parallel(n_jobs=-1)]: Done  45 out of  45 | elapsed:    0.6s finished\n"
     ]
    },
    {
     "data": {
      "text/plain": [
       "{'C': 1, 'kernel': 'poly'}"
      ]
     },
     "execution_count": 13,
     "metadata": {},
     "output_type": "execute_result"
    }
   ],
   "source": [
    "# GRID SEARCH\n",
    "\n",
    "svr_clf = SVR()\n",
    "\n",
    "parameters = {\n",
    "    'kernel': ['poly', 'rbf', 'sigmoid'],\n",
    "    'C': [1, 5, 10]\n",
    "}\n",
    "\n",
    "clf_gridsearch = GridSearchCV(svr_clf, parameters, n_jobs = -1, verbose = 1)\n",
    "clf_gridsearch.fit(X, y.values.ravel())\n",
    "clf_gridsearch.best_params_"
   ]
  },
  {
   "cell_type": "code",
   "execution_count": 14,
   "metadata": {},
   "outputs": [
    {
     "data": {
      "text/plain": [
       "SVR(C=1, cache_size=200, coef0=0.0, degree=3, epsilon=0.1, gamma='scale',\n",
       "    kernel='poly', max_iter=-1, shrinking=True, tol=0.001, verbose=False)"
      ]
     },
     "execution_count": 14,
     "metadata": {},
     "output_type": "execute_result"
    }
   ],
   "source": [
    "# TRAINING\n",
    "\n",
    "svr_clf = SVR(kernel=clf_gridsearch.best_params_['kernel'], C=clf_gridsearch.best_params_['C'])\n",
    "svr_clf.fit(X, y.values.ravel())"
   ]
  },
  {
   "cell_type": "code",
   "execution_count": 15,
   "metadata": {},
   "outputs": [],
   "source": [
    "# ASSESSMENT\n",
    "\n",
    "kf = KFold(n_splits=10)\n",
    "svr_mses = []\n",
    "\n",
    "for train_index, test_index in kf.split(X):\n",
    "    X_train, X_test = X.iloc[train_index], X.iloc[test_index]\n",
    "    y_train, y_test = y.iloc[train_index], y.iloc[test_index]\n",
    "    svr_clf.fit(X_train, y_train.values.ravel())\n",
    "    svr_predictions = svr_clf.predict(X_test)\n",
    "    svr_mses.append(mean_squared_error(y_test.values.ravel(), svr_predictions))\n",
    "    "
   ]
  },
  {
   "cell_type": "code",
   "execution_count": 16,
   "metadata": {},
   "outputs": [
    {
     "name": "stdout",
     "output_type": "stream",
     "text": [
      "SVR MSE mean:  1.237348949410158\n",
      "SVR MSE std:  1.362787019512671\n"
     ]
    }
   ],
   "source": [
    "# SVR MSE mean and variance\n",
    "\n",
    "svr_mean = 0\n",
    "for mse in svr_mses:\n",
    "    svr_mean += mse\n",
    "svr_mean = svr_mean/len(svr_mses)\n",
    "\n",
    "svr_std = 0\n",
    "for mse in svr_mses:\n",
    "    svr_std += ((mse - svr_mean)**2)\n",
    "svr_std = math.sqrt(svr_std/len(svr_mses))\n",
    "    \n",
    "print(\"SVR MSE mean: \", svr_mean)\n",
    "print(\"SVR MSE std: \", svr_std)"
   ]
  }
 ],
 "metadata": {
  "kernelspec": {
   "display_name": "Python 3",
   "language": "python",
   "name": "python3"
  },
  "language_info": {
   "codemirror_mode": {
    "name": "ipython",
    "version": 3
   },
   "file_extension": ".py",
   "mimetype": "text/x-python",
   "name": "python",
   "nbconvert_exporter": "python",
   "pygments_lexer": "ipython3",
   "version": "3.6.10"
  }
 },
 "nbformat": 4,
 "nbformat_minor": 4
}
