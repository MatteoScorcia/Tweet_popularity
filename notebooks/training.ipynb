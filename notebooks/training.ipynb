{
 "cells": [
  {
   "cell_type": "code",
   "execution_count": 1,
   "metadata": {},
   "outputs": [],
   "source": [
    "import pandas as pd\n",
    "import numpy as np\n",
    "from datetime import datetime\n",
    "from sklearn.ensemble import RandomForestRegressor\n",
    "from sklearn.svm import SVR\n",
    "from sklearn.model_selection import KFold\n",
    "from sklearn.preprocessing import StandardScaler\n",
    "from sklearn.metrics import mean_squared_error\n",
    "from sklearn.model_selection import GridSearchCV"
   ]
  },
  {
   "cell_type": "code",
   "execution_count": 2,
   "metadata": {},
   "outputs": [],
   "source": [
    "df = pd.read_csv(\"../dataset/dataset.csv\")"
   ]
  },
  {
   "cell_type": "code",
   "execution_count": 3,
   "metadata": {},
   "outputs": [],
   "source": [
    "X = df[['time', 'len_plain_text', 'question_marks', 'esclamation_marks', 'emojis', 'hashtags', 'tags', 'urls']]\n",
    "y = df[['ratio']]"
   ]
  },
  {
   "cell_type": "markdown",
   "metadata": {},
   "source": [
    "RANDOM FOREST"
   ]
  },
  {
   "cell_type": "code",
   "execution_count": 4,
   "metadata": {},
   "outputs": [
    {
     "name": "stdout",
     "output_type": "stream",
     "text": [
      "Fitting 5 folds for each of 9 candidates, totalling 45 fits\n"
     ]
    },
    {
     "name": "stderr",
     "output_type": "stream",
     "text": [
      "[Parallel(n_jobs=-1)]: Using backend LokyBackend with 4 concurrent workers.\n",
      "[Parallel(n_jobs=-1)]: Done  45 out of  45 | elapsed:    4.8s finished\n"
     ]
    },
    {
     "data": {
      "text/plain": [
       "{'max_depth': 40, 'n_estimators': 50}"
      ]
     },
     "execution_count": 4,
     "metadata": {},
     "output_type": "execute_result"
    }
   ],
   "source": [
    "# GRID SEARCH\n",
    "\n",
    "rf_clf = RandomForestRegressor()\n",
    "\n",
    "parameters = {\n",
    "    'max_depth': [15, 30, 40],\n",
    "    'n_estimators': [50, 100, 500]\n",
    "}\n",
    "\n",
    "clf_gridsearch = GridSearchCV(rf_clf, parameters, n_jobs = -1, verbose = 1)\n",
    "clf_gridsearch.fit(X, y.values.ravel())\n",
    "clf_gridsearch.best_params_"
   ]
  },
  {
   "cell_type": "code",
   "execution_count": 5,
   "metadata": {
    "scrolled": true
   },
   "outputs": [],
   "source": [
    "# TRAINING\n",
    "\n",
    "rf_clf = RandomForestRegressor(n_estimators=clf_gridsearch.best_params_['n_estimators'], max_depth=clf_gridsearch.best_params_['max_depth'])\n",
    "kf = KFold(n_splits=10)\n",
    "rf_mses = []\n",
    "\n",
    "for train_index, test_index in kf.split(X):\n",
    "    X_train, X_test = X.iloc[train_index], X.iloc[test_index]\n",
    "    y_train, y_test = y.iloc[train_index], y.iloc[test_index]\n",
    "    rf_clf.fit(X_train, y_train.values.ravel())\n",
    "    rf_predictions = rf_clf.predict(X_test)\n",
    "    rf_mses.append(mean_squared_error(y_test.values.ravel(), rf_predictions))"
   ]
  },
  {
   "cell_type": "code",
   "execution_count": null,
   "metadata": {},
   "outputs": [],
   "source": []
  },
  {
   "cell_type": "code",
   "execution_count": 6,
   "metadata": {},
   "outputs": [
    {
     "name": "stdout",
     "output_type": "stream",
     "text": [
      "time :  0.06990667121362262\n",
      "len_plain_text :  0.11647394165819965\n",
      "question_marks :  0.006180182214086338\n",
      "esclamation_marks :  0.022597845333967023\n",
      "emojis :  0.41213465111652775\n",
      "hashtags :  0.10709764790936818\n",
      "tags :  0.011038674213040302\n",
      "urls :  0.2545703863411883\n"
     ]
    }
   ],
   "source": [
    "# VARIABLE IMPORTANCE\n",
    "\n",
    "for i in range(0,len(X.columns)):\n",
    "    print(X.columns[i], \": \", rf_clf.feature_importances_[i])"
   ]
  },
  {
   "cell_type": "code",
   "execution_count": 7,
   "metadata": {},
   "outputs": [
    {
     "name": "stdout",
     "output_type": "stream",
     "text": [
      "MSE mean:  1.7049161501253216e-05\n",
      "MSE variance:  9.141267149876448e-10\n"
     ]
    }
   ],
   "source": [
    "# RF MSE mean and variance\n",
    "\n",
    "rf_mean = 0\n",
    "for mse in rf_mses:\n",
    "    rf_mean += mse\n",
    "rf_mean = rf_mean/len(rf_mses)\n",
    "\n",
    "rf_variance = 0\n",
    "for mse in rf_mses:\n",
    "    rf_variance += ((mse - rf_mean)**2)\n",
    "rf_variance = rf_variance/len(rf_mses)\n",
    "    \n",
    "print(\"MSE mean: \", rf_mean)\n",
    "print(\"MSE variance: \", rf_variance)"
   ]
  },
  {
   "cell_type": "markdown",
   "metadata": {},
   "source": [
    "SVR"
   ]
  },
  {
   "cell_type": "code",
   "execution_count": 8,
   "metadata": {
    "scrolled": true
   },
   "outputs": [],
   "source": [
    "df = df.drop(columns = 'Unnamed: 0')"
   ]
  },
  {
   "cell_type": "code",
   "execution_count": 9,
   "metadata": {},
   "outputs": [],
   "source": [
    "# DATASET STANDARDIZATION\n",
    "\n",
    "df = df[['time', 'len_plain_text', 'question_marks', 'esclamation_marks', 'emojis', 'hashtags', 'tags', 'urls', 'ratio']]\n",
    "scaler = StandardScaler()\n",
    "scaled_features = scaler.fit_transform(df.values)\n",
    "df = pd.DataFrame(scaled_features, index=df.index, columns=df.columns)"
   ]
  },
  {
   "cell_type": "code",
   "execution_count": 10,
   "metadata": {},
   "outputs": [
    {
     "data": {
      "text/html": [
       "<div>\n",
       "<style scoped>\n",
       "    .dataframe tbody tr th:only-of-type {\n",
       "        vertical-align: middle;\n",
       "    }\n",
       "\n",
       "    .dataframe tbody tr th {\n",
       "        vertical-align: top;\n",
       "    }\n",
       "\n",
       "    .dataframe thead th {\n",
       "        text-align: right;\n",
       "    }\n",
       "</style>\n",
       "<table border=\"1\" class=\"dataframe\">\n",
       "  <thead>\n",
       "    <tr style=\"text-align: right;\">\n",
       "      <th></th>\n",
       "      <th>time</th>\n",
       "      <th>len_plain_text</th>\n",
       "      <th>question_marks</th>\n",
       "      <th>esclamation_marks</th>\n",
       "      <th>emojis</th>\n",
       "      <th>hashtags</th>\n",
       "      <th>tags</th>\n",
       "      <th>urls</th>\n",
       "      <th>ratio</th>\n",
       "    </tr>\n",
       "  </thead>\n",
       "  <tbody>\n",
       "    <tr>\n",
       "      <th>0</th>\n",
       "      <td>0.896862</td>\n",
       "      <td>-0.394731</td>\n",
       "      <td>2.013559</td>\n",
       "      <td>0.502328</td>\n",
       "      <td>1.463011</td>\n",
       "      <td>0.752235</td>\n",
       "      <td>-0.22335</td>\n",
       "      <td>1.417595</td>\n",
       "      <td>2.703459</td>\n",
       "    </tr>\n",
       "    <tr>\n",
       "      <th>1</th>\n",
       "      <td>-0.410623</td>\n",
       "      <td>0.248516</td>\n",
       "      <td>2.013559</td>\n",
       "      <td>0.502328</td>\n",
       "      <td>2.181041</td>\n",
       "      <td>1.465282</td>\n",
       "      <td>-0.22335</td>\n",
       "      <td>1.417595</td>\n",
       "      <td>2.156129</td>\n",
       "    </tr>\n",
       "    <tr>\n",
       "      <th>2</th>\n",
       "      <td>-1.157758</td>\n",
       "      <td>0.937709</td>\n",
       "      <td>-0.432882</td>\n",
       "      <td>1.966143</td>\n",
       "      <td>4.335132</td>\n",
       "      <td>0.752235</td>\n",
       "      <td>-0.22335</td>\n",
       "      <td>1.417595</td>\n",
       "      <td>2.806083</td>\n",
       "    </tr>\n",
       "    <tr>\n",
       "      <th>3</th>\n",
       "      <td>0.710078</td>\n",
       "      <td>0.914736</td>\n",
       "      <td>2.013559</td>\n",
       "      <td>0.502328</td>\n",
       "      <td>2.181041</td>\n",
       "      <td>0.752235</td>\n",
       "      <td>-0.22335</td>\n",
       "      <td>1.417595</td>\n",
       "      <td>3.079748</td>\n",
       "    </tr>\n",
       "    <tr>\n",
       "      <th>4</th>\n",
       "      <td>-0.410623</td>\n",
       "      <td>1.236360</td>\n",
       "      <td>-0.432882</td>\n",
       "      <td>-0.961487</td>\n",
       "      <td>1.463011</td>\n",
       "      <td>0.752235</td>\n",
       "      <td>-0.22335</td>\n",
       "      <td>1.417595</td>\n",
       "      <td>3.148164</td>\n",
       "    </tr>\n",
       "  </tbody>\n",
       "</table>\n",
       "</div>"
      ],
      "text/plain": [
       "       time  len_plain_text  question_marks  esclamation_marks    emojis  \\\n",
       "0  0.896862       -0.394731        2.013559           0.502328  1.463011   \n",
       "1 -0.410623        0.248516        2.013559           0.502328  2.181041   \n",
       "2 -1.157758        0.937709       -0.432882           1.966143  4.335132   \n",
       "3  0.710078        0.914736        2.013559           0.502328  2.181041   \n",
       "4 -0.410623        1.236360       -0.432882          -0.961487  1.463011   \n",
       "\n",
       "   hashtags     tags      urls     ratio  \n",
       "0  0.752235 -0.22335  1.417595  2.703459  \n",
       "1  1.465282 -0.22335  1.417595  2.156129  \n",
       "2  0.752235 -0.22335  1.417595  2.806083  \n",
       "3  0.752235 -0.22335  1.417595  3.079748  \n",
       "4  0.752235 -0.22335  1.417595  3.148164  "
      ]
     },
     "execution_count": 10,
     "metadata": {},
     "output_type": "execute_result"
    }
   ],
   "source": [
    "df.head()"
   ]
  },
  {
   "cell_type": "code",
   "execution_count": 11,
   "metadata": {},
   "outputs": [],
   "source": [
    "#df = pd.DataFrame(data=df[0:,0:],index=df[0:,0], columns=df[0,1:])\n",
    "#df.head()"
   ]
  },
  {
   "cell_type": "code",
   "execution_count": 12,
   "metadata": {},
   "outputs": [],
   "source": [
    "X = df[['time', 'len_plain_text', 'question_marks', 'esclamation_marks', 'emojis', 'hashtags', 'tags', 'urls']]\n",
    "y = df[['ratio']]"
   ]
  },
  {
   "cell_type": "code",
   "execution_count": 13,
   "metadata": {},
   "outputs": [
    {
     "name": "stdout",
     "output_type": "stream",
     "text": [
      "Fitting 5 folds for each of 9 candidates, totalling 45 fits\n"
     ]
    },
    {
     "name": "stderr",
     "output_type": "stream",
     "text": [
      "[Parallel(n_jobs=-1)]: Using backend LokyBackend with 4 concurrent workers.\n",
      "[Parallel(n_jobs=-1)]: Done  45 out of  45 | elapsed:    0.3s finished\n"
     ]
    },
    {
     "data": {
      "text/plain": [
       "{'C': 1, 'kernel': 'rbf'}"
      ]
     },
     "execution_count": 13,
     "metadata": {},
     "output_type": "execute_result"
    }
   ],
   "source": [
    "# GRID SEARCH\n",
    "\n",
    "svr_clf = SVR()\n",
    "\n",
    "parameters = {\n",
    "    'kernel': ['poly', 'rbf', 'sigmoid'],\n",
    "    'C': [1, 5, 10]\n",
    "}\n",
    "\n",
    "clf_gridsearch = GridSearchCV(svr_clf, parameters, n_jobs = -1, verbose = 1)\n",
    "clf_gridsearch.fit(X, y.values.ravel())\n",
    "clf_gridsearch.best_params_"
   ]
  },
  {
   "cell_type": "code",
   "execution_count": 14,
   "metadata": {},
   "outputs": [
    {
     "data": {
      "text/plain": [
       "SVR(C=1, cache_size=200, coef0=0.0, degree=3, epsilon=0.1, gamma='scale',\n",
       "    kernel='rbf', max_iter=-1, shrinking=True, tol=0.001, verbose=False)"
      ]
     },
     "execution_count": 14,
     "metadata": {},
     "output_type": "execute_result"
    }
   ],
   "source": [
    "# TRAINING\n",
    "\n",
    "svr_clf = SVR(kernel=clf_gridsearch.best_params_['kernel'], C=clf_gridsearch.best_params_['C'])\n",
    "svr_clf.fit(X, y.values.ravel())"
   ]
  },
  {
   "cell_type": "code",
   "execution_count": 15,
   "metadata": {},
   "outputs": [],
   "source": [
    "# ASSESSMENT\n",
    "\n",
    "kf = KFold(n_splits=10)\n",
    "svr_mses = []\n",
    "\n",
    "for train_index, test_index in kf.split(X):\n",
    "    X_train, X_test = X.iloc[train_index], X.iloc[test_index]\n",
    "    y_train, y_test = y.iloc[train_index], y.iloc[test_index]\n",
    "    svr_clf.fit(X_train, y_train.values.ravel())\n",
    "    svr_predictions = svr_clf.predict(X_test)\n",
    "    svr_mses.append(mean_squared_error(y_test.values.ravel(), svr_predictions))\n",
    "    "
   ]
  },
  {
   "cell_type": "code",
   "execution_count": 16,
   "metadata": {},
   "outputs": [
    {
     "name": "stdout",
     "output_type": "stream",
     "text": [
      "MSE mean:  0.8887235885492251\n",
      "MSE variance:  2.9435356845647047\n"
     ]
    }
   ],
   "source": [
    "# SVR MSE mean and variance\n",
    "\n",
    "svr_mean = 0\n",
    "for mse in svr_mses:\n",
    "    svr_mean += mse\n",
    "svr_mean = svr_mean/len(svr_mses)\n",
    "\n",
    "svr_variance = 0\n",
    "for mse in svr_mses:\n",
    "    svr_variance += ((mse - svr_mean)**2)\n",
    "svr_variance = svr_variance/len(svr_mses)\n",
    "    \n",
    "print(\"MSE mean: \", svr_mean)\n",
    "print(\"MSE variance: \", svr_variance)"
   ]
  },
  {
   "cell_type": "code",
   "execution_count": null,
   "metadata": {},
   "outputs": [],
   "source": []
  }
 ],
 "metadata": {
  "kernelspec": {
   "display_name": "Python 3",
   "language": "python",
   "name": "python3"
  },
  "language_info": {
   "codemirror_mode": {
    "name": "ipython",
    "version": 3
   },
   "file_extension": ".py",
   "mimetype": "text/x-python",
   "name": "python",
   "nbconvert_exporter": "python",
   "pygments_lexer": "ipython3",
   "version": "3.6.10"
  }
 },
 "nbformat": 4,
 "nbformat_minor": 4
}
