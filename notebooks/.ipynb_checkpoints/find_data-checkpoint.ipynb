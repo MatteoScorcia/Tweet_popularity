{
 "cells": [
  {
   "cell_type": "code",
   "execution_count": 1,
   "metadata": {},
   "outputs": [],
   "source": [
    "import tweepy\n",
    "import csv #Import csv\n",
    "\n",
    "with open('../credentials.txt', 'r') as credentials:\n",
    "    credentials.readline()\n",
    "    api_key = credentials.readline().rstrip()\n",
    "    api_key_secret = credentials.readline().rstrip()\n",
    "    credentials.readline()\n",
    "    access_token = credentials.readline().rstrip()\n",
    "    access_token_secret = credentials.readline().rstrip()\n"
   ]
  },
  {
   "cell_type": "code",
   "execution_count": 2,
   "metadata": {},
   "outputs": [],
   "source": [
    "auth = tweepy.auth.OAuthHandler(api_key, api_key_secret)\n",
    "auth.set_access_token(access_token, access_token_secret)\n",
    "\n",
    "api = tweepy.API(auth)"
   ]
  },
  {
   "cell_type": "code",
   "execution_count": 3,
   "metadata": {},
   "outputs": [
    {
     "name": "stdout",
     "output_type": "stream",
     "text": [
      "[0.07402225512527223, 0.030770474130733604, 0.2885003792690617, 0.01015430647301088, 0.053976368555060474, 0.012192977121319958, 0.010081224925578757, 0.016262420539406283, 0.11712431057682356, 0.13192880494006537, 4.779925039750589e-05, 0.05008949021865652, 5.2625273916378e-05, 0.0014635944308688219, 0.00034023332325681206, 0.09866102069543164, 0.0012824966707197035, 1.0839115960810128e-05, 8.726569263473476e-05, 0.017048554282596835, 0.004685774212622583, 2.5469692237129973e-05, 8.796827588081515e-06, 5.310896007957516e-05, 0.0003819709702062643, 0.0074131036604121806, 0.045900939368061486, 0.004815458951259624, 0.00014310519185636056, 2.810141175024848e-06]\n"
     ]
    }
   ],
   "source": [
    "# Open/create a file to append data to\n",
    "csvFile = open('../dataset/prova.csv', 'a')\n",
    "\n",
    "#Use csv writer\n",
    "csvWriter = csv.writer(csvFile)\n",
    "\n",
    "tweets = []\n",
    "ratios = []\n",
    "\n",
    "for tweet in tweepy.Cursor(api.search,\n",
    "                           q = \"food\", #-filter:retweets\n",
    "                           include_entities=True,\n",
    "                           since='2019-12-20',\n",
    "                           until='2020-01-05',\n",
    "                           result_type='popular',\n",
    "                           tweet_mode='extended',\n",
    "                           lang='en').items(100):\n",
    "\n",
    "    tweets.append(tweet)\n",
    "\n",
    "    if tweet.user.followers_count == 0:\n",
    "        continue\n",
    "\n",
    "    ratio = (tweet.favorite_count) / tweet.user.followers_count\n",
    "    ratios.append(ratio)\n",
    "\n",
    "    # Write a row to the CSV file. I use encode UTF-8\n",
    "    csvWriter.writerow([tweet.user.name, tweet.created_at, tweet.full_text, tweet.favorite_count])\n",
    "csvFile.close()\n",
    "\n",
    "print(ratios)"
   ]
  },
  {
   "cell_type": "code",
   "execution_count": 4,
   "metadata": {},
   "outputs": [
    {
     "data": {
      "text/plain": [
       "'\"There\\'s nowhere to get food\"\\n\\nMore than two million people in Zambia are in need of food aid, following two years of poor rains and failed harvest\\n\\nhttps://t.co/Wcksd0GE16 https://t.co/nxpeuUyR6D'"
      ]
     },
     "execution_count": 4,
     "metadata": {},
     "output_type": "execute_result"
    }
   ],
   "source": [
    "tweets[10].full_text"
   ]
  },
  {
   "cell_type": "code",
   "execution_count": 5,
   "metadata": {},
   "outputs": [
    {
     "data": {
      "text/plain": [
       "Status(_api=<tweepy.api.API object at 0x7fb2ac3a80b8>, _json={'created_at': 'Wed Jan 01 23:44:09 +0000 2020', 'id': 1212519914591772672, 'id_str': '1212519914591772672', 'full_text': 'it’s 2020 and y’all still eating food', 'truncated': False, 'display_text_range': [0, 37], 'entities': {'hashtags': [], 'symbols': [], 'user_mentions': [], 'urls': []}, 'metadata': {'result_type': 'popular', 'iso_language_code': 'en'}, 'source': '<a href=\"http://twitter.com/download/iphone\" rel=\"nofollow\">Twitter for iPhone</a>', 'in_reply_to_status_id': None, 'in_reply_to_status_id_str': None, 'in_reply_to_user_id': None, 'in_reply_to_user_id_str': None, 'in_reply_to_screen_name': None, 'user': {'id': 754006735468261376, 'id_str': '754006735468261376', 'name': 'nope', 'screen_name': 'LilNasX', 'location': 'la', 'description': 'AYE PANINI \\U0001f929 https://t.co/oKrhV74Qdz @igottabluecoat', 'url': 'https://t.co/NmHdgXhhZo', 'entities': {'url': {'urls': [{'url': 'https://t.co/NmHdgXhhZo', 'expanded_url': 'https://youtu.be/bXcSLI58-h8', 'display_url': 'youtu.be/bXcSLI58-h8', 'indices': [0, 23]}]}, 'description': {'urls': [{'url': 'https://t.co/oKrhV74Qdz', 'expanded_url': 'http://instagram.com/lilnasx', 'display_url': 'instagram.com/lilnasx', 'indices': [13, 36]}]}}, 'protected': False, 'followers_count': 3643026, 'friends_count': 791, 'listed_count': 1978, 'created_at': 'Fri Jul 15 17:36:29 +0000 2016', 'favourites_count': 40157, 'utc_offset': None, 'time_zone': None, 'geo_enabled': True, 'verified': True, 'statuses_count': 6628, 'lang': None, 'contributors_enabled': False, 'is_translator': False, 'is_translation_enabled': False, 'profile_background_color': 'F5F8FA', 'profile_background_image_url': None, 'profile_background_image_url_https': None, 'profile_background_tile': False, 'profile_image_url': 'http://pbs.twimg.com/profile_images/1112033582569136128/0vZG4q0Y_normal.jpg', 'profile_image_url_https': 'https://pbs.twimg.com/profile_images/1112033582569136128/0vZG4q0Y_normal.jpg', 'profile_banner_url': 'https://pbs.twimg.com/profile_banners/754006735468261376/1553964576', 'profile_link_color': '1DA1F2', 'profile_sidebar_border_color': 'C0DEED', 'profile_sidebar_fill_color': 'DDEEF6', 'profile_text_color': '333333', 'profile_use_background_image': True, 'has_extended_profile': True, 'default_profile': True, 'default_profile_image': False, 'following': False, 'follow_request_sent': False, 'notifications': False, 'translator_type': 'none'}, 'geo': None, 'coordinates': None, 'place': None, 'contributors': None, 'is_quote_status': False, 'retweet_count': 32880, 'favorite_count': 269665, 'favorited': False, 'retweeted': False, 'lang': 'en'}, created_at=datetime.datetime(2020, 1, 1, 23, 44, 9), id=1212519914591772672, id_str='1212519914591772672', full_text='it’s 2020 and y’all still eating food', truncated=False, display_text_range=[0, 37], entities={'hashtags': [], 'symbols': [], 'user_mentions': [], 'urls': []}, metadata={'result_type': 'popular', 'iso_language_code': 'en'}, source='Twitter for iPhone', source_url='http://twitter.com/download/iphone', in_reply_to_status_id=None, in_reply_to_status_id_str=None, in_reply_to_user_id=None, in_reply_to_user_id_str=None, in_reply_to_screen_name=None, author=User(_api=<tweepy.api.API object at 0x7fb2ac3a80b8>, _json={'id': 754006735468261376, 'id_str': '754006735468261376', 'name': 'nope', 'screen_name': 'LilNasX', 'location': 'la', 'description': 'AYE PANINI \\U0001f929 https://t.co/oKrhV74Qdz @igottabluecoat', 'url': 'https://t.co/NmHdgXhhZo', 'entities': {'url': {'urls': [{'url': 'https://t.co/NmHdgXhhZo', 'expanded_url': 'https://youtu.be/bXcSLI58-h8', 'display_url': 'youtu.be/bXcSLI58-h8', 'indices': [0, 23]}]}, 'description': {'urls': [{'url': 'https://t.co/oKrhV74Qdz', 'expanded_url': 'http://instagram.com/lilnasx', 'display_url': 'instagram.com/lilnasx', 'indices': [13, 36]}]}}, 'protected': False, 'followers_count': 3643026, 'friends_count': 791, 'listed_count': 1978, 'created_at': 'Fri Jul 15 17:36:29 +0000 2016', 'favourites_count': 40157, 'utc_offset': None, 'time_zone': None, 'geo_enabled': True, 'verified': True, 'statuses_count': 6628, 'lang': None, 'contributors_enabled': False, 'is_translator': False, 'is_translation_enabled': False, 'profile_background_color': 'F5F8FA', 'profile_background_image_url': None, 'profile_background_image_url_https': None, 'profile_background_tile': False, 'profile_image_url': 'http://pbs.twimg.com/profile_images/1112033582569136128/0vZG4q0Y_normal.jpg', 'profile_image_url_https': 'https://pbs.twimg.com/profile_images/1112033582569136128/0vZG4q0Y_normal.jpg', 'profile_banner_url': 'https://pbs.twimg.com/profile_banners/754006735468261376/1553964576', 'profile_link_color': '1DA1F2', 'profile_sidebar_border_color': 'C0DEED', 'profile_sidebar_fill_color': 'DDEEF6', 'profile_text_color': '333333', 'profile_use_background_image': True, 'has_extended_profile': True, 'default_profile': True, 'default_profile_image': False, 'following': False, 'follow_request_sent': False, 'notifications': False, 'translator_type': 'none'}, id=754006735468261376, id_str='754006735468261376', name='nope', screen_name='LilNasX', location='la', description='AYE PANINI \\U0001f929 https://t.co/oKrhV74Qdz @igottabluecoat', url='https://t.co/NmHdgXhhZo', entities={'url': {'urls': [{'url': 'https://t.co/NmHdgXhhZo', 'expanded_url': 'https://youtu.be/bXcSLI58-h8', 'display_url': 'youtu.be/bXcSLI58-h8', 'indices': [0, 23]}]}, 'description': {'urls': [{'url': 'https://t.co/oKrhV74Qdz', 'expanded_url': 'http://instagram.com/lilnasx', 'display_url': 'instagram.com/lilnasx', 'indices': [13, 36]}]}}, protected=False, followers_count=3643026, friends_count=791, listed_count=1978, created_at=datetime.datetime(2016, 7, 15, 17, 36, 29), favourites_count=40157, utc_offset=None, time_zone=None, geo_enabled=True, verified=True, statuses_count=6628, lang=None, contributors_enabled=False, is_translator=False, is_translation_enabled=False, profile_background_color='F5F8FA', profile_background_image_url=None, profile_background_image_url_https=None, profile_background_tile=False, profile_image_url='http://pbs.twimg.com/profile_images/1112033582569136128/0vZG4q0Y_normal.jpg', profile_image_url_https='https://pbs.twimg.com/profile_images/1112033582569136128/0vZG4q0Y_normal.jpg', profile_banner_url='https://pbs.twimg.com/profile_banners/754006735468261376/1553964576', profile_link_color='1DA1F2', profile_sidebar_border_color='C0DEED', profile_sidebar_fill_color='DDEEF6', profile_text_color='333333', profile_use_background_image=True, has_extended_profile=True, default_profile=True, default_profile_image=False, following=False, follow_request_sent=False, notifications=False, translator_type='none'), user=User(_api=<tweepy.api.API object at 0x7fb2ac3a80b8>, _json={'id': 754006735468261376, 'id_str': '754006735468261376', 'name': 'nope', 'screen_name': 'LilNasX', 'location': 'la', 'description': 'AYE PANINI \\U0001f929 https://t.co/oKrhV74Qdz @igottabluecoat', 'url': 'https://t.co/NmHdgXhhZo', 'entities': {'url': {'urls': [{'url': 'https://t.co/NmHdgXhhZo', 'expanded_url': 'https://youtu.be/bXcSLI58-h8', 'display_url': 'youtu.be/bXcSLI58-h8', 'indices': [0, 23]}]}, 'description': {'urls': [{'url': 'https://t.co/oKrhV74Qdz', 'expanded_url': 'http://instagram.com/lilnasx', 'display_url': 'instagram.com/lilnasx', 'indices': [13, 36]}]}}, 'protected': False, 'followers_count': 3643026, 'friends_count': 791, 'listed_count': 1978, 'created_at': 'Fri Jul 15 17:36:29 +0000 2016', 'favourites_count': 40157, 'utc_offset': None, 'time_zone': None, 'geo_enabled': True, 'verified': True, 'statuses_count': 6628, 'lang': None, 'contributors_enabled': False, 'is_translator': False, 'is_translation_enabled': False, 'profile_background_color': 'F5F8FA', 'profile_background_image_url': None, 'profile_background_image_url_https': None, 'profile_background_tile': False, 'profile_image_url': 'http://pbs.twimg.com/profile_images/1112033582569136128/0vZG4q0Y_normal.jpg', 'profile_image_url_https': 'https://pbs.twimg.com/profile_images/1112033582569136128/0vZG4q0Y_normal.jpg', 'profile_banner_url': 'https://pbs.twimg.com/profile_banners/754006735468261376/1553964576', 'profile_link_color': '1DA1F2', 'profile_sidebar_border_color': 'C0DEED', 'profile_sidebar_fill_color': 'DDEEF6', 'profile_text_color': '333333', 'profile_use_background_image': True, 'has_extended_profile': True, 'default_profile': True, 'default_profile_image': False, 'following': False, 'follow_request_sent': False, 'notifications': False, 'translator_type': 'none'}, id=754006735468261376, id_str='754006735468261376', name='nope', screen_name='LilNasX', location='la', description='AYE PANINI \\U0001f929 https://t.co/oKrhV74Qdz @igottabluecoat', url='https://t.co/NmHdgXhhZo', entities={'url': {'urls': [{'url': 'https://t.co/NmHdgXhhZo', 'expanded_url': 'https://youtu.be/bXcSLI58-h8', 'display_url': 'youtu.be/bXcSLI58-h8', 'indices': [0, 23]}]}, 'description': {'urls': [{'url': 'https://t.co/oKrhV74Qdz', 'expanded_url': 'http://instagram.com/lilnasx', 'display_url': 'instagram.com/lilnasx', 'indices': [13, 36]}]}}, protected=False, followers_count=3643026, friends_count=791, listed_count=1978, created_at=datetime.datetime(2016, 7, 15, 17, 36, 29), favourites_count=40157, utc_offset=None, time_zone=None, geo_enabled=True, verified=True, statuses_count=6628, lang=None, contributors_enabled=False, is_translator=False, is_translation_enabled=False, profile_background_color='F5F8FA', profile_background_image_url=None, profile_background_image_url_https=None, profile_background_tile=False, profile_image_url='http://pbs.twimg.com/profile_images/1112033582569136128/0vZG4q0Y_normal.jpg', profile_image_url_https='https://pbs.twimg.com/profile_images/1112033582569136128/0vZG4q0Y_normal.jpg', profile_banner_url='https://pbs.twimg.com/profile_banners/754006735468261376/1553964576', profile_link_color='1DA1F2', profile_sidebar_border_color='C0DEED', profile_sidebar_fill_color='DDEEF6', profile_text_color='333333', profile_use_background_image=True, has_extended_profile=True, default_profile=True, default_profile_image=False, following=False, follow_request_sent=False, notifications=False, translator_type='none'), geo=None, coordinates=None, place=None, contributors=None, is_quote_status=False, retweet_count=32880, favorite_count=269665, favorited=False, retweeted=False, lang='en')"
      ]
     },
     "execution_count": 5,
     "metadata": {},
     "output_type": "execute_result"
    }
   ],
   "source": [
    "tweets[0]"
   ]
  },
  {
   "cell_type": "code",
   "execution_count": 6,
   "metadata": {},
   "outputs": [
    {
     "data": {
      "text/plain": [
       "datetime.datetime(2020, 1, 1, 23, 44, 9)"
      ]
     },
     "execution_count": 6,
     "metadata": {},
     "output_type": "execute_result"
    }
   ],
   "source": [
    "tweets[0].created_at"
   ]
  },
  {
   "cell_type": "code",
   "execution_count": null,
   "metadata": {},
   "outputs": [],
   "source": []
  }
 ],
 "metadata": {
  "kernelspec": {
   "display_name": "Python 3",
   "language": "python",
   "name": "python3"
  },
  "language_info": {
   "codemirror_mode": {
    "name": "ipython",
    "version": 3
   },
   "file_extension": ".py",
   "mimetype": "text/x-python",
   "name": "python",
   "nbconvert_exporter": "python",
   "pygments_lexer": "ipython3",
   "version": "3.6.9"
  }
 },
 "nbformat": 4,
 "nbformat_minor": 2
}
