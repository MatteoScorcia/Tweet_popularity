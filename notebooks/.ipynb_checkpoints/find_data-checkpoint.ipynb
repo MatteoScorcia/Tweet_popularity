{
 "cells": [
  {
   "cell_type": "code",
   "execution_count": null,
   "metadata": {},
   "outputs": [],
   "source": [
    "import tweepy\n",
    "import csv #Import csv\n",
    "auth = tweepy.auth.OAuthHandler('erVnvFBufVKmHpL9aT0PuqdjM',\n",
    "                                '3ZG8vfIsrw1LfsczN9A4ozi5oRCZnU8A1KzjahyjqYTdMHxjXu')\n",
    "auth.set_access_token('1202142478952009728-y8fECbCqWcVaG8x4ePe31pJ6hSEGJB',\n",
    "                        '63cd5LlfDVuPLDdef3RHWNgGh76o2xAXCqETx8fuZ2R3S')\n",
    "\n",
    "api = tweepy.API(auth)\n",
    "\n",
    "# Open/create a file to append data to\n",
    "csvFile = open('prova.csv', 'a')\n",
    "\n",
    "#Use csv writer\n",
    "csvWriter = csv.writer(csvFile)\n",
    "\n",
    "tweets = []\n",
    "ratios = []\n",
    "\n",
    "for tweet in tweepy.Cursor(api.search,\n",
    "                           q = \"food\", #-filter:retweets\n",
    "                           include_entities=True,\n",
    "                           since = '2019-12-20',\n",
    "                           until = '2020-01-05',\n",
    "                           result_type='popular',\n",
    "                           lang = \"en\").items(100):\n",
    "\n",
    "    tweets.append(tweet)\n",
    "\n",
    "    if tweet.user.followers_count == 0:\n",
    "        continue\n",
    "\n",
    "    ratio = (tweet.favorite_count) / tweet.user.followers_count\n",
    "    ratios.append(ratio)\n",
    "\n",
    "    # Write a row to the CSV file. I use encode UTF-8\n",
    "    csvWriter.writerow([tweet.user.name, tweet.created_at, tweet.text.encode('utf-8'), tweet.favorite_count])\n",
    "csvFile.close()\n",
    "\n",
    "print(ratios)\n"
   ]
  }
 ],
 "metadata": {
  "kernelspec": {
   "display_name": "Python 3",
   "language": "python",
   "name": "python3"
  },
  "language_info": {
   "codemirror_mode": {
    "name": "ipython",
    "version": 3
   },
   "file_extension": ".py",
   "mimetype": "text/x-python",
   "name": "python",
   "nbconvert_exporter": "python",
   "pygments_lexer": "ipython3",
   "version": "3.6.9"
  }
 },
 "nbformat": 4,
 "nbformat_minor": 2
}
